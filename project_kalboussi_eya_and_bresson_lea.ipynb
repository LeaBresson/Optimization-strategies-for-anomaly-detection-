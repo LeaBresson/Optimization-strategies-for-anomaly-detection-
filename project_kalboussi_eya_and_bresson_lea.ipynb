{
 "cells": [
  {
   "cell_type": "markdown",
   "metadata": {},
   "source": [
    "# PROJECT: Course Optimization for Data Science\n",
    "## Optimization strategies for anomaly detection\n",
    "## with One class Support Vector Machines (OCSVM)"
   ]
  },
  {
   "cell_type": "markdown",
   "metadata": {},
   "source": [
    "Author: Alexandre Gramfort\n",
    "\n",
    "If you have questions or if something is not clear in the text below please contact us\n",
    "by email.\n",
    "\n",
    "## Aim:\n",
    "\n",
    "- derive the dual for the one-class SVM model\n",
    "- implement a one-class SVM using a blackbox convex toolbox (cvxopt in Python)\n",
    "- implement your own solvers with: Proximal gradient, Coordinate Descent, Quasi-Newton\n",
    "- Present a clear benchmark of the different strategies on small and medium scale datasets\n",
    "\n",
    "\n",
    "## VERY IMPORTANT\n",
    "\n",
    "This work must be done by pairs of students.\n",
    "Each student must send their work before the 7th of January at 23:59, using the moodle platform.\n",
    "This means that **each student in the pair sends the same file**\n",
    "\n",
    "On the moodle, in the \"Optimization for Data Science\" course, you have a \"devoir\" section called \"Project\".\n",
    "This is where you submit your jupyter notebook file.\n",
    "\n",
    "The name of the file must be constructed as in the next cell\n",
    "\n",
    "### Gentle reminder: no evaluation if you don't respect this EXACTLY\n",
    "\n",
    "#### How to construct the name of your file"
   ]
  },
  {
   "cell_type": "code",
   "execution_count": 1,
   "metadata": {},
   "outputs": [
    {
     "name": "stdout",
     "output_type": "stream",
     "text": [
      "project_kalboussi_eya_and_bresson_lea.ipynb\n"
     ]
    }
   ],
   "source": [
    "# Change here using YOUR first and last names\n",
    "fn1 = \"eya\"\n",
    "ln1 = \"kalboussi\"\n",
    "fn2 = \"lea\"\n",
    "ln2 = \"bresson\"\n",
    "\n",
    "filename = \"_\".join(map(lambda s: s.strip().lower(), \n",
    "                        [\"project\", ln1, fn1, \"and\", ln2, fn2])) + \".ipynb\"\n",
    "print(filename)"
   ]
  },
  {
   "cell_type": "markdown",
   "metadata": {},
   "source": [
    "Some imports"
   ]
  },
  {
   "cell_type": "code",
   "execution_count": 2,
   "metadata": {
    "collapsed": true
   },
   "outputs": [],
   "source": [
    "%matplotlib inline\n",
    "import numpy as np\n",
    "from scipy import linalg\n",
    "import time\n",
    "import matplotlib.pyplot as plt"
   ]
  },
  {
   "cell_type": "markdown",
   "metadata": {},
   "source": [
    "## Important:\n",
    "\n",
    "For Part 0 to Part 2 of the project you will need a working install of `cvxopt`.\n",
    "You may struggle a bit to set it up.\n",
    "The simplest way of getting it is by typing \n",
    "\n",
    "`conda install cvxopt`\n",
    "\n",
    "or\n",
    "\n",
    "`pip install cvxopt`\n",
    "\n",
    "if you have `conda` or `pip` installed on your laptop.\n",
    "If you **struggle too much please\n",
    "contact us**."
   ]
  },
  {
   "cell_type": "markdown",
   "metadata": {},
   "source": [
    "## Part 0: One-class SVM"
   ]
  },
  {
   "cell_type": "markdown",
   "metadata": {},
   "source": [
    "The original formulation of the One-Class SVM introduced by Schölkopf [1] is given by\n",
    "\n",
    "$$\n",
    "    (\\mathcal{P}): \\left\\{\n",
    "\t\\begin{aligned}\n",
    "\t\\min_{w, \\rho, \\xi} & \\quad \\frac{1}{2}\\Vert w \\Vert^2 - \\rho + \\frac{1}{\\nu n} \\sum_{i=1}^n \\xi_i \\\\\n",
    "\t\\text{s.t.} & \\quad \\langle w, x_i \\rangle \\geq \\rho - \\xi_i \\quad 1 \\leq i \\leq n \\\\\n",
    "\t& \\quad \\xi_i \\geq 0 \\quad 1 \\leq i \\leq n\n",
    "\t\\end{aligned}\n",
    "    \\right.\n",
    "$$\n",
    "\n",
    "where $\\nu \\in (0, 1]$ is a user-specified parameter controlling the proportion of outliers and the proportion of support vectors.\n",
    "\n",
    "Getting rid of the slack variables $\\xi_i, 1 \\leq i \\leq n$ one can also obtain the following equivalent optimization problem\n",
    "\n",
    "$$\n",
    "\t\\min_{w, \\rho} \\frac{1}{2}\\Vert w \\Vert^2 - \\rho + \\frac{1}{\\nu n} \\sum_{i=1}^n \\max(0, \\rho - \\langle w, x_i \\rangle) \\, .\n",
    "$$\n",
    "\n",
    "The idea is that the lower is $\\langle w, x_i \\rangle$ is the more $x_i$ is an anomaly and if $\\langle w, x_i \\rangle \\geq \\rho$ then the model predicts the sample is normal. $\\langle w, x_i \\rangle$ corresponds to the decision function and $\\textrm{sign}(\\langle w, x_i \\rangle - \\rho)$ as the prediction (1 means normal sample).\n",
    "\n",
    "[1] Schölkopf et al. Estimating the support of a high-dimensional distribution. Neural Computation. 2001"
   ]
  },
  {
   "cell_type": "markdown",
   "metadata": {},
   "source": [
    "<div class=\"alert alert-success\">\n",
    "    <b>QUESTION 1:</b>\n",
    "     <ul>\n",
    "      <li>Justify that the problem $(\\mathcal{P})$ is convex.</li>\n",
    "    </ul>\n",
    "</div>"
   ]
  },
  {
   "cell_type": "markdown",
   "metadata": {},
   "source": [
    "\n",
    "First, the function $f:(w, \\rho, \\xi) \\rightarrow \\frac{1}{2}\\Vert w \\Vert^2 - \\rho + \\frac{1}{\\nu n} \\sum_{i=1}^n \\xi_i $ is convex since it is a quadratic function.\n",
    "\n",
    "\n",
    "\n",
    "Let $ C = \\{w, \\rho, \\xi \\: | \\:  \\langle w, x_i \\rangle  - \\rho +  \\xi_i   \\geq 0,   \\xi_i \\geq 0 \\text{ for } 1 \\leq i \\leq n  \\}$. \n",
    "\n",
    "- $\\langle w, x_i \\rangle  - \\rho +  \\xi_i   \\geq 0$ is an affine function thus it is convex.\n",
    "- $\\xi_i \\geq 0 $ is also an affine function thus it is convex.\n",
    "\n",
    "\n",
    "To conclude, since both $f$ and the inequality constraints are convex, the problem ($\\mathcal{P}$) is convex."
   ]
  },
  {
   "cell_type": "markdown",
   "metadata": {},
   "source": [
    "<div class=\"alert alert-success\">\n",
    "    <b>QUESTION 2:</b>\n",
    "     <ul>\n",
    "      <li>\n",
    "      By looking at the saddle points of the Lagrangian $\\mathcal{L}(w, \\rho, \\mu)$ of $\\mathcal{P}$, $\\mu \\in \\mathbb{R}_+^n$, show that the dual problem $(\\mathcal{D})$ can be written as:\n",
    "$$\n",
    "(\\mathcal{D}): \n",
    " \\left\\{\n",
    " \\begin{array}{lll}\n",
    " \\min_{\\mu} &\\frac{1}{2}\\mu^{\\top}GG^{t}\\mu\n",
    " \\\\\n",
    " \\mathrm{s.t.}& \\mu^{\\top}1_n = 1\n",
    " \\\\\n",
    " \\mathrm{and}& 0 \\leq \\mu \\leq \\frac{1}{\\nu n}\n",
    " \\end{array}\n",
    " \\right .\n",
    "$$\n",
    "\n",
    "with\n",
    "\n",
    "$$\n",
    " G = \\begin{bmatrix}x_{1}^{\\top} \\\\ \\vdots \\\\ x_{n}^{\\top}\\end{bmatrix}\n",
    "$$\n",
    "\n",
    "and $1_n = (1, \\dots, 1) \\in \\mathbb{R}^n$.\n",
    "    </li>\n",
    "    </ul>\n",
    "</div>\n",
    "\n",
    "We will **assume here qualification of the contraints** and that **strong duality holds**.\n",
    "\n",
    "**Remark:** The problem $(\\mathcal{D})$ is a *quadratic program* (QP) for which their exist off-the-shelf techniques. See below."
   ]
  },
  {
   "cell_type": "markdown",
   "metadata": {},
   "source": [
    "The Lagrangien of the Primal problem is the function $ \\mathcal{L} : \\mathcal{R}^n \\times \\mathcal{R}_+^n \\rightarrow \\mathcal{R} $: \n",
    "$$ \\mathcal{L}(w,\\rho,\\mu, \\lambda) = \\frac{1}{2}\\Vert w \\Vert^2 - \\rho + \\frac{1}{\\nu n} \\sum_{i=1}^n \\xi_i - \\sum_{i=1}^n \\mu_i ( \\langle w, x_i \\rangle - \\rho + \\xi_i ) - \\sum_{i=1}^n \\lambda_i \\xi_i $$\n",
    "with Lagrange multipliers $ \\mu_i \\geq 0 $ and $\\lambda_i \\geq 0 $.\n",
    "\n",
    "\n",
    "It can be rewritten as: \n",
    "$$ \\mathcal{L}(w,\\rho,\\mu, \\lambda) = \\frac{1}{2} w^T w - \\rho +  \\frac{1}{\\nu n}  \\xi - \\mu^T ( G w - \\rho + \\xi ) - \\lambda^T \\xi $$\n",
    "\n",
    "\n",
    "$$ \\Leftrightarrow \\mathcal{L}(w,\\rho,\\mu, \\lambda) = \\frac{1}{2} w^T w - \\rho + ( \\frac{1}{\\nu n}  - \\lambda^T) \\xi - \\mu^T ( G w - \\rho + \\xi ) $$\n",
    "\n",
    "with\n",
    "$\n",
    " G = \\begin{bmatrix}x_{1}^{\\top} \\\\ \\vdots \\\\ x_{n}^{\\top}\\end{bmatrix}.\n",
    "$\n",
    "\n",
    "The Karush Kuhn et Tucker conditions are:\n",
    "- $ G w - \\rho + \\xi \\le 0 $ (primal constraint),\n",
    "\n",
    "- $ \\mu \\in \\mathcal{R}_+^n $    (dual constraint),\n",
    "\n",
    "- $ \\mu^T ( G w - \\rho + \\xi ) = 0 $  (complementarity),\n",
    "\n",
    "- $ \\nabla \\mathcal{L} = 0$ (stationarity)  .\n",
    "\n",
    "\n",
    "The stationarity condition implies :\n",
    "\n",
    "\n",
    "\n",
    "$\\frac{\\partial \\mathcal{L}(w,\\rho,\\mu, \\lambda)} { \\partial w } = w - G^T \\mu =0 \\Rightarrow w = G^T \\mu $\n",
    " \n",
    "$\\frac{\\partial \\mathcal{L}(w,\\rho,\\mu, \\lambda)} { \\partial \\rho } = -1 + \\mu^T \\mathbb{1}_n = 0 \\Rightarrow \\mu^T \\mathbb{1}_n = 1.$\n",
    " \n",
    "$\\frac{\\partial \\mathcal{L}(w,\\rho,\\mu, \\lambda)} {\\partial \\xi} = (\\frac{1}{\\nu n} \\mathbb{1}_n^T - \\lambda^T) \\mathbb{1}_n - \\mu^T \\mathbb{1}_n = 0 \\Rightarrow \\frac{1}{\\nu n} \\mathbb{1}_n^T - \\lambda^T - \\mu^T = 0 $\n",
    "\n",
    " \n",
    "The dual problem $\\mathcal{D}$ associated to the primal problem $\\mathcal{P}$ is: $$ \\max_{\\mu \\in R_+^n} \\inf_{w} \\quad  \\mathcal{L}(w,\\rho,\\mu) $$\n",
    "\n",
    "Using the stationnary condition on $w$:\n",
    "$$\\Leftrightarrow \\max_{\\mu \\in R_+^n}\\quad   \\frac{-1}{2} \\mu ^T GG^T\\mu - ( 1 -  \\mu^T\\mathbb{1}_n)\\rho +  (\\frac{1}{\\nu n}  - \\lambda^T - \\mu^T) \\xi $$\n",
    "\n",
    "\n",
    "\n",
    "$\\Leftrightarrow$\n",
    "$\n",
    "    \\left\\{\n",
    "\t\\begin{aligned}\n",
    "\t\\max_{\\mu \\in R_+^n} & \\quad \\frac{-1}{2} \\mu^TGG^T\\mu \\\\\n",
    "\t\\text{s.t.} & \\quad \\mu^T \\mathbb{1}_n = 1 \\\\\n",
    "    & \\quad \\frac{1}{\\nu n} \\mathbb{1}_n^T - \\lambda^T - \\mu^T = 0 \n",
    "\t\\end{aligned}\n",
    "    \\right.\n",
    "$\n",
    "$\\Leftrightarrow $\n",
    " $   \\left\\{\n",
    "\t\\begin{aligned}\n",
    "\t\\min_{\\mu \\in R_+^n} & \\quad \\frac{1}{2} \\mu^TGG^T\\mu  \\\\\n",
    "\t\\text{s.t.} & \\quad \\mu^T \\mathbb{1}_n = 1\\\\\n",
    "    & \\quad \\frac{1}{\\nu n} \\mathbb{1}_n^T - \\lambda^T - \\mu^T = 0 \n",
    "\t\\end{aligned}\n",
    "    \\right.\n",
    "$\n",
    "\n",
    "However, given $\\lambda, \\mu \\in \\mathcal{R}_+^n $, the third stationnary condition can be replaced by the following constraint:\n",
    "$$\n",
    "\\frac{1}{\\nu n} \\mathbb{1}_n^T - \\mu^T = \\lambda^T \\geq 0 \\rightarrow 0 \\leq \\mu \\leq \\frac{1}{\\nu n}\n",
    "$$\n",
    "\n",
    "Finally, we have:\n",
    "$$\n",
    "    (\\mathcal{D}): \n",
    "    \\left\\{\n",
    "\t\\begin{aligned}\n",
    "\t\\min_{\\mu \\in R_+^n} & \\quad \\frac{1}{2} \\mu^TGG^T\\mu \\\\\n",
    "\t\\text{s.t.} & \\quad \\mu^T \\mathbb{1}_n = 1 \\\\\n",
    "    & \\quad 0 \\leq \\mu \\leq \\frac{1}{\\nu n}  \n",
    "\t\\end{aligned}\n",
    "    \\right.\n",
    "$$"
   ]
  },
  {
   "cell_type": "markdown",
   "metadata": {},
   "source": [
    "<div class=\"alert alert-success\">\n",
    "    <b>QUESTION 3:</b>\n",
    "     <ul>\n",
    "     <li>Justify that given the estimated $\\mu$, the prediction function for a new sample $x$ (-1 if anomaly else 1) is given by:\n",
    "        $$\n",
    "        y = \\mathrm{sign}(\\sum_{i=1}^{n} \\mu_i x_i^\\top x - \\rho) \\enspace .\n",
    "        $$\n",
    "        The vector $w$ is therefore equal to $\\sum_{i=1}^{n} \\mu_i x_i$\n",
    "    </li>\n",
    "    </ul>\n",
    "</div>"
   ]
  },
  {
   "cell_type": "markdown",
   "metadata": {},
   "source": [
    "The prediction function is $ y = \\textrm{sign}(\\langle w, x_i \\rangle - \\rho)$.\n",
    "\n",
    "We know (from Question 2) that at the optimum $w^* = G^T \\mu  = \\sum_{i = 1}^n \\mu_i x_i$.\n",
    "\n",
    "Hence, the prediction function for a new sample x is: $$y =  \\mathrm{sign}(\\sum_{i=1}^{n} \\mu_i x_i^\\top x - \\rho) .$$"
   ]
  },
  {
   "cell_type": "markdown",
   "metadata": {},
   "source": [
    "## Part 1: Implementation of solver using cvxopt"
   ]
  },
  {
   "cell_type": "markdown",
   "metadata": {},
   "source": [
    "Let's make a toy dataset in dimension 2. When using a linear kernel we need all samples to have positive values and the outliers to be close to the origin."
   ]
  },
  {
   "cell_type": "code",
   "execution_count": 3,
   "metadata": {},
   "outputs": [
    {
     "data": {
      "image/png": "[encoded data removed]",
      "text/plain": [
       "<matplotlib.figure.Figure at 0x110a12908>"
      ]
     },
     "metadata": {},
     "output_type": "display_data"
    }
   ],
   "source": [
    "def make_dataset(n_samples, contamination=0.05, random_state=42):\n",
    "    rng = np.random.RandomState(random_state)\n",
    "    X_inliers = rng.uniform(low=2, high=5, size=(int(n_samples * (1 - contamination)), 2))\n",
    "    X_outliers = rng.uniform(low=0, high=1, size=(int(n_samples * contamination), 2))\n",
    "    X = np.concatenate((X_inliers, X_outliers), axis=0)\n",
    "    rng.shuffle(X)\n",
    "    return X\n",
    "\n",
    "X = make_dataset(500)\n",
    "plt.scatter(X[:, 0], X[:, 1], color='b');"
   ]
  },
  {
   "cell_type": "markdown",
   "metadata": {},
   "source": [
    "- The following function qp allows to solve a quadratic problem of the form:\n",
    "\n",
    "$$\n",
    "\\left\\{\n",
    "  \\begin{array}{cll}\n",
    "  &\\min_{(x)} \\frac{1}{2}x^{\\top} P x + q^\\top x\n",
    "  \\\\\n",
    "   & \\textrm{s.t.}\\; A x = b, 0 \\leq x \\leq C.\n",
    "  \\end{array}\n",
    "  \\right.\n",
    "$$\n",
    "\n",
    "See documentation: http://cvxopt.org/userguide/coneprog.html#quadratic-programming"
   ]
  },
  {
   "cell_type": "code",
   "execution_count": 4,
   "metadata": {
    "collapsed": true
   },
   "outputs": [],
   "source": [
    "import cvxopt\n",
    "\n",
    "\n",
    "def qp(P, q, A , b  , C, verbose=True, Condition = True):\n",
    "    # Gram matrix\n",
    "    n = P.shape[0]\n",
    "    P = cvxopt.matrix(P)\n",
    "    q = cvxopt.matrix(q)\n",
    "    G = cvxopt.matrix(np.concatenate([np.diag(np.ones(n) * -1),\n",
    "                                     np.diag(np.ones(n))], axis=0))\n",
    "    if Condition :\n",
    "        A = cvxopt.matrix(A)\n",
    "        b = cvxopt.matrix(b)\n",
    "    \n",
    "    h = cvxopt.matrix(np.concatenate([np.zeros(n), C * np.ones(n)]))\n",
    "        \n",
    "\n",
    "    # Solve QP problem\n",
    "    cvxopt.solvers.options['show_progress'] = verbose\n",
    "    if Condition:\n",
    "        solution = cvxopt.solvers.qp(P, q, G, h, A, b, solver='mosec')\n",
    "    else: \n",
    "        solution = cvxopt.solvers.qp(P, q, G, h, solver='mosec')\n",
    "    \n",
    " \n",
    "    return np.ravel(solution['x'])"
   ]
  },
  {
   "cell_type": "markdown",
   "metadata": {},
   "source": [
    "Definition of the linear kernel:"
   ]
  },
  {
   "cell_type": "code",
   "execution_count": 5,
   "metadata": {
    "collapsed": true
   },
   "outputs": [],
   "source": [
    "def kernel(X1, X2):\n",
    "    n1 = X1.shape[0]\n",
    "    n2 = X2.shape[0]\n",
    "    K = np.empty((n1, n2))\n",
    "    for i in range(n1):\n",
    "        for j in range(n2):\n",
    "            K[i, j] = np.dot(X1[i], X2[j])\n",
    "    return K"
   ]
  },
  {
   "cell_type": "markdown",
   "metadata": {},
   "source": [
    "**Remark:** You can use `sklearn.metrics.pairwise_distances` to avoid the for loops and make it faster."
   ]
  },
  {
   "cell_type": "markdown",
   "metadata": {},
   "source": [
    "<div class=\"alert alert-success\">\n",
    "    <b>QUESTION 4:</b>\n",
    "     <ul>\n",
    "      <li>Modify the following cell to solve the One-Class SVM dual problem.</li>\n",
    "    </ul>\n",
    "</div>"
   ]
  },
  {
   "cell_type": "code",
   "execution_count": 6,
   "metadata": {},
   "outputs": [
    {
     "name": "stdout",
     "output_type": "stream",
     "text": [
      "Number of support vectors: 50\n"
     ]
    }
   ],
   "source": [
    "def ocsvm_solver(K, nu=0.1):\n",
    "\n",
    "    n = K.shape[0]\n",
    "    P = K\n",
    "    q = np.zeros(n)\n",
    "    A = np.ones((1, n))\n",
    "    b = np.ones(1)\n",
    "    C = 1 / (nu * n)\n",
    "    mu = qp(P, q, A, b, C, verbose=False)\n",
    "    idx_support = np.where(np.abs(mu) > 1e-5)[0]\n",
    "    mu_support = mu[idx_support]\n",
    "    \n",
    "    return mu_support, idx_support\n",
    "\n",
    "K = kernel(X, X)\n",
    "\n",
    "# Uncomment the following lines when your ocsvm_solver is completed:\n",
    "mu_support, idx_support = ocsvm_solver(K)\n",
    "print(\"Number of support vectors: %s\" % idx_support.size)"
   ]
  },
  {
   "cell_type": "markdown",
   "metadata": {},
   "source": [
    "<div class=\"alert alert-success\">\n",
    "    <b>QUESTION 5:</b>\n",
    "     <ul>\n",
    "      <li>Compute w using mu.</li>\n",
    "    </ul>\n",
    "</div>"
   ]
  },
  {
   "cell_type": "markdown",
   "metadata": {},
   "source": [
    "We know from Question 2 that at the optimum $w = G^T \\mu  = \\sum_{i = 1}^n \\mu_i x_i$."
   ]
  },
  {
   "cell_type": "code",
   "execution_count": 7,
   "metadata": {},
   "outputs": [
    {
     "data": {
      "text/plain": [
       "array([ 1.37631398,  1.37252753])"
      ]
     },
     "execution_count": 7,
     "metadata": {},
     "output_type": "execute_result"
    }
   ],
   "source": [
    "X_support = X[idx_support]\n",
    "w = X_support.T.dot(mu_support)\n",
    "w"
   ]
  },
  {
   "cell_type": "markdown",
   "metadata": {},
   "source": [
    "<div class=\"alert alert-success\">\n",
    "    <b>QUESTION 6:</b>\n",
    "     <ul>\n",
    "      <li>Using complementary slackness, explain how to obtain $\\rho$ from $\\mu$.</li>\n",
    "    </ul>\n",
    "</div>\n",
    "\n",
    "**HINT:** Use the fact that for all support vectors for which $0 < \\mu_i < \\frac{1}{\\nu n}$ one has $w^{t}x_{i} = \\rho$."
   ]
  },
  {
   "cell_type": "markdown",
   "metadata": {},
   "source": [
    "Let us consider both the Primal and Dual problem studied above:\n",
    "\n",
    "$$\n",
    "    (\\mathcal{P}): \\left\\{\n",
    "\t\\begin{aligned}\n",
    "\t\\min_{w, \\rho, \\xi} & \\quad \\frac{1}{2}\\Vert w \\Vert^2 - \\rho + \\frac{1}{\\nu n} \\sum_{i=1}^n \\xi_i \\\\\n",
    "\t\\text{s.t.} & \\quad \\langle w, x_i \\rangle \\geq \\rho - \\xi_i \\quad 1 \\leq i \\leq n \\\\\n",
    "\t& \\quad \\xi_i \\geq 0 \\quad 1 \\leq i \\leq n\n",
    "\t\\end{aligned}\n",
    "    \\right.\n",
    "$$\n",
    "\n",
    "$$\n",
    "(\\mathcal{D}): \n",
    " \\left\\{\n",
    " \\begin{array}{lll}\n",
    " \\min_{\\mu} &\\frac{1}{2}\\mu^{\\top}GG^{t}\\mu\n",
    " \\\\\n",
    " \\mathrm{s.t.}& \\mu^{\\top}1_n = 1\n",
    " \\\\\n",
    " \\mathrm{and}& 0 \\leq \\mu \\leq \\frac{1}{\\nu n}\n",
    " \\end{array}\n",
    " \\right .\n",
    "$$"
   ]
  },
  {
   "cell_type": "markdown",
   "metadata": {},
   "source": [
    "Let x be the solution of problem $(\\mathcal{P})$ and $\\mu$ the solution of problem $(\\mathcal{D})$.\n",
    "\n",
    "Complementary slackness allows us to consider the variable $x_j$  in the primal problem equal to 0 if the $j^{th}$ constraint in $(\\mathcal{D})$ is not binding. \n",
    "Therefore, if there exists $i$ such that $0<\\mu_i<\\frac{1}{\\nu n}$ then the second constraint of the dual problem is not binding and $\\xi_i = 0$. In addition, if $\\mu_i$ is greater than 0, then the $i^{th}$ constraint in $(\\mathcal{P})$ is binding, i.e. $\\langle w, x_i \\rangle = \\rho - \\xi_i$.\n",
    "\n",
    "Consequently,\n",
    "$$\n",
    "\\xi _i = 0\n",
    "\\rightarrow \\rho = \\langle w, x_i \\rangle = x_i^T \\mu x\n",
    "$$\n",
    "\n",
    "\n",
    "To compute $\\rho$, we have to find $\\mu_i $ such that $\\mu_i < \\frac{1}{\\nu n}$.\n",
    "\n"
   ]
  },
  {
   "cell_type": "code",
   "execution_count": 8,
   "metadata": {
    "collapsed": true
   },
   "outputs": [],
   "source": [
    "def compute_rho(K, mu_support, idx_support):\n",
    "\n",
    "    K_support = K[idx_support][:, idx_support]\n",
    "    idx_constraint = np.argmin(mu_support) \n",
    "    rho = mu_support.dot(K_support)[idx_constraint]\n",
    "    \n",
    "    return rho\n",
    "\n",
    "\n",
    "Compute_rho = compute_rho(K, mu_support, idx_support)"
   ]
  },
  {
   "cell_type": "markdown",
   "metadata": {},
   "source": [
    "<div class=\"alert alert-success\">\n",
    "    <b>QUESTION 7:</b>\n",
    "     <ul>\n",
    "      <li>Verify that you find the same values as what scikit-learn gives. You should have the same support vectors and:\n",
    "\n",
    "\n",
    "`rho = -ocsvm.intercept_[0] / (ocsvm.nu * len(K))`\n",
    "\n",
    "and `mu_support = ocsvm.dual_coef_.ravel() / (ocsvm.nu * len(K))`</li>\n",
    "    </ul>\n",
    "</div>"
   ]
  },
  {
   "cell_type": "code",
   "execution_count": 9,
   "metadata": {},
   "outputs": [
    {
     "name": "stdout",
     "output_type": "stream",
     "text": [
      "nu =  0.1342281879194631\n",
      "[  4  23  66  72  90  92 109 113]\n",
      "[  4  23  66  72  90  92 109 113]\n",
      "Check rho 2.16400352023\n",
      "Check rho 2.16400355501\n",
      "[ 0.13422819  0.13422819  0.06040268  0.13422819  0.13422819  0.13422819\n",
      "  0.13422819  0.13422819]\n",
      "[ 0.13422819  0.13422819  0.06040268  0.13422819  0.13422819  0.13422819\n",
      "  0.13422819  0.13422819]\n"
     ]
    }
   ],
   "source": [
    "from sklearn.utils.testing import assert_array_almost_equal\n",
    "from sklearn.utils.testing import assert_almost_equal\n",
    "from sklearn.svm import OneClassSVM\n",
    "\n",
    "X = make_dataset(150)\n",
    "\n",
    "ocsvm = OneClassSVM(kernel='linear', nu=0.05)\n",
    "ocsvm.fit(X)\n",
    "\n",
    "K = kernel(X, X)\n",
    "mu_support, idx_support = ocsvm_solver(K, nu = ocsvm.nu)\n",
    "rho = compute_rho(K, mu_support, idx_support)\n",
    "\n",
    "print('nu = ',1/(0.05*K.shape[0]))\n",
    "\n",
    "# Check indices of support vectors\n",
    "print(ocsvm.support_)\n",
    "print(idx_support)\n",
    "\n",
    "# Check rho\n",
    "print('Check rho',rho)\n",
    "print('Check rho',-ocsvm.intercept_[0] / (ocsvm.nu * len(K)))\n",
    "\n",
    "# Check dual variables\n",
    "print(mu_support)\n",
    "print(ocsvm.dual_coef_.ravel() / (ocsvm.nu * len(K)))\n",
    "\n",
    "# Run formal tests:\n",
    "assert_array_almost_equal(ocsvm.support_, idx_support)\n",
    "assert_almost_equal(rho, -ocsvm.intercept_[0] / (ocsvm.nu * len(K)))\n",
    "assert_array_almost_equal(mu_support, ocsvm.dual_coef_.ravel() / (ocsvm.nu * len(K)))"
   ]
  },
  {
   "cell_type": "markdown",
   "metadata": {},
   "source": [
    "Check your code by running the following cell:"
   ]
  },
  {
   "cell_type": "code",
   "execution_count": 10,
   "metadata": {},
   "outputs": [
    {
     "data": {
      "image/png": "[encoded data removed]",
      "text/plain": [
       "<matplotlib.figure.Figure at 0x111efde48>"
      ]
     },
     "metadata": {},
     "output_type": "display_data"
    }
   ],
   "source": [
    "X = make_dataset(300)\n",
    "\n",
    "K = kernel(X, X)\n",
    "mu_support, idx_support = ocsvm_solver(K, nu=0.05)\n",
    "rho = compute_rho(K, mu_support, idx_support)\n",
    "\n",
    "def plot_ocsvm(X, mu_support, idx_support, rho, kernel=kernel):\n",
    "    # Compute decision function on a grid\n",
    "    X1, X2 = np.mgrid[-1:5.1:0.2, -1:5.1:0.2]\n",
    "    na, nb = X1.shape\n",
    "    X_test = np.c_[np.reshape(X1, (na * nb, 1)),\n",
    "                   np.reshape(X2, (na * nb, 1))]\n",
    "\n",
    "    # Compute dot products\n",
    "    X_support = X[idx_support]\n",
    "    G = kernel(X_test, X_support)\n",
    "    # Compute decision function\n",
    "    decision = G.dot(mu_support) - rho\n",
    "\n",
    "    # Compute predict label\n",
    "    y_pred = np.sign(decision)\n",
    "\n",
    "    # Plot decision boundary\n",
    "    plt.plot(X[:,0], X[:, 1], 'or', linewidth=2)\n",
    "    Z = np.reshape(decision, (na, nb))\n",
    "    plt.contourf(X1, X2, Z, 20, cmap=plt.cm.gray)\n",
    "    cs = plt.contour(X1, X2, Z, [0], colors='y', linewidths=2, zorder=10)\n",
    "    plt.xlabel('x1')\n",
    "    plt.ylabel('x2')\n",
    "    plt.xlim([-1, 5])\n",
    "    plt.ylim([-1, 5])\n",
    "\n",
    "plot_ocsvm(X, mu_support, idx_support, rho)"
   ]
  },
  {
   "cell_type": "markdown",
   "metadata": {},
   "source": [
    "<div class=\"alert alert-success\">\n",
    "    <b>QUESTION 8:</b>\n",
    "     <ul>\n",
    "      <li>Without any implementation, can you justify if you can apply any of the algorithm, among proximal gradient, coordinate descent, stochastic gradient descent and L-BFGS to the dual problem?\n",
    "      </li>\n",
    "    </ul>\n",
    "</div>"
   ]
  },
  {
   "cell_type": "markdown",
   "metadata": {},
   "source": [
    "The problem $(\\mathcal{D})$ is a constrained quadratic problem and can be rewritten:\n",
    "$$ \\min_{\\mu} F(\\mu) + g(\\mu) $$\n",
    "where: \n",
    "- $F(\\mu) = \\frac{1}{2}\\mu^{\\top}GG^{t}\\mu $\n",
    "\n",
    "- $g(\\mu) = I_c(\\mu) $ with $ C= \\left \\{ \\mu \\text{  }| \\text{ } \\mu^{\\top}1_n = 1 \\text{ and } 0 \\leq \\mu \\leq \\frac{1}{\\nu n} \\right \\} $\n",
    "\n",
    "\n",
    "\n",
    "\n",
    "- Proximal gradient:\n",
    "\n",
    "The function $g$ is not prox-friendly, hence we cannot use the proximal gradient method.\n",
    "\n",
    "\n",
    "- Coordinate descent: \n",
    "\n",
    "We cannot apply the cordinate descent since the function $g$ is non-separable.\n",
    "\n",
    "- Stochastic gradient descent:  \n",
    "\n",
    "The stochastic gradient descent does not work since $g$ is not separable nor prox-friendly. \n",
    "\n",
    "\n",
    "- L-BFGS : \n",
    "\n",
    "This algorithm is used for smooth unconstrained problems but can be extended to handle simple box constraints. Consequently, L-BFGS can not handle the constraint \"$\\sum_i \\mu_i = 1 $\". We can not apply it.\n",
    "\n",
    "\n",
    "\n",
    "\n",
    "\n",
    "***\n",
    "\n",
    "To conclude, the objective function $F$ is convex, differentiable and smooth but we cannot apply any of the proposed algorithm to solve $(\\mathcal{D})$ because there is a problem with the \"$\\sum_i \\mu_i = 1$\" constraint ($\\rho \\neq$ 0 in the primal)."
   ]
  },
  {
   "cell_type": "markdown",
   "metadata": {},
   "source": [
    "## Part 1: non-linear case with kernels"
   ]
  },
  {
   "cell_type": "markdown",
   "metadata": {},
   "source": [
    "Another scenario is when the boundary between normal samples and outliers is not linear.\n",
    "\n",
    "To cope with this the idea is to use kernels.\n",
    "\n",
    "<div class=\"alert alert-success\">\n",
    "    <b>QUESTION 9:</b>\n",
    "     <ul>\n",
    "      <li>Denoting by $K(x_i, x_j)$ the dot product between samples show that dual problem and the decision function f(x) can be reformulated just using calls to $K$\n",
    "      </li>\n",
    "    </ul>\n",
    "</div>"
   ]
  },
  {
   "cell_type": "markdown",
   "metadata": {},
   "source": [
    "The dual problem can be reformulated as follow: \n",
    "\n",
    "$\n",
    "(\\mathcal{D}): \n",
    " \\left\\{\n",
    " \\begin{array}{lll}\n",
    " \\min_{\\mu_i} &\\frac{1}{2} \\sum_{i,j} \\mu_i  \\mu_j K(x_i,x_j)\n",
    " \\\\\n",
    " \\mathrm{s.t.}& \\sum_i \\mu_i = 1\n",
    " \\\\\n",
    " \\mathrm{and}& 0 \\leq \\mu_i \\leq \\frac{1}{\\nu n}\n",
    " \\end{array}\n",
    " \\right .\n",
    "$\n",
    "\n",
    "$$\n",
    "\\Leftrightarrow\n",
    "(\\mathcal{D}): \n",
    " \\left\\{\n",
    " \\begin{array}{lll}\n",
    " \\min_{\\mu} &\\frac{1}{2}\\mu^{\\top}K\\mu\n",
    " \\\\\n",
    " \\mathrm{s.t.}& \\mu^{\\top}1_n = 1\n",
    " \\\\\n",
    " \\mathrm{and}& 0 \\leq \\mu \\leq \\frac{1}{\\nu n}\n",
    " \\end{array}\n",
    " \\right .\n",
    "$$\n",
    "\n",
    "It is the \"kernel trick\": the outcome of the decision function only relies on the dot product of the vectors in the feature space, it is not necessary to perform an explicit projection to this space.\n",
    "\n",
    "\n",
    "The decision function is : $ y = \\mathrm{sign}(\\sum_{i=1}^{n} \\mu_i K(x_i, x) - \\rho) \\enspace $.\n"
   ]
  },
  {
   "cell_type": "markdown",
   "metadata": {},
   "source": [
    "We will use another dataset to evaluate this:"
   ]
  },
  {
   "cell_type": "code",
   "execution_count": 11,
   "metadata": {},
   "outputs": [
    {
     "data": {
      "image/png": "[encoded data removed]",
      "text/plain": [
       "<matplotlib.figure.Figure at 0x114476390>"
      ]
     },
     "metadata": {},
     "output_type": "display_data"
    }
   ],
   "source": [
    "def make_blob_dataset(n_samples, contamination=0.05, random_state=42):\n",
    "    rng = np.random.RandomState(random_state)\n",
    "    X_inliers = 0.3 * rng.normal(size=(int(n_samples * (1. - contamination)), 2)) + 2\n",
    "    X_outliers = rng.uniform(low=-1, high=5, size=(int(n_samples * contamination), 2))\n",
    "    X = np.concatenate((X_inliers, X_outliers), axis=0)\n",
    "    rng.shuffle(X)\n",
    "    return X\n",
    "\n",
    "X = make_blob_dataset(300)\n",
    "plt.scatter(X[:, 0], X[:, 1], color='b');"
   ]
  },
  {
   "cell_type": "markdown",
   "metadata": {},
   "source": [
    "<div class=\"alert alert-success\">\n",
    "    <b>QUESTION 10:</b>\n",
    "     <ul>\n",
    "      <li>Update your kernel function so it computes the Gaussian kernel:\n",
    "      \n",
    "        $$\n",
    "            K(x_i, x_j) = \\exp(-\\gamma \\| x_i - x_j \\|^2)\n",
    "        $$\n",
    "\n",
    "        where $\\gamma > 0$ is the kernel bandwidth.\n",
    "      </li>\n",
    "    </ul>\n",
    "</div>"
   ]
  },
  {
   "cell_type": "code",
   "execution_count": 12,
   "metadata": {
    "collapsed": true
   },
   "outputs": [],
   "source": [
    "from scipy import linalg\n",
    "\n",
    "def rbf_kernel(X1, X2):\n",
    "    n1 = X1.shape[0]\n",
    "    n2 = X2.shape[0]\n",
    "    K = np.empty((n1, n2))\n",
    "    gamma = .3\n",
    "    for i in range(n1):\n",
    "        for j in range(n2):\n",
    "            K[i, j] = np.exp(-gamma * (np.linalg.norm(X1[i]-X2[j])**2))\n",
    "    return K"
   ]
  },
  {
   "cell_type": "markdown",
   "metadata": {},
   "source": [
    "Using the change above the follwing code should allow you to nicely separate the dense region from the outliers"
   ]
  },
  {
   "cell_type": "code",
   "execution_count": 13,
   "metadata": {},
   "outputs": [
    {
     "data": {
      "image/png": "[encoded data removed]",
      "text/plain": [
       "<matplotlib.figure.Figure at 0x11f8dd780>"
      ]
     },
     "metadata": {},
     "output_type": "display_data"
    }
   ],
   "source": [
    "X = make_blob_dataset(150)\n",
    "\n",
    "K = rbf_kernel(X, X)\n",
    "mu_support, idx_support = ocsvm_solver(K, nu=0.1)\n",
    "rho = compute_rho(K, mu_support, idx_support)\n",
    "\n",
    "plot_ocsvm(X, mu_support, idx_support, rho, kernel=rbf_kernel)"
   ]
  },
  {
   "cell_type": "markdown",
   "metadata": {},
   "source": [
    "## Part 2: One-class SVM without $\\rho$\n",
    "\n",
    "Formulation for example used in:\n",
    "\n",
    "```\n",
    "Consistency of one-class SVM and related algorithms\n",
    "Régis Vert and Jean-philippe Vert\n",
    "NIPS 2006\n",
    "```"
   ]
  },
  {
   "cell_type": "markdown",
   "metadata": {},
   "source": [
    "The problem of the formuation of SVMs with the variable $\\rho$ is that\n",
    "it leads to an annoying constraint in the dual, namely the $\\mu^{\\top}1_n = 1$.\n",
    "\n",
    "We will now see what we can do about it.\n",
    "\n",
    "Let's consider the problem\n",
    "\n",
    "$$\n",
    "\t\\begin{aligned}\n",
    "\t\\min_{w, \\xi} & \\quad \\frac{1}{2}\\Vert w \\Vert^2 + \\frac{C}{n} \\sum_{i=1}^n \\xi_i \\\\\n",
    "\t\\text{s.t.} & \\quad \\langle w, x_i \\rangle \\geq 1 - \\xi_i \\quad 1 \\leq i \\leq n \\\\\n",
    "\t& \\quad \\xi_i \\geq 0 \\quad 1 \\leq i \\leq n\n",
    "\t\\end{aligned}\n",
    "$$"
   ]
  },
  {
   "cell_type": "markdown",
   "metadata": {},
   "source": [
    "<div class=\"alert alert-success\">\n",
    "    <b>QUESTION 10:</b>\n",
    "     <ul>\n",
    "      <li>Show that a dual problem of this problem is given by:\n",
    "      \n",
    "        $$\n",
    "        (\\mathcal{D}):\n",
    "            \\left\\{\n",
    "            \\begin{array}{lll}\n",
    "            \\min_{\\mu} &\\frac{1}{2}\\mu^{\\top}GG^{\\top}\\mu-\\mu^{\\top} 1_n\n",
    "            \\\\\n",
    "            \\mathrm{s.t.}& 0 \\leq \\mu \\leq \\frac{C}{n}\n",
    "            \\end{array}\n",
    "            \\right .\n",
    "        $$\n",
    "      </li>\n",
    "    </ul>\n",
    "</div>"
   ]
  },
  {
   "cell_type": "markdown",
   "metadata": {},
   "source": [
    "The Lagrangien of the Primal problem is the function $ \\mathcal{L}: \\mathcal{R}^n \\times \\mathcal{R}_+^n $ : \n",
    "$$ \\mathcal{L}(w,\\mu, \\lambda) = \\frac{1}{2}\\Vert w \\Vert^2  + \\frac{C}{ n} \\sum_{i=1}^n \\xi_i - \\sum_{i=1}^n \\mu_i ( \\langle w, x_i \\rangle - 1 + \\xi_i ) - \\sum _i \\lambda_i \\xi_i  $$\n",
    "with Lagrange multipliers $ \\mu_i \\geq 0 $ and $\\lambda_i \\geq 0 $.\n",
    "\n",
    "\n",
    "It can be rewritten as : \n",
    "$$ \\mathcal{L}(w, \\mu) = \\frac{1}{2} w^T w + (\\frac{C}{ n} \\mathbb{1}_n^T - \\lambda^T)  \\xi - \\mu^T ( G w - \\mathbb{1}_n + \\xi ) $$\n",
    "with\n",
    "$\n",
    " G = \\begin{bmatrix}x_{1}^{\\top} \\\\ \\vdots \\\\ x_{n}^{\\top}\\end{bmatrix}.\n",
    "$\n",
    " \n",
    "The Karush Kuhn et Tucker conditions are:\n",
    "- $ G w - \\mathbb{1}_n  + \\xi \\le 0 $ (primal constraint),\n",
    "\n",
    "- $ \\mu \\in \\mathcal{R}_+^n $ (dual constraint),\n",
    "\n",
    "- $ \\mu^T ( G w - \\mathbb{1}_n + \\xi ) = 0 $ (complementarity),\n",
    "\n",
    "- $ \\nabla \\mathcal{L} = 0$ (stationarity)  .\n",
    "\n",
    "\n",
    "The stationarity condition implies :\n",
    "\n",
    "\n",
    "\n",
    "$\\frac{\\partial \\mathcal{L}(w,\\xi, \\mu, \\lambda)} { \\partial w } = w - G^T \\mu =0 \\Rightarrow w = G^T \\mu $\n",
    " \n",
    "$\\frac{\\partial \\mathcal{L}(w,\\xi,\\mu, \\lambda)} { \\partial \\xi } = \\frac{C}{n} \\mathbb{1}_n^T - \\mu^T - \\lambda ^T = 0 \\Rightarrow \\frac{C}{n} \\mathbb{1}_n - \\lambda^T = \\mu ^T $\n",
    "\n",
    "\n",
    "The dual problem $\\mathcal{D}$ associated to the primal problem $\\mathcal{P}$ is: $$ \\max_{\\mu \\in R_+^n} \\inf_{w} \\quad  \\mathcal{L}(w,\\rho,\\mu) $$\n",
    "\n",
    "Using the stationnary condition on $w$:\n",
    "$$\\Leftrightarrow \\max_{\\mu \\in R_+^n}\\quad   \\frac{1}{2} \\mu ^T GG^T\\mu + ( \\frac{C}{n}  \\mathbb{1}_n^T - \\lambda^T)\\xi - \n",
    "\\mu^T ( G G^T \\mu - \\mathbb{1}_n + \\xi ) $$\n",
    "$$\\Leftrightarrow \\max_{\\mu \\in R_+^n}\\quad  \\frac{-1}{2} \\mu ^T GG^T\\mu + ( \\frac{C}{n}  \\mathbb{1}_n^T - \\lambda^T - \\mu^T)\\xi + \n",
    "\\mu^T  \\mathbb{1}_n $$\n",
    "\n",
    "\n",
    "\n",
    "$$\\Leftrightarrow\n",
    "    \\left\\{\n",
    "\t\\begin{aligned}\n",
    "\t\\max_{\\mu \\in R_+^n} & \\quad \\frac{-1}{2} \\mu ^T GG^T\\mu+\n",
    "\\mu^T  \\mathbb{1}_n \\\\\n",
    "\t\\text{s.t.} & \\quad \\frac{C}{n} \\mathbb{1}_n - \\lambda^T = \\mu ^T\n",
    "\t\\end{aligned}\n",
    "    \\right.\n",
    "$$\n",
    "\n",
    "\n",
    "However, given $\\lambda, \\mu \\in \\mathcal{R}_+^n $, the second stationnary condition can be replaced by the following constraint:\n",
    "$$\n",
    "\\mu^T = \\frac{C}{n} \\mathbb{1}_n^T - \\lambda^T \\leq \\frac{C}{n}\n",
    "$$\n",
    "\n",
    "Finally, we have:\n",
    "\n",
    "$$\n",
    "    (\\mathcal{D}): \n",
    "    \\left\\{\n",
    "\t\\begin{aligned}\n",
    "\t\\min_{\\mu \\in R_+^n} & \\quad \\frac{1}{2} \\mu^TGG^T\\mu - \\mu^T \\mathbb{1}_n  \\\\\n",
    "    \\text{s.t} & \\quad 0 \\leq \\mu \\leq \\frac{C}{ n}  \n",
    "\t\\end{aligned}\n",
    "    \\right.\n",
    "$$\n",
    "\n"
   ]
  },
  {
   "cell_type": "markdown",
   "metadata": {},
   "source": [
    "<div class=\"alert alert-success\">\n",
    "    <b>QUESTION 11:</b>\n",
    "     <ul>\n",
    "      <li> Rewrite the dual in the form:\n",
    "      \n",
    "            $$\n",
    "            (\\mathcal{D}): \\min_{\\mu} f(\\mu) + g(\\mu) .\n",
    "            $$\n",
    "\n",
    "            where $f$ is here a smooth function of $\\mu$ with L-Liptschitz gradient and $g$ is a non-smooth function that is separable, namely:\n",
    "\n",
    "            $$\n",
    "            g(\\mu) = \\sum_{i=1}^n g_i(\\mu_i)\n",
    "            $$\n",
    "      </li>\n",
    "    </ul>\n",
    "</div>\n",
    "\n"
   ]
  },
  {
   "cell_type": "markdown",
   "metadata": {},
   "source": [
    "$$\n",
    "(D) : min_{\\mu} f(\\mu) + g(\\mu)\n",
    "$$\n",
    "\n",
    "Let us now show that :\n",
    "- $f$ is a smooth function of $\\mu$ with L-Lipschitz gradient \n",
    "- $g$ is a non-smooth function\n",
    "\n",
    "Let us consider : $f: \\mu \\rightarrow f(\\mu) = \\frac{1}{2} \\mu^T GG^T \\mu - \\mu^T \\mathbb{1}_n$.\n",
    "\n",
    "$ f$ is continuously differentiable.\n",
    "\n",
    "\n",
    "Differenciating $f(\\mu)$ once gives : $\\nabla f(\\mu) = G G^T \\mu - \\mathbb{1}_n.  \t\\Rightarrow \\| \\nabla f(x) - \\nabla f(y)\\| \\leq \\| G G^T\\|_2 \\| x - y\\| $,  $ \\forall\t  x,y \\in \\mathbb{R^2}$\n",
    "\n",
    "Conclusion: $f$ is smooth and $\\| G G^T\\|_2  $-Lipschitz gradient.\n",
    "\n",
    "\n",
    "\n",
    "Let us consider : $g_i: \\mu_i \\rightarrow g_i(\\mu_i) = \\mathcal{I}_{\\Omega}(\\mu_i) $\n",
    "where : \n",
    "- $\\Omega = \\{ \\mu \\in \\mathbb{R}^n_+ \\quad  | \\quad  0 \\leq \\mu \\leq \\frac{C}{n} \\}$\n",
    "- $\n",
    "    \\mathcal{I_{\\Omega}}(\\mu_i) =: \n",
    "    \\left\\{\n",
    "\t\\begin{aligned}\n",
    "\t 0 \\quad \\text{if}\\quad \\mu_i \\in \\Omega  \\\\\n",
    "    \\infty \\quad \\text{Otherwise}  \n",
    "\t\\end{aligned}\n",
    "    \\right.\n",
    "$\n",
    "\n",
    "\n",
    "$g$ is non-smooth since the derivative of $g_i$ for all i is not defined over $\\mathbb{R}^n_+ \\ \\Omega$. However g is separable.\n",
    "\n",
    "Consequently:\n",
    "\n",
    "$$\n",
    "(D) : min_{\\mu} f(\\mu) + g(\\mu)\n",
    "$$\n",
    "\n",
    "\n",
    "Where:\n",
    "- $f: \\mu \\rightarrow f(\\mu) = \\frac{1}{2} \\mu^T GG^T \\mu-  \\mu^T \\mathbb{1}_n  $\n",
    "- $g: \\mu \\rightarrow g(\\mu) = \\sum_{i=1}^n (\\mathcal{I}_{\\Omega}(\\mu_i))$\n"
   ]
  },
  {
   "cell_type": "markdown",
   "metadata": {},
   "source": [
    "The dual in the later form can be readily optimized using the methods that you have been studying in this class:\n",
    "\n",
    "- Proximal gradient method with and without acceleration\n",
    "- L-BFGS-B\n",
    "- Coordinate descent"
   ]
  },
  {
   "cell_type": "markdown",
   "metadata": {},
   "source": [
    "<div class=\"alert alert-success\">\n",
    "    <b>QUESTION 12:</b>\n",
    "    Implement:\n",
    "     <ul>\n",
    "      <li> your own solver based on the QP function in cvxopt (reuse `qp` function above).</li>\n",
    "      <li> your own solver of proximal gradient with and without acceleration</li>\n",
    "      <li> your own version of coordinate descent</li>\n",
    "      <li> an L-BFGS-B solver using `scipy.optimize.fmin_l_bfgs_b`</li>\n",
    "    </ul>\n",
    "</div>"
   ]
  },
  {
   "cell_type": "markdown",
   "metadata": {},
   "source": [
    "You will test your implementations on the Gaussian blob corrupted with some uniform noise obtained with `make_blob_dataset` function.\n",
    "\n",
    "You will make sure that all solvers converge towards the same minimum !\n",
    "\n",
    "You will evaluate the performance of your implementations in terms of computation time on problems where the matrix $G G^\\top$ can fit in memory on your machine.\n",
    "\n",
    "You should reuse as much as possible the convergence evaluation code that you used during the labs.\n",
    "\n",
    "**Remark:** For the coordinate descent method there exist some smart updates provided you use a linear kernel.\n",
    "\n",
    "**BONUS (Hard):** Explain without implementing it how such smart updates could work for the coordinate descent solver.\n",
    "\n",
    "**IMPORTANT : This question 12 is the most important and will constitute half of the final grade on the project !**"
   ]
  },
  {
   "cell_type": "markdown",
   "metadata": {},
   "source": [
    "## Solution \n",
    "\n",
    "\n",
    "We want to minimize $f(\\mu) + g(\\mu)$\n",
    "\n",
    "Where\n",
    "- $f(\\mu) = \\frac{1}{2} \\mu^T GG^T \\mu-  \\mu^T \\mathbb{1}_n  $\n",
    "- $g(\\mu) = \\sum_{i=1}^n (\\mathcal{I}_{\\Omega}(\\mu_i))$, with $\\Omega = \\{ \\mu \\in \\mathbb{R}^n_+ \\quad  | \\quad  0 \\leq \\mu \\leq \\frac{C}{n} \\}$\n",
    "\n",
    "$f$ is a smooth function of $\\mu$, the gradient is:\n",
    "$\\nabla f(\\mu) = G G^T \\mu - \\mathbb{1}_n. $ \n",
    "\n",
    "On the contrary, $g$ is a non-smooth function: we need to use a proximal operator. The proximal operator of $g$ is equivalent to finding the projection of $\\mu$ on $[ 0 , \\frac{C}{n} ]$.\n",
    "\n",
    "\n",
    "Also, in Question 11, we have seen that the Lipschitz constant is $\\| G G^T\\|_2 $.\n",
    "\n",
    "\n",
    "-------------\n",
    "\n",
    "*Note 1: In the code below, we use the kernel notation: $f(\\mu) = \\frac{1}{2} \\mu^TK \\mu-  \\mu^T \\mathbb{1}_n  $*\n",
    "\n",
    "\n",
    "*Note 2: For this question, we use some functions implemented in Lab3.*\n"
   ]
  },
  {
   "cell_type": "markdown",
   "metadata": {},
   "source": [
    "## I. Set up\n",
    "\n",
    "First, we generate a dataset."
   ]
  },
  {
   "cell_type": "code",
   "execution_count": 14,
   "metadata": {},
   "outputs": [
    {
     "data": {
      "image/png": "[encoded data removed]",
      "text/plain": [
       "<matplotlib.figure.Figure at 0x11f993e10>"
      ]
     },
     "metadata": {},
     "output_type": "display_data"
    }
   ],
   "source": [
    "X = make_blob_dataset(300)\n",
    "plt.scatter(X[:, 0], X[:, 1], color='b');"
   ]
  },
  {
   "cell_type": "markdown",
   "metadata": {},
   "source": [
    "We now introduce a class that will be used for the solvers."
   ]
  },
  {
   "cell_type": "code",
   "execution_count": 15,
   "metadata": {
    "collapsed": true
   },
   "outputs": [],
   "source": [
    "class svm(object):\n",
    "    \"\"\"A class for the dual problem in question 10\"\"\"\n",
    "\n",
    "    def __init__(self, X, C, linear_kernel=True, gaussian_kernel=False):\n",
    "        self.K = X\n",
    "        self.n = len(X)\n",
    "        self.C = C\n",
    "        \n",
    "        # We generate kernel functions:\n",
    "        if linear_kernel:\n",
    "            self.K = kernel(X, X)\n",
    "            self.kernel_choice = kernel\n",
    "            \n",
    "        if gaussian_kernel:\n",
    "            self.K = K = rbf_kernel(X, X)\n",
    "            self.kernel_choice = rbf_kernel\n",
    "            \n",
    "    def f(self, mu):  # loss function without regularization\n",
    "        return 0.5 * mu.T.dot(self.K.dot(mu)) - np.sum(mu)\n",
    "    \n",
    "    def g(self, mu):  # regularization function\n",
    "        if (min(mu) < 0.) | (max(mu) > (self.C / self.n)):\n",
    "            return np.inf\n",
    "        else:\n",
    "            return 0.\n",
    "\n",
    "    def grad_f(self, mu):\n",
    "        return self.K.dot(mu) - np.ones(self.n)\n",
    "\n",
    "    def prox_g(self, mu):\n",
    "        return np.maximum(0, np.minimum(self.C / self.n, mu))\n",
    "\n",
    "    def loss(self, mu):\n",
    "        return self.f(mu) + self.g(mu)\n",
    "    \n",
    "    def lipschitz_constant(self):\n",
    "        \"\"\"Return the Lipschitz constant of the gradient\"\"\"\n",
    "        return np.linalg.norm(self.K, ord = 2) "
   ]
  },
  {
   "cell_type": "markdown",
   "metadata": {},
   "source": [
    " Numerically check loss and gradient"
   ]
  },
  {
   "cell_type": "code",
   "execution_count": 16,
   "metadata": {},
   "outputs": [
    {
     "name": "stdout",
     "output_type": "stream",
     "text": [
      "Step = 0.000403404397417\n",
      "Check_grad = 0.000495477395061\n",
      "We use : <function kernel at 0x114777488>\n"
     ]
    }
   ],
   "source": [
    "from scipy.optimize import check_grad\n",
    "d = 300\n",
    "n = len(X) \n",
    "C = 40 #note: we tested different values of C, C = 40 gives good results.\n",
    "model = svm(X, C)\n",
    "step = 1. / model.lipschitz_constant()\n",
    "print(\"Step = %s\" % step)\n",
    "\n",
    "# Check that the gradient and the loss numerically match\n",
    "check = check_grad(model.f, model.grad_f, np.random.randn(d))\n",
    "\n",
    "print(\"Check_grad = %s\" % check)\n",
    "\n",
    "kernel_choice = model.kernel_choice\n",
    "print(\"We use : %s\" % kernel_choice)"
   ]
  },
  {
   "cell_type": "markdown",
   "metadata": {},
   "source": [
    "Get a very precise minimum to compute distances to minimum"
   ]
  },
  {
   "cell_type": "code",
   "execution_count": 17,
   "metadata": {},
   "outputs": [
    {
     "name": "stdout",
     "output_type": "stream",
     "text": [
      "f_min = -0.215504980686\n"
     ]
    }
   ],
   "source": [
    "from scipy.optimize import fmin_l_bfgs_b\n",
    "\n",
    "mu_init = np.zeros(d)\n",
    "mu_min, f_min, _ = fmin_l_bfgs_b(model.loss, mu_init, model.grad_f, pgtol=1e-30, factr=1e-30, bounds=[(0, C/n) for i in range(n)])\n",
    "print(\"f_min = %s\" % f_min)"
   ]
  },
  {
   "cell_type": "markdown",
   "metadata": {},
   "source": [
    "Before implementing the algorithms (Ista, Fista, CD and L-BFGS), we provide a simple function to be called after each iteration to gather and display a few metrics about the current minimization process"
   ]
  },
  {
   "cell_type": "code",
   "execution_count": 18,
   "metadata": {
    "collapsed": true
   },
   "outputs": [],
   "source": [
    "import time\n",
    "from scipy.linalg import norm\n",
    "\n",
    "def inspector(loss_fun, mu_real, verbose=True):\n",
    "    \"\"\"A closure called to update metrics after each iteration.\"\"\"\n",
    "    objectives = []\n",
    "    errors = []\n",
    "    minimum = []\n",
    "    t0 = time.time()\n",
    "    it = [0] # This is a hack to be able to modify 'it' inside the closure.\n",
    "    timing = [] \n",
    "    def inspector_cl(muk): \n",
    "        obj = loss_fun(muk) - f_min \n",
    "        minf = loss_fun(muk)\n",
    "        err = norm(muk - mu_min)\n",
    "        tim = time.time()-t0\n",
    "        objectives.append(obj)\n",
    "        minimum.append(minf)\n",
    "        errors.append(err)\n",
    "        timing.append(tim)\n",
    "        if verbose == True:\n",
    "            if it[0] == 0:\n",
    "                print(' | '.join([name.center(8) for name in [\"it\", \"obj\", \"err\", \"time\"]]))\n",
    "            if it[0] % (n_iter / 5) == 0:\n",
    "                print(' | '.join([(\"%d\" % it[0]).rjust(8), \n",
    "                                  (\"%.2e\" % obj).rjust(8), (\"%.2e\" % err).rjust(8), (\"%.4e\" % tim).rjust(8)]))\n",
    "            it[0] += 1\n",
    "    inspector_cl.obj = objectives\n",
    "    inspector_cl.err = errors\n",
    "    inspector_cl.timing = timing\n",
    "    inspector_cl.minf = minimum\n",
    "\n",
    "    return inspector_cl"
   ]
  },
  {
   "cell_type": "code",
   "execution_count": 19,
   "metadata": {
    "collapsed": true
   },
   "outputs": [],
   "source": [
    "# Number of iterations\n",
    "n_iter = 500"
   ]
  },
  {
   "cell_type": "markdown",
   "metadata": {},
   "source": [
    "## II. Implementation\n",
    "\n",
    "### 1. Solver based on the QP function in cvxopt"
   ]
  },
  {
   "cell_type": "code",
   "execution_count": 20,
   "metadata": {
    "collapsed": true
   },
   "outputs": [],
   "source": [
    "# Kernel used (there is an option for linear or gaussian kernel in the class \"svm\" - see above):\n",
    "K = kernel_choice(X,X)"
   ]
  },
  {
   "cell_type": "code",
   "execution_count": 21,
   "metadata": {},
   "outputs": [
    {
     "name": "stdout",
     "output_type": "stream",
     "text": [
      "Number of support vectors: 4\n"
     ]
    }
   ],
   "source": [
    "def ocsvm_solver_v2(K, C):\n",
    "    n = K.shape[0]\n",
    "    P = K\n",
    "    q = -np.ones(n)\n",
    "    A = np.zeros((1, n))\n",
    "    b = np.zeros(1)\n",
    "    lbda = C / n\n",
    "    mu = qp(P, q, A, b, lbda, verbose=False, Condition=False)\n",
    "    idx_support = np.where(np.abs(mu) > 1e-05)[0]\n",
    "    mu_support = mu[idx_support]\n",
    "   \n",
    "    return mu_support, idx_support\n",
    "\n",
    "# Uncomment the following lines when your ocsvm_solver is completed:\n",
    "mu_support, idx_support = ocsvm_solver_v2(K, C)\n",
    "print(\"Number of support vectors: %s\" % idx_support.size)"
   ]
  },
  {
   "cell_type": "code",
   "execution_count": 22,
   "metadata": {
    "scrolled": false
   },
   "outputs": [
    {
     "data": {
      "image/png": "[encoded data removed]",
      "text/plain": [
       "<matplotlib.figure.Figure at 0x11f385be0>"
      ]
     },
     "metadata": {},
     "output_type": "display_data"
    }
   ],
   "source": [
    "plot_ocsvm(X, mu_support, idx_support, rho=1, kernel=kernel_choice)"
   ]
  },
  {
   "cell_type": "markdown",
   "metadata": {},
   "source": [
    "### 2. Solver of proximal gradient with and without acceleration"
   ]
  },
  {
   "cell_type": "markdown",
   "metadata": {},
   "source": [
    "#### Without acceleration"
   ]
  },
  {
   "cell_type": "code",
   "execution_count": 23,
   "metadata": {
    "collapsed": true
   },
   "outputs": [],
   "source": [
    "def ista(mu_init, grad_f, prox_g, n_iter=100, step=1., callback=None):\n",
    "    \"\"\"ISTA algorithm.\"\"\"\n",
    "    mu = mu_init.copy()\n",
    "    \n",
    "    for i in range(n_iter):\n",
    "        mu = prox_g(mu - step * grad_f(mu)) \n",
    "        # Update metrics after each iteration.\n",
    "        if callback is not None: \n",
    "            callback(mu)\n",
    "\n",
    "    return mu"
   ]
  },
  {
   "cell_type": "code",
   "execution_count": 24,
   "metadata": {},
   "outputs": [
    {
     "name": "stdout",
     "output_type": "stream",
     "text": [
      "   it    |   obj    |   err    |   time  \n",
      "       0 | 1.54e-01 | 1.99e-01 | 8.4782e-04\n",
      "     100 | 9.27e-02 | 1.70e-01 | 4.7048e-02\n",
      "     200 | 6.38e-02 | 1.49e-01 | 8.8788e-02\n",
      "     300 | 4.15e-02 | 1.33e-01 | 1.1531e-01\n",
      "     400 | 2.25e-02 | 1.22e-01 | 1.4284e-01\n"
     ]
    }
   ],
   "source": [
    "time0 = time.time()\n",
    "ista_inspector = inspector(model.loss, mu_min, verbose=True)\n",
    "mu_ista = ista(mu_init, model.grad_f, model.prox_g, n_iter, step, callback = ista_inspector)\n",
    "time_ista = time.time() - time0"
   ]
  },
  {
   "cell_type": "code",
   "execution_count": 25,
   "metadata": {},
   "outputs": [
    {
     "name": "stdout",
     "output_type": "stream",
     "text": [
      "Total time needed: 0.17024588584899902\n",
      "f_min ista: -0.207305932698\n"
     ]
    }
   ],
   "source": [
    "print(\"Total time needed: \" + str(time_ista))\n",
    "min_ista = ista_inspector.obj[-1] + f_min\n",
    "print(\"f_min ista: \" + str(min_ista))"
   ]
  },
  {
   "cell_type": "code",
   "execution_count": 26,
   "metadata": {},
   "outputs": [
    {
     "data": {
      "image/png": "[encoded data removed]",
      "text/plain": [
       "<matplotlib.figure.Figure at 0x11fa25710>"
      ]
     },
     "metadata": {},
     "output_type": "display_data"
    }
   ],
   "source": [
    "idx_support_ista = np.where(np.abs(mu_ista) > 1e-5)[0]\n",
    "mu_support_ista = mu_ista[idx_support_ista]\n",
    "plot_ocsvm(X, mu_support_ista, idx_support_ista, rho=1, kernel=kernel_choice)"
   ]
  },
  {
   "cell_type": "markdown",
   "metadata": {},
   "source": [
    "#### With acceleration (accelerated batch gradient here)"
   ]
  },
  {
   "cell_type": "code",
   "execution_count": 27,
   "metadata": {
    "collapsed": true
   },
   "outputs": [],
   "source": [
    "def fista(mu_init, grad_f, prox_g, n_iter=100, step=1., callback=None):\n",
    "    \"\"\"FISTA algorithm.\"\"\"\n",
    "    mu = mu_init.copy()\n",
    "    y = mu_init.copy()\n",
    "    t = 1.\n",
    "\n",
    "    for _ in range(n_iter):\n",
    "        \n",
    "        mu_new = prox_g(y - step * grad_f(y))\n",
    "        t_new = (1 + np.sqrt(1 + 4 * (t**2))) / 2\n",
    "        y = mu_new + ((t - 1)/ t_new) * (mu_new - mu)\n",
    "        mu, t = mu_new, t_new\n",
    "        \n",
    "        # Update metrics after each iteration.\n",
    "        if callback is not None: \n",
    "            callback(mu)\n",
    "    return mu"
   ]
  },
  {
   "cell_type": "code",
   "execution_count": 28,
   "metadata": {},
   "outputs": [
    {
     "name": "stdout",
     "output_type": "stream",
     "text": [
      "   it    |   obj    |   err    |   time  \n",
      "       0 | 1.54e-01 | 1.99e-01 | 7.9799e-04\n",
      "     100 | 3.12e-03 | 1.01e-01 | 4.5089e-02\n",
      "     200 | 1.13e-03 | 6.76e-02 | 8.7816e-02\n",
      "     300 | 3.70e-04 | 2.78e-02 | 1.3328e-01\n",
      "     400 | 6.16e-05 | 5.25e-03 | 1.6592e-01\n"
     ]
    }
   ],
   "source": [
    "time0 = time.time()\n",
    "mu_init = np.zeros(d)\n",
    "fista_inspector = inspector(model.loss, mu_min, verbose=True)\n",
    "mu_fista = fista(mu_init, model.grad_f, model.prox_g, n_iter, step, callback = fista_inspector)\n",
    "time_fista = time.time() - time0"
   ]
  },
  {
   "cell_type": "code",
   "execution_count": 29,
   "metadata": {},
   "outputs": [
    {
     "name": "stdout",
     "output_type": "stream",
     "text": [
      "Total time needed: 0.1943681240081787\n",
      "f_min fista: -0.215493997277\n"
     ]
    }
   ],
   "source": [
    "print(\"Total time needed: \" + str(time_fista))\n",
    "min_fista = fista_inspector.obj[-1] + f_min\n",
    "print(\"f_min fista: \" + str(min_fista))"
   ]
  },
  {
   "cell_type": "code",
   "execution_count": 30,
   "metadata": {},
   "outputs": [
    {
     "data": {
      "image/png": "[encoded data removed]",
      "text/plain": [
       "<matplotlib.figure.Figure at 0x11fe4d518>"
      ]
     },
     "metadata": {},
     "output_type": "display_data"
    }
   ],
   "source": [
    "idx_support_fista = np.where(np.abs(mu_fista) > 1e-05)[0]\n",
    "mu_support_fista = mu_fista[idx_support_fista]\n",
    "plot_ocsvm(X, mu_support_fista, idx_support_fista, rho=1, kernel=kernel_choice)"
   ]
  },
  {
   "cell_type": "markdown",
   "metadata": {},
   "source": [
    "### 3. Coordinate descent"
   ]
  },
  {
   "cell_type": "markdown",
   "metadata": {},
   "source": [
    "$$\n",
    "(D) : min_{\\mu} f(\\mu) + g(\\mu)\n",
    "$$\n",
    "\n",
    "\n",
    "\n",
    "The function f is convex and differentiable. Moreover, g is convex and separable: $g(\\mu) = \\sum_{i=1}^n g_i(\\mu_i)$ with $g_i(\\mu_i)=\\mathcal{I}_{\\Omega}(\\mu_i)$\n",
    "\n",
    "\n",
    "Therefore, we have a composite convex minimization problem : if $f(x)$ is minimized along each coordinate axis, the minimizer is global. In this context, the proximal coordinate descend method can be applied.\n",
    "\n",
    "\n",
    "\n",
    "For coordinate descent, we need to compute the gradient for every coordinate. \n",
    "$$\n",
    "\\nabla f _i = \\sum_j K_{ij} \\mu_j - 1 = G_iG_i^T - 1 \n",
    "$$\n",
    "\n",
    "\n",
    "We can then consider the step for the coordinate descent as follows:\n",
    "$$\n",
    "Step_i=\\frac{1}{L_i}=\\frac{1}{\\|\\sum_j K_{ij}\\|} = \\frac{1}{\\|G_i\\|}\n",
    "$$\n"
   ]
  },
  {
   "cell_type": "markdown",
   "metadata": {},
   "source": [
    "We have to compute prox_g for each coordinate:"
   ]
  },
  {
   "cell_type": "code",
   "execution_count": 31,
   "metadata": {
    "collapsed": true
   },
   "outputs": [],
   "source": [
    "from random import *\n",
    "\n",
    "def cd_prox_g(x, C, n):\n",
    "    if x > C/n :\n",
    "        return C/n\n",
    "    elif x < 0 : \n",
    "        return 0\n",
    "    else:\n",
    "        return x"
   ]
  },
  {
   "cell_type": "markdown",
   "metadata": {},
   "source": [
    "We implement now a CD with smart updates. These updates are used to update the gradient with respect to the $i^{th}$ coordinate."
   ]
  },
  {
   "cell_type": "code",
   "execution_count": 32,
   "metadata": {
    "collapsed": true
   },
   "outputs": [],
   "source": [
    "def Coordinate_descent(mu_init, K, prox_g, C, n_iter=100, \n",
    "                       verbose=True, callback=None):\n",
    "    \"\"\"Proximal gradient descent algorithm\n",
    "\n",
    "    Minimize :\n",
    "    \n",
    "    1/2 mu^T K mu + 1_n * mu + g(x)\n",
    "    \n",
    "    with coordinate descent.\n",
    "    \"\"\"\n",
    "    \n",
    "    mu = mu_init.copy()\n",
    "    mu_new = mu_init.copy()\n",
    "    n = K.shape[0]\n",
    "        \n",
    "    L = np.sqrt(np.sum(K*K,axis=0))\n",
    "   \n",
    "    Residual = K.dot(mu) - np.ones((n,))\n",
    "    \n",
    "    for k in range(n_iter + 1):\n",
    "        #i = k % n # cyclic rule\n",
    "        i = randint(0, n-1) # more efficient than the cyclic rule in the quadratic case\n",
    "        grad_f = Residual[i]\n",
    "        step = 1 / L[i]\n",
    "        mu_new[i] = prox_g(mu[i] - step * grad_f, C, n)\n",
    "            \n",
    "        Residual += (mu_new[i] - mu[i]) * K[i,:]\n",
    "        mu = mu_new.copy()\n",
    "        \n",
    "        # Update metrics after each iteration.\n",
    "        if callback is not None: \n",
    "            callback(mu)\n",
    "            \n",
    "    return mu"
   ]
  },
  {
   "cell_type": "code",
   "execution_count": 33,
   "metadata": {},
   "outputs": [
    {
     "name": "stdout",
     "output_type": "stream",
     "text": [
      "   it    |   obj    |   err    |   time  \n",
      "       0 | 2.09e-01 | 2.00e-01 | 1.5941e-03\n",
      "     100 | 1.23e-01 | 1.79e-01 | 4.1439e-02\n",
      "     200 | 1.13e-01 | 1.71e-01 | 7.9555e-02\n",
      "     300 | 1.04e-01 | 1.67e-01 | 1.1434e-01\n",
      "     400 | 1.01e-01 | 1.65e-01 | 1.3872e-01\n",
      "     500 | 9.86e-02 | 1.64e-01 | 1.6496e-01\n",
      "     600 | 9.59e-02 | 1.63e-01 | 1.8868e-01\n",
      "     700 | 9.47e-02 | 1.61e-01 | 2.2000e-01\n",
      "     800 | 7.74e-02 | 1.47e-01 | 2.5197e-01\n",
      "     900 | 5.93e-02 | 1.36e-01 | 2.7789e-01\n",
      "    1000 | 4.28e-02 | 1.29e-01 | 3.0321e-01\n",
      "    1100 | 4.19e-02 | 1.29e-01 | 3.2768e-01\n",
      "    1200 | 4.07e-02 | 1.27e-01 | 3.5216e-01\n",
      "    1300 | 3.99e-02 | 1.26e-01 | 3.7616e-01\n",
      "    1400 | 2.38e-02 | 1.22e-01 | 4.0089e-01\n",
      "    1500 | 2.31e-02 | 1.22e-01 | 4.2821e-01\n",
      "    1600 | 2.27e-02 | 1.22e-01 | 4.6395e-01\n",
      "    1700 | 2.23e-02 | 1.22e-01 | 4.9151e-01\n",
      "    1800 | 2.19e-02 | 1.22e-01 | 5.1627e-01\n",
      "    1900 | 2.14e-02 | 1.22e-01 | 5.4085e-01\n",
      "    2000 | 2.13e-02 | 1.22e-01 | 5.6465e-01\n",
      "    2100 | 1.97e-02 | 1.22e-01 | 5.8894e-01\n",
      "    2200 | 1.51e-02 | 1.22e-01 | 6.1288e-01\n",
      "    2300 | 1.48e-02 | 1.21e-01 | 6.4112e-01\n",
      "    2400 | 1.42e-02 | 1.20e-01 | 6.8177e-01\n",
      "    2500 | 1.37e-02 | 1.19e-01 | 7.0794e-01\n",
      "    2600 | 1.24e-02 | 1.17e-01 | 7.3274e-01\n",
      "    2700 | 1.23e-02 | 1.16e-01 | 7.5762e-01\n",
      "    2800 | 1.22e-02 | 1.16e-01 | 7.8286e-01\n",
      "    2900 | 1.18e-02 | 1.15e-01 | 8.0745e-01\n",
      "    3000 | 1.15e-02 | 1.16e-01 | 8.3213e-01\n",
      "    3100 | 1.10e-02 | 1.15e-01 | 8.6492e-01\n",
      "    3200 | 1.09e-02 | 1.15e-01 | 8.9797e-01\n",
      "    3300 | 1.04e-02 | 1.14e-01 | 9.2507e-01\n",
      "    3400 | 1.03e-02 | 1.14e-01 | 9.4990e-01\n",
      "    3500 | 1.00e-02 | 1.14e-01 | 9.7380e-01\n",
      "    3600 | 9.85e-03 | 1.13e-01 | 9.9834e-01\n",
      "    3700 | 9.64e-03 | 1.12e-01 | 1.0228e+00\n",
      "    3800 | 9.60e-03 | 1.12e-01 | 1.0473e+00\n",
      "    3900 | 9.43e-03 | 1.12e-01 | 1.0740e+00\n",
      "    4000 | 9.31e-03 | 1.11e-01 | 1.1105e+00\n",
      "    4100 | 9.26e-03 | 1.11e-01 | 1.1387e+00\n",
      "    4200 | 8.96e-03 | 1.10e-01 | 1.1648e+00\n",
      "    4300 | 8.86e-03 | 1.09e-01 | 1.1894e+00\n",
      "    4400 | 8.70e-03 | 1.09e-01 | 1.2137e+00\n",
      "    4500 | 8.65e-03 | 1.09e-01 | 1.2375e+00\n",
      "    4600 | 8.63e-03 | 1.09e-01 | 1.2623e+00\n",
      "    4700 | 8.58e-03 | 1.09e-01 | 1.2932e+00\n",
      "    4800 | 8.43e-03 | 1.09e-01 | 1.3266e+00\n",
      "    4900 | 8.36e-03 | 1.09e-01 | 1.3525e+00\n",
      "    5000 | 8.16e-03 | 1.08e-01 | 1.3772e+00\n",
      "    5100 | 8.04e-03 | 1.07e-01 | 1.4014e+00\n",
      "    5200 | 7.95e-03 | 1.06e-01 | 1.4261e+00\n",
      "    5300 | 7.84e-03 | 1.06e-01 | 1.4508e+00\n",
      "    5400 | 7.80e-03 | 1.06e-01 | 1.4753e+00\n",
      "    5500 | 7.72e-03 | 1.06e-01 | 1.5025e+00\n",
      "    5600 | 7.55e-03 | 1.06e-01 | 1.5405e+00\n",
      "    5700 | 7.46e-03 | 1.06e-01 | 1.5682e+00\n",
      "    5800 | 7.40e-03 | 1.06e-01 | 1.5923e+00\n",
      "    5900 | 7.37e-03 | 1.06e-01 | 1.6169e+00\n",
      "    6000 | 7.36e-03 | 1.06e-01 | 1.6413e+00\n",
      "    6100 | 7.34e-03 | 1.06e-01 | 1.6663e+00\n",
      "    6200 | 7.27e-03 | 1.06e-01 | 1.6907e+00\n",
      "    6300 | 7.18e-03 | 1.05e-01 | 1.7266e+00\n",
      "    6400 | 7.07e-03 | 1.05e-01 | 1.7597e+00\n",
      "    6500 | 6.98e-03 | 1.04e-01 | 1.7843e+00\n",
      "    6600 | 6.90e-03 | 1.03e-01 | 1.8113e+00\n",
      "    6700 | 6.88e-03 | 1.03e-01 | 1.8353e+00\n",
      "    6800 | 6.87e-03 | 1.03e-01 | 1.8602e+00\n",
      "    6900 | 6.81e-03 | 1.03e-01 | 1.8859e+00\n",
      "    7000 | 6.73e-03 | 1.03e-01 | 1.9102e+00\n",
      "    7100 | 6.58e-03 | 1.03e-01 | 1.9366e+00\n",
      "    7200 | 6.52e-03 | 1.03e-01 | 1.9724e+00\n",
      "    7300 | 6.52e-03 | 1.03e-01 | 2.0042e+00\n",
      "    7400 | 6.50e-03 | 1.03e-01 | 2.0282e+00\n",
      "    7500 | 6.37e-03 | 1.02e-01 | 2.0526e+00\n",
      "    7600 | 6.31e-03 | 1.02e-01 | 2.0800e+00\n",
      "    7700 | 6.31e-03 | 1.02e-01 | 2.1049e+00\n",
      "    7800 | 6.30e-03 | 1.02e-01 | 2.1290e+00\n",
      "    7900 | 6.29e-03 | 1.02e-01 | 2.1616e+00\n",
      "    8000 | 6.18e-03 | 1.02e-01 | 2.1940e+00\n",
      "    8100 | 6.12e-03 | 1.02e-01 | 2.2213e+00\n",
      "    8200 | 6.04e-03 | 1.02e-01 | 2.2455e+00\n",
      "    8300 | 6.01e-03 | 1.02e-01 | 2.2704e+00\n",
      "    8400 | 5.95e-03 | 1.01e-01 | 2.2946e+00\n",
      "    8500 | 5.94e-03 | 1.01e-01 | 2.3191e+00\n",
      "    8600 | 5.93e-03 | 1.01e-01 | 2.3432e+00\n",
      "    8700 | 5.84e-03 | 1.01e-01 | 2.3683e+00\n",
      "    8800 | 5.83e-03 | 1.01e-01 | 2.4086e+00\n",
      "    8900 | 5.83e-03 | 1.01e-01 | 2.4370e+00\n",
      "    9000 | 5.77e-03 | 1.01e-01 | 2.4621e+00\n",
      "    9100 | 5.62e-03 | 1.00e-01 | 2.4868e+00\n",
      "    9200 | 5.59e-03 | 1.00e-01 | 2.5116e+00\n",
      "    9300 | 5.50e-03 | 1.00e-01 | 2.5363e+00\n",
      "    9400 | 5.42e-03 | 1.00e-01 | 2.5606e+00\n",
      "    9500 | 5.41e-03 | 1.00e-01 | 2.5899e+00\n",
      "    9600 | 5.35e-03 | 1.00e-01 | 2.6270e+00\n",
      "    9700 | 5.31e-03 | 1.00e-01 | 2.6542e+00\n",
      "    9800 | 5.31e-03 | 1.00e-01 | 2.6794e+00\n",
      "    9900 | 5.22e-03 | 1.00e-01 | 2.7035e+00\n",
      "   10000 | 5.12e-03 | 1.00e-01 | 2.7282e+00\n",
      "   10100 | 5.07e-03 | 1.00e-01 | 2.7530e+00\n",
      "   10200 | 5.00e-03 | 1.00e-01 | 2.7775e+00\n",
      "   10300 | 4.96e-03 | 1.00e-01 | 2.8098e+00\n",
      "   10400 | 4.91e-03 | 1.00e-01 | 2.8447e+00\n",
      "   10500 | 4.86e-03 | 1.00e-01 | 2.8712e+00\n",
      "   10600 | 4.84e-03 | 1.00e-01 | 2.8964e+00\n",
      "   10700 | 4.78e-03 | 9.98e-02 | 2.9217e+00\n",
      "   10800 | 4.67e-03 | 9.93e-02 | 2.9467e+00\n",
      "   10900 | 4.66e-03 | 9.92e-02 | 2.9706e+00\n",
      "   11000 | 4.62e-03 | 9.93e-02 | 2.9951e+00\n",
      "   11100 | 4.59e-03 | 9.93e-02 | 3.0262e+00\n",
      "   11200 | 4.58e-03 | 9.94e-02 | 3.0682e+00\n",
      "   11300 | 4.56e-03 | 9.94e-02 | 3.1077e+00\n",
      "   11400 | 4.55e-03 | 9.94e-02 | 3.1374e+00\n",
      "   11500 | 4.55e-03 | 9.95e-02 | 3.1622e+00\n",
      "   11600 | 4.53e-03 | 9.95e-02 | 3.1874e+00\n",
      "   11700 | 4.52e-03 | 9.95e-02 | 3.2119e+00\n",
      "   11800 | 4.49e-03 | 9.96e-02 | 3.2435e+00\n",
      "   11900 | 4.44e-03 | 9.91e-02 | 3.2759e+00\n",
      "   12000 | 4.35e-03 | 9.79e-02 | 3.3020e+00\n",
      "   12100 | 4.33e-03 | 9.80e-02 | 3.3273e+00\n",
      "   12200 | 4.30e-03 | 9.81e-02 | 3.3519e+00\n",
      "   12300 | 4.24e-03 | 9.82e-02 | 3.3757e+00\n",
      "   12400 | 4.22e-03 | 9.77e-02 | 3.4004e+00\n",
      "   12500 | 4.21e-03 | 9.78e-02 | 3.4250e+00\n",
      "   12600 | 4.19e-03 | 9.78e-02 | 3.4525e+00\n",
      "   12700 | 4.18e-03 | 9.78e-02 | 3.4829e+00\n",
      "   12800 | 4.11e-03 | 9.78e-02 | 3.5110e+00\n",
      "   12900 | 4.11e-03 | 9.78e-02 | 3.5354e+00\n",
      "   13000 | 4.11e-03 | 9.78e-02 | 3.5599e+00\n",
      "   13100 | 4.07e-03 | 9.78e-02 | 3.5839e+00\n",
      "   13200 | 4.05e-03 | 9.78e-02 | 3.6080e+00\n",
      "   13300 | 3.99e-03 | 9.74e-02 | 3.6316e+00\n",
      "   13400 | 3.98e-03 | 9.74e-02 | 3.6573e+00\n",
      "   13500 | 3.98e-03 | 9.75e-02 | 3.6890e+00\n",
      "   13600 | 3.98e-03 | 9.75e-02 | 3.7163e+00\n",
      "   13700 | 3.95e-03 | 9.74e-02 | 3.7404e+00\n",
      "   13800 | 3.93e-03 | 9.74e-02 | 3.7649e+00\n",
      "   13900 | 3.91e-03 | 9.71e-02 | 3.7895e+00\n",
      "   14000 | 3.90e-03 | 9.70e-02 | 3.8147e+00\n",
      "   14100 | 3.84e-03 | 9.71e-02 | 3.8396e+00\n",
      "   14200 | 3.84e-03 | 9.71e-02 | 3.8678e+00\n",
      "   14300 | 3.81e-03 | 9.71e-02 | 3.9034e+00\n",
      "   14400 | 3.78e-03 | 9.67e-02 | 3.9284e+00\n",
      "   14500 | 3.76e-03 | 9.63e-02 | 3.9584e+00\n",
      "   14600 | 3.74e-03 | 9.63e-02 | 3.9843e+00\n",
      "   14700 | 3.71e-03 | 9.59e-02 | 4.0110e+00\n",
      "   14800 | 3.71e-03 | 9.59e-02 | 4.0353e+00\n",
      "   14900 | 3.68e-03 | 9.59e-02 | 4.0599e+00\n",
      "   15000 | 3.67e-03 | 9.59e-02 | 4.0916e+00\n",
      "   15100 | 3.66e-03 | 9.59e-02 | 4.1242e+00\n",
      "   15200 | 3.65e-03 | 9.59e-02 | 4.1488e+00\n",
      "   15300 | 3.64e-03 | 9.60e-02 | 4.1745e+00\n",
      "   15400 | 3.59e-03 | 9.56e-02 | 4.2004e+00\n",
      "   15500 | 3.59e-03 | 9.55e-02 | 4.2244e+00\n",
      "   15600 | 3.57e-03 | 9.55e-02 | 4.2489e+00\n",
      "   15700 | 3.53e-03 | 9.56e-02 | 4.2727e+00\n",
      "   15800 | 3.48e-03 | 9.51e-02 | 4.3000e+00\n",
      "   15900 | 3.45e-03 | 9.52e-02 | 4.3341e+00\n",
      "   16000 | 3.42e-03 | 9.47e-02 | 4.3610e+00\n",
      "   16100 | 3.40e-03 | 9.48e-02 | 4.3853e+00\n",
      "   16200 | 3.40e-03 | 9.49e-02 | 4.4095e+00\n",
      "   16300 | 3.39e-03 | 9.48e-02 | 4.4339e+00\n",
      "   16400 | 3.37e-03 | 9.49e-02 | 4.4581e+00\n",
      "   16500 | 3.36e-03 | 9.48e-02 | 4.4823e+00\n",
      "   16600 | 3.35e-03 | 9.49e-02 | 4.5102e+00\n",
      "   16700 | 3.34e-03 | 9.48e-02 | 4.5442e+00\n",
      "   16800 | 3.32e-03 | 9.49e-02 | 4.5709e+00\n",
      "   16900 | 3.32e-03 | 9.49e-02 | 4.5956e+00\n",
      "   17000 | 3.31e-03 | 9.49e-02 | 4.6200e+00\n",
      "   17100 | 3.31e-03 | 9.49e-02 | 4.6437e+00\n",
      "   17200 | 3.28e-03 | 9.50e-02 | 4.6707e+00\n",
      "   17300 | 3.28e-03 | 9.50e-02 | 4.7067e+00\n",
      "   17400 | 3.26e-03 | 9.46e-02 | 4.7456e+00\n",
      "   17500 | 3.22e-03 | 9.42e-02 | 4.7720e+00\n",
      "   17600 | 3.20e-03 | 9.43e-02 | 4.7962e+00\n",
      "   17700 | 3.19e-03 | 9.43e-02 | 4.8204e+00\n",
      "   17800 | 3.19e-03 | 9.43e-02 | 4.8454e+00\n",
      "   17900 | 3.16e-03 | 9.40e-02 | 4.8708e+00\n",
      "   18000 | 3.16e-03 | 9.40e-02 | 4.8957e+00\n",
      "   18100 | 3.15e-03 | 9.40e-02 | 4.9205e+00\n",
      "   18200 | 3.15e-03 | 9.40e-02 | 4.9454e+00\n",
      "   18300 | 3.14e-03 | 9.40e-02 | 4.9826e+00\n",
      "   18400 | 3.12e-03 | 9.41e-02 | 5.0098e+00\n",
      "   18500 | 3.11e-03 | 9.41e-02 | 5.0343e+00\n",
      "   18600 | 3.08e-03 | 9.38e-02 | 5.0612e+00\n",
      "   18700 | 3.08e-03 | 9.38e-02 | 5.0851e+00\n",
      "   18800 | 3.05e-03 | 9.35e-02 | 5.1090e+00\n",
      "   18900 | 3.04e-03 | 9.35e-02 | 5.1336e+00\n",
      "   19000 | 3.04e-03 | 9.35e-02 | 5.1576e+00\n",
      "   19100 | 3.03e-03 | 9.34e-02 | 5.1817e+00\n"
     ]
    },
    {
     "name": "stdout",
     "output_type": "stream",
     "text": [
      "   19200 | 3.02e-03 | 9.35e-02 | 5.2174e+00\n",
      "   19300 | 3.00e-03 | 9.31e-02 | 5.2454e+00\n",
      "   19400 | 2.98e-03 | 9.31e-02 | 5.2696e+00\n",
      "   19500 | 2.98e-03 | 9.31e-02 | 5.2939e+00\n",
      "   19600 | 2.97e-03 | 9.31e-02 | 5.3179e+00\n",
      "   19700 | 2.96e-03 | 9.32e-02 | 5.3426e+00\n",
      "   19800 | 2.95e-03 | 9.32e-02 | 5.3668e+00\n",
      "   19900 | 2.93e-03 | 9.30e-02 | 5.3923e+00\n",
      "   20000 | 2.92e-03 | 9.30e-02 | 5.4164e+00\n",
      "   20100 | 2.91e-03 | 9.27e-02 | 5.4528e+00\n",
      "   20200 | 2.88e-03 | 9.25e-02 | 5.4849e+00\n",
      "   20300 | 2.83e-03 | 9.22e-02 | 5.5105e+00\n",
      "   20400 | 2.81e-03 | 9.21e-02 | 5.5348e+00\n",
      "   20500 | 2.80e-03 | 9.21e-02 | 5.5606e+00\n",
      "   20600 | 2.79e-03 | 9.21e-02 | 5.5847e+00\n",
      "   20700 | 2.76e-03 | 9.18e-02 | 5.6093e+00\n",
      "   20800 | 2.73e-03 | 9.15e-02 | 5.6337e+00\n",
      "   20900 | 2.73e-03 | 9.16e-02 | 5.6614e+00\n",
      "   21000 | 2.72e-03 | 9.16e-02 | 5.6972e+00\n",
      "   21100 | 2.68e-03 | 9.10e-02 | 5.7232e+00\n",
      "   21200 | 2.66e-03 | 9.03e-02 | 5.7480e+00\n",
      "   21300 | 2.66e-03 | 9.03e-02 | 5.7721e+00\n",
      "   21400 | 2.61e-03 | 8.97e-02 | 5.7965e+00\n",
      "   21500 | 2.59e-03 | 8.97e-02 | 5.8211e+00\n",
      "   21600 | 2.59e-03 | 8.97e-02 | 5.8449e+00\n",
      "   21700 | 2.59e-03 | 8.97e-02 | 5.8710e+00\n",
      "   21800 | 2.58e-03 | 8.98e-02 | 5.9027e+00\n",
      "   21900 | 2.58e-03 | 8.98e-02 | 5.9288e+00\n",
      "   22000 | 2.58e-03 | 8.98e-02 | 5.9531e+00\n",
      "   22100 | 2.58e-03 | 8.97e-02 | 5.9775e+00\n",
      "   22200 | 2.57e-03 | 8.95e-02 | 6.0019e+00\n",
      "   22300 | 2.57e-03 | 8.95e-02 | 6.0260e+00\n",
      "   22400 | 2.57e-03 | 8.93e-02 | 6.0507e+00\n",
      "   22500 | 2.56e-03 | 8.91e-02 | 6.0779e+00\n",
      "   22600 | 2.51e-03 | 8.90e-02 | 6.1096e+00\n",
      "   22700 | 2.51e-03 | 8.90e-02 | 6.1362e+00\n",
      "   22800 | 2.50e-03 | 8.90e-02 | 6.1607e+00\n",
      "   22900 | 2.50e-03 | 8.90e-02 | 6.1854e+00\n",
      "   23000 | 2.50e-03 | 8.90e-02 | 6.2096e+00\n",
      "   23100 | 2.50e-03 | 8.90e-02 | 6.2341e+00\n",
      "   23200 | 2.50e-03 | 8.90e-02 | 6.2584e+00\n",
      "   23300 | 2.50e-03 | 8.90e-02 | 6.2874e+00\n",
      "   23400 | 2.46e-03 | 8.87e-02 | 6.3194e+00\n",
      "   23500 | 2.43e-03 | 8.85e-02 | 6.3458e+00\n",
      "   23600 | 2.43e-03 | 8.85e-02 | 6.3726e+00\n",
      "   23700 | 2.43e-03 | 8.85e-02 | 6.3977e+00\n",
      "   23800 | 2.42e-03 | 8.82e-02 | 6.4224e+00\n",
      "   23900 | 2.42e-03 | 8.83e-02 | 6.4464e+00\n",
      "   24000 | 2.41e-03 | 8.80e-02 | 6.4707e+00\n",
      "   24100 | 2.41e-03 | 8.80e-02 | 6.4988e+00\n",
      "   24200 | 2.38e-03 | 8.80e-02 | 6.5335e+00\n",
      "   24300 | 2.36e-03 | 8.80e-02 | 6.5619e+00\n",
      "   24400 | 2.35e-03 | 8.78e-02 | 6.5878e+00\n",
      "   24500 | 2.34e-03 | 8.78e-02 | 6.6125e+00\n",
      "   24600 | 2.34e-03 | 8.78e-02 | 6.6395e+00\n",
      "   24700 | 2.32e-03 | 8.75e-02 | 6.6642e+00\n",
      "   24800 | 2.32e-03 | 8.75e-02 | 6.6909e+00\n",
      "   24900 | 2.29e-03 | 8.68e-02 | 6.7285e+00\n",
      "   25000 | 2.29e-03 | 8.68e-02 | 6.7551e+00\n",
      "   25100 | 2.29e-03 | 8.68e-02 | 6.7807e+00\n",
      "   25200 | 2.29e-03 | 8.68e-02 | 6.8052e+00\n",
      "   25300 | 2.29e-03 | 8.68e-02 | 6.8293e+00\n",
      "   25400 | 2.28e-03 | 8.66e-02 | 6.8535e+00\n",
      "   25500 | 2.27e-03 | 8.66e-02 | 6.8779e+00\n",
      "   25600 | 2.26e-03 | 8.64e-02 | 6.9020e+00\n",
      "   25700 | 2.25e-03 | 8.64e-02 | 6.9266e+00\n",
      "   25800 | 2.24e-03 | 8.63e-02 | 6.9614e+00\n",
      "   25900 | 2.24e-03 | 8.63e-02 | 6.9895e+00\n",
      "   26000 | 2.24e-03 | 8.61e-02 | 7.0140e+00\n",
      "   26100 | 2.24e-03 | 8.61e-02 | 7.0381e+00\n",
      "   26200 | 2.22e-03 | 8.59e-02 | 7.0619e+00\n",
      "   26300 | 2.21e-03 | 8.58e-02 | 7.0859e+00\n",
      "   26400 | 2.21e-03 | 8.59e-02 | 7.1104e+00\n",
      "   26500 | 2.20e-03 | 8.56e-02 | 7.1344e+00\n",
      "   26600 | 2.18e-03 | 8.56e-02 | 7.1587e+00\n",
      "   26700 | 2.18e-03 | 8.56e-02 | 7.1975e+00\n",
      "   26800 | 2.16e-03 | 8.53e-02 | 7.2250e+00\n",
      "   26900 | 2.15e-03 | 8.48e-02 | 7.2492e+00\n",
      "   27000 | 2.13e-03 | 8.48e-02 | 7.2733e+00\n",
      "   27100 | 2.13e-03 | 8.48e-02 | 7.2977e+00\n",
      "   27200 | 2.11e-03 | 8.45e-02 | 7.3225e+00\n",
      "   27300 | 2.11e-03 | 8.45e-02 | 7.3467e+00\n",
      "   27400 | 2.10e-03 | 8.40e-02 | 7.3707e+00\n",
      "   27500 | 2.09e-03 | 8.41e-02 | 7.3983e+00\n",
      "   27600 | 2.09e-03 | 8.40e-02 | 7.4340e+00\n",
      "   27700 | 2.09e-03 | 8.41e-02 | 7.4752e+00\n",
      "   27800 | 2.08e-03 | 8.38e-02 | 7.5037e+00\n",
      "   27900 | 2.08e-03 | 8.38e-02 | 7.5283e+00\n",
      "   28000 | 2.08e-03 | 8.38e-02 | 7.5533e+00\n",
      "   28100 | 2.07e-03 | 8.38e-02 | 7.5779e+00\n",
      "   28200 | 2.07e-03 | 8.38e-02 | 7.6028e+00\n",
      "   28300 | 2.07e-03 | 8.38e-02 | 7.6399e+00\n",
      "   28400 | 2.07e-03 | 8.39e-02 | 7.6686e+00\n",
      "   28500 | 2.07e-03 | 8.38e-02 | 7.6976e+00\n",
      "   28600 | 2.06e-03 | 8.36e-02 | 7.7228e+00\n",
      "   28700 | 2.06e-03 | 8.36e-02 | 7.7467e+00\n",
      "   28800 | 2.06e-03 | 8.36e-02 | 7.7710e+00\n",
      "   28900 | 2.05e-03 | 8.36e-02 | 7.7958e+00\n",
      "   29000 | 2.05e-03 | 8.36e-02 | 7.8297e+00\n",
      "   29100 | 2.05e-03 | 8.36e-02 | 7.8578e+00\n",
      "   29200 | 2.04e-03 | 8.34e-02 | 7.8823e+00\n",
      "   29300 | 2.03e-03 | 8.34e-02 | 7.9073e+00\n",
      "   29400 | 2.03e-03 | 8.34e-02 | 7.9312e+00\n",
      "   29500 | 2.03e-03 | 8.34e-02 | 7.9553e+00\n",
      "   29600 | 2.03e-03 | 8.34e-02 | 7.9796e+00\n",
      "   29700 | 2.03e-03 | 8.34e-02 | 8.0036e+00\n",
      "   29800 | 2.02e-03 | 8.32e-02 | 8.0283e+00\n",
      "   29900 | 2.00e-03 | 8.29e-02 | 8.0647e+00\n",
      "   30000 | 1.99e-03 | 8.29e-02 | 8.0928e+00\n",
      "   30100 | 1.98e-03 | 8.27e-02 | 8.1166e+00\n",
      "   30200 | 1.98e-03 | 8.27e-02 | 8.1409e+00\n",
      "   30300 | 1.98e-03 | 8.27e-02 | 8.1655e+00\n",
      "   30400 | 1.98e-03 | 8.25e-02 | 8.1900e+00\n",
      "   30500 | 1.97e-03 | 8.22e-02 | 8.2145e+00\n",
      "   30600 | 1.97e-03 | 8.22e-02 | 8.2400e+00\n",
      "   30700 | 1.96e-03 | 8.20e-02 | 8.2643e+00\n",
      "   30800 | 1.95e-03 | 8.18e-02 | 8.3019e+00\n",
      "   30900 | 1.95e-03 | 8.18e-02 | 8.3270e+00\n",
      "   31000 | 1.95e-03 | 8.18e-02 | 8.3512e+00\n",
      "   31100 | 1.92e-03 | 8.18e-02 | 8.3753e+00\n",
      "   31200 | 1.91e-03 | 8.16e-02 | 8.3991e+00\n",
      "   31300 | 1.90e-03 | 8.16e-02 | 8.4236e+00\n",
      "   31400 | 1.90e-03 | 8.16e-02 | 8.4485e+00\n",
      "   31500 | 1.88e-03 | 8.16e-02 | 8.4728e+00\n",
      "   31600 | 1.88e-03 | 8.16e-02 | 8.5004e+00\n",
      "   31700 | 1.88e-03 | 8.16e-02 | 8.5397e+00\n",
      "   31800 | 1.88e-03 | 8.16e-02 | 8.5645e+00\n",
      "   31900 | 1.86e-03 | 8.11e-02 | 8.5887e+00\n",
      "   32000 | 1.86e-03 | 8.11e-02 | 8.6148e+00\n",
      "   32100 | 1.85e-03 | 8.09e-02 | 8.6393e+00\n",
      "   32200 | 1.85e-03 | 8.06e-02 | 8.6634e+00\n",
      "   32300 | 1.85e-03 | 8.06e-02 | 8.6890e+00\n",
      "   32400 | 1.85e-03 | 8.06e-02 | 8.7144e+00\n",
      "   32500 | 1.85e-03 | 8.06e-02 | 8.7395e+00\n",
      "   32600 | 1.85e-03 | 8.06e-02 | 8.7767e+00\n",
      "   32700 | 1.85e-03 | 8.06e-02 | 8.8030e+00\n",
      "   32800 | 1.84e-03 | 8.05e-02 | 8.8285e+00\n",
      "   32900 | 1.84e-03 | 8.06e-02 | 8.8524e+00\n",
      "   33000 | 1.84e-03 | 8.05e-02 | 8.8787e+00\n",
      "   33100 | 1.84e-03 | 8.06e-02 | 8.9032e+00\n",
      "   33200 | 1.84e-03 | 8.06e-02 | 8.9275e+00\n",
      "   33300 | 1.84e-03 | 8.06e-02 | 8.9518e+00\n",
      "   33400 | 1.84e-03 | 8.05e-02 | 8.9759e+00\n",
      "   33500 | 1.84e-03 | 8.06e-02 | 9.0152e+00\n",
      "   33600 | 1.84e-03 | 8.06e-02 | 9.0419e+00\n",
      "   33700 | 1.84e-03 | 8.06e-02 | 9.0666e+00\n",
      "   33800 | 1.83e-03 | 8.04e-02 | 9.0912e+00\n",
      "   33900 | 1.83e-03 | 8.04e-02 | 9.1151e+00\n",
      "   34000 | 1.83e-03 | 8.03e-02 | 9.1396e+00\n",
      "   34100 | 1.83e-03 | 8.01e-02 | 9.1643e+00\n",
      "   34200 | 1.82e-03 | 7.99e-02 | 9.1884e+00\n",
      "   34300 | 1.82e-03 | 7.99e-02 | 9.2135e+00\n",
      "   34400 | 1.82e-03 | 7.99e-02 | 9.2553e+00\n",
      "   34500 | 1.82e-03 | 7.99e-02 | 9.2859e+00\n",
      "   34600 | 1.82e-03 | 7.99e-02 | 9.3181e+00\n",
      "   34700 | 1.81e-03 | 7.95e-02 | 9.3439e+00\n",
      "   34800 | 1.81e-03 | 7.95e-02 | 9.3699e+00\n",
      "   34900 | 1.81e-03 | 7.94e-02 | 9.3953e+00\n",
      "   35000 | 1.80e-03 | 7.94e-02 | 9.4202e+00\n",
      "   35100 | 1.80e-03 | 7.94e-02 | 9.4445e+00\n",
      "   35200 | 1.80e-03 | 7.94e-02 | 9.4752e+00\n",
      "   35300 | 1.80e-03 | 7.93e-02 | 9.5090e+00\n",
      "   35400 | 1.80e-03 | 7.93e-02 | 9.5358e+00\n",
      "   35500 | 1.80e-03 | 7.93e-02 | 9.5614e+00\n",
      "   35600 | 1.79e-03 | 7.91e-02 | 9.5855e+00\n",
      "   35700 | 1.79e-03 | 7.89e-02 | 9.6104e+00\n",
      "   35800 | 1.79e-03 | 7.89e-02 | 9.6357e+00\n",
      "   35900 | 1.78e-03 | 7.87e-02 | 9.6597e+00\n",
      "   36000 | 1.78e-03 | 7.87e-02 | 9.6898e+00\n",
      "   36100 | 1.78e-03 | 7.86e-02 | 9.7253e+00\n",
      "   36200 | 1.77e-03 | 7.84e-02 | 9.7537e+00\n",
      "   36300 | 1.77e-03 | 7.82e-02 | 9.7787e+00\n",
      "   36400 | 1.77e-03 | 7.81e-02 | 9.8043e+00\n",
      "   36500 | 1.77e-03 | 7.81e-02 | 9.8288e+00\n",
      "   36600 | 1.77e-03 | 7.81e-02 | 9.8530e+00\n",
      "   36700 | 1.77e-03 | 7.81e-02 | 9.8773e+00\n",
      "   36800 | 1.77e-03 | 7.81e-02 | 9.9091e+00\n",
      "   36900 | 1.76e-03 | 7.79e-02 | 9.9446e+00\n",
      "   37000 | 1.76e-03 | 7.78e-02 | 9.9702e+00\n",
      "   37100 | 1.75e-03 | 7.74e-02 | 9.9951e+00\n",
      "   37200 | 1.75e-03 | 7.74e-02 | 1.0022e+01\n",
      "   37300 | 1.75e-03 | 7.73e-02 | 1.0046e+01\n",
      "   37400 | 1.75e-03 | 7.73e-02 | 1.0071e+01\n",
      "   37500 | 1.75e-03 | 7.73e-02 | 1.0095e+01\n",
      "   37600 | 1.75e-03 | 7.72e-02 | 1.0124e+01\n",
      "   37700 | 1.74e-03 | 7.70e-02 | 1.0154e+01\n",
      "   37800 | 1.73e-03 | 7.67e-02 | 1.0181e+01\n",
      "   37900 | 1.73e-03 | 7.67e-02 | 1.0206e+01\n",
      "   38000 | 1.73e-03 | 7.67e-02 | 1.0230e+01\n",
      "   38100 | 1.73e-03 | 7.67e-02 | 1.0255e+01\n",
      "   38200 | 1.73e-03 | 7.67e-02 | 1.0279e+01\n",
      "   38300 | 1.73e-03 | 7.67e-02 | 1.0303e+01\n"
     ]
    },
    {
     "name": "stdout",
     "output_type": "stream",
     "text": [
      "   38400 | 1.73e-03 | 7.65e-02 | 1.0327e+01\n",
      "   38500 | 1.73e-03 | 7.65e-02 | 1.0366e+01\n",
      "   38600 | 1.73e-03 | 7.65e-02 | 1.0395e+01\n",
      "   38700 | 1.72e-03 | 7.65e-02 | 1.0420e+01\n",
      "   38800 | 1.72e-03 | 7.65e-02 | 1.0444e+01\n",
      "   38900 | 1.72e-03 | 7.64e-02 | 1.0470e+01\n",
      "   39000 | 1.72e-03 | 7.62e-02 | 1.0495e+01\n",
      "   39100 | 1.71e-03 | 7.62e-02 | 1.0519e+01\n",
      "   39200 | 1.71e-03 | 7.61e-02 | 1.0544e+01\n",
      "   39300 | 1.71e-03 | 7.61e-02 | 1.0569e+01\n",
      "   39400 | 1.71e-03 | 7.60e-02 | 1.0608e+01\n",
      "   39500 | 1.71e-03 | 7.59e-02 | 1.0636e+01\n",
      "   39600 | 1.71e-03 | 7.59e-02 | 1.0660e+01\n",
      "   39700 | 1.71e-03 | 7.59e-02 | 1.0685e+01\n",
      "   39800 | 1.71e-03 | 7.59e-02 | 1.0709e+01\n",
      "   39900 | 1.70e-03 | 7.56e-02 | 1.0734e+01\n",
      "   40000 | 1.70e-03 | 7.56e-02 | 1.0759e+01\n",
      "   40100 | 1.70e-03 | 7.56e-02 | 1.0791e+01\n",
      "   40200 | 1.70e-03 | 7.56e-02 | 1.0821e+01\n",
      "   40300 | 1.70e-03 | 7.56e-02 | 1.0845e+01\n",
      "   40400 | 1.70e-03 | 7.56e-02 | 1.0870e+01\n",
      "   40500 | 1.69e-03 | 7.54e-02 | 1.0895e+01\n",
      "   40600 | 1.69e-03 | 7.54e-02 | 1.0919e+01\n",
      "   40700 | 1.69e-03 | 7.54e-02 | 1.0943e+01\n",
      "   40800 | 1.69e-03 | 7.54e-02 | 1.0968e+01\n",
      "   40900 | 1.69e-03 | 7.54e-02 | 1.0992e+01\n",
      "   41000 | 1.69e-03 | 7.54e-02 | 1.1028e+01\n",
      "   41100 | 1.69e-03 | 7.52e-02 | 1.1055e+01\n",
      "   41200 | 1.69e-03 | 7.52e-02 | 1.1080e+01\n",
      "   41300 | 1.68e-03 | 7.52e-02 | 1.1103e+01\n",
      "   41400 | 1.68e-03 | 7.52e-02 | 1.1128e+01\n",
      "   41500 | 1.68e-03 | 7.52e-02 | 1.1152e+01\n",
      "   41600 | 1.68e-03 | 7.52e-02 | 1.1181e+01\n",
      "   41700 | 1.68e-03 | 7.51e-02 | 1.1206e+01\n",
      "   41800 | 1.68e-03 | 7.51e-02 | 1.1230e+01\n",
      "   41900 | 1.68e-03 | 7.50e-02 | 1.1265e+01\n",
      "   42000 | 1.67e-03 | 7.47e-02 | 1.1294e+01\n",
      "   42100 | 1.67e-03 | 7.46e-02 | 1.1317e+01\n",
      "   42200 | 1.67e-03 | 7.46e-02 | 1.1342e+01\n",
      "   42300 | 1.66e-03 | 7.45e-02 | 1.1367e+01\n",
      "   42400 | 1.66e-03 | 7.45e-02 | 1.1392e+01\n",
      "   42500 | 1.66e-03 | 7.44e-02 | 1.1416e+01\n",
      "   42600 | 1.66e-03 | 7.44e-02 | 1.1440e+01\n",
      "   42700 | 1.66e-03 | 7.44e-02 | 1.1464e+01\n",
      "   42800 | 1.66e-03 | 7.42e-02 | 1.1501e+01\n",
      "   42900 | 1.65e-03 | 7.39e-02 | 1.1527e+01\n",
      "   43000 | 1.64e-03 | 7.38e-02 | 1.1552e+01\n",
      "   43100 | 1.64e-03 | 7.38e-02 | 1.1577e+01\n",
      "   43200 | 1.64e-03 | 7.38e-02 | 1.1602e+01\n",
      "   43300 | 1.64e-03 | 7.37e-02 | 1.1627e+01\n",
      "   43400 | 1.64e-03 | 7.35e-02 | 1.1652e+01\n",
      "   43500 | 1.64e-03 | 7.35e-02 | 1.1676e+01\n",
      "   43600 | 1.63e-03 | 7.35e-02 | 1.1700e+01\n",
      "   43700 | 1.63e-03 | 7.35e-02 | 1.1736e+01\n",
      "   43800 | 1.63e-03 | 7.35e-02 | 1.1762e+01\n",
      "   43900 | 1.63e-03 | 7.34e-02 | 1.1787e+01\n",
      "   44000 | 1.63e-03 | 7.34e-02 | 1.1812e+01\n",
      "   44100 | 1.63e-03 | 7.33e-02 | 1.1838e+01\n",
      "   44200 | 1.62e-03 | 7.32e-02 | 1.1862e+01\n",
      "   44300 | 1.62e-03 | 7.32e-02 | 1.1887e+01\n",
      "   44400 | 1.62e-03 | 7.32e-02 | 1.1912e+01\n",
      "   44500 | 1.62e-03 | 7.32e-02 | 1.1939e+01\n",
      "   44600 | 1.62e-03 | 7.32e-02 | 1.1975e+01\n",
      "   44700 | 1.61e-03 | 7.28e-02 | 1.2001e+01\n",
      "   44800 | 1.61e-03 | 7.28e-02 | 1.2025e+01\n",
      "   44900 | 1.61e-03 | 7.28e-02 | 1.2049e+01\n",
      "   45000 | 1.61e-03 | 7.27e-02 | 1.2074e+01\n",
      "   45100 | 1.61e-03 | 7.27e-02 | 1.2099e+01\n",
      "   45200 | 1.61e-03 | 7.27e-02 | 1.2123e+01\n",
      "   45300 | 1.61e-03 | 7.27e-02 | 1.2153e+01\n",
      "   45400 | 1.61e-03 | 7.25e-02 | 1.2183e+01\n",
      "   45500 | 1.60e-03 | 7.23e-02 | 1.2209e+01\n",
      "   45600 | 1.60e-03 | 7.23e-02 | 1.2234e+01\n",
      "   45700 | 1.60e-03 | 7.23e-02 | 1.2258e+01\n",
      "   45800 | 1.59e-03 | 7.21e-02 | 1.2283e+01\n",
      "   45900 | 1.59e-03 | 7.18e-02 | 1.2307e+01\n",
      "   46000 | 1.58e-03 | 7.15e-02 | 1.2331e+01\n",
      "   46100 | 1.58e-03 | 7.15e-02 | 1.2355e+01\n",
      "   46200 | 1.58e-03 | 7.13e-02 | 1.2389e+01\n",
      "   46300 | 1.58e-03 | 7.13e-02 | 1.2416e+01\n",
      "   46400 | 1.58e-03 | 7.13e-02 | 1.2448e+01\n",
      "   46500 | 1.58e-03 | 7.12e-02 | 1.2499e+01\n",
      "   46600 | 1.57e-03 | 7.11e-02 | 1.2524e+01\n",
      "   46700 | 1.57e-03 | 7.11e-02 | 1.2549e+01\n",
      "   46800 | 1.57e-03 | 7.11e-02 | 1.2584e+01\n",
      "   46900 | 1.57e-03 | 7.10e-02 | 1.2615e+01\n",
      "   47000 | 1.57e-03 | 7.10e-02 | 1.2640e+01\n",
      "   47100 | 1.56e-03 | 7.09e-02 | 1.2665e+01\n",
      "   47200 | 1.56e-03 | 7.09e-02 | 1.2689e+01\n",
      "   47300 | 1.56e-03 | 7.08e-02 | 1.2713e+01\n",
      "   47400 | 1.56e-03 | 7.08e-02 | 1.2741e+01\n",
      "   47500 | 1.56e-03 | 7.07e-02 | 1.2766e+01\n",
      "   47600 | 1.55e-03 | 7.07e-02 | 1.2796e+01\n",
      "   47700 | 1.55e-03 | 7.07e-02 | 1.2846e+01\n",
      "   47800 | 1.55e-03 | 7.07e-02 | 1.2871e+01\n",
      "   47900 | 1.55e-03 | 7.05e-02 | 1.2895e+01\n",
      "   48000 | 1.54e-03 | 7.03e-02 | 1.2921e+01\n",
      "   48100 | 1.54e-03 | 7.03e-02 | 1.2945e+01\n",
      "   48200 | 1.53e-03 | 7.00e-02 | 1.2970e+01\n",
      "   48300 | 1.53e-03 | 7.00e-02 | 1.2994e+01\n",
      "   48400 | 1.53e-03 | 7.00e-02 | 1.3045e+01\n",
      "   48500 | 1.53e-03 | 7.00e-02 | 1.3080e+01\n",
      "   48600 | 1.53e-03 | 6.99e-02 | 1.3120e+01\n",
      "   48700 | 1.53e-03 | 6.99e-02 | 1.3151e+01\n",
      "   48800 | 1.53e-03 | 6.98e-02 | 1.3175e+01\n",
      "   48900 | 1.52e-03 | 6.97e-02 | 1.3203e+01\n",
      "   49000 | 1.52e-03 | 6.97e-02 | 1.3227e+01\n",
      "   49100 | 1.52e-03 | 6.97e-02 | 1.3256e+01\n",
      "   49200 | 1.51e-03 | 6.95e-02 | 1.3291e+01\n",
      "   49300 | 1.51e-03 | 6.95e-02 | 1.3319e+01\n",
      "   49400 | 1.51e-03 | 6.95e-02 | 1.3343e+01\n",
      "   49500 | 1.51e-03 | 6.95e-02 | 1.3367e+01\n",
      "   49600 | 1.51e-03 | 6.94e-02 | 1.3391e+01\n",
      "   49700 | 1.51e-03 | 6.94e-02 | 1.3416e+01\n",
      "   49800 | 1.51e-03 | 6.94e-02 | 1.3440e+01\n",
      "   49900 | 1.51e-03 | 6.94e-02 | 1.3471e+01\n",
      "   50000 | 1.50e-03 | 6.92e-02 | 1.3508e+01\n",
      "   50100 | 1.50e-03 | 6.91e-02 | 1.3534e+01\n",
      "   50200 | 1.50e-03 | 6.91e-02 | 1.3558e+01\n",
      "   50300 | 1.50e-03 | 6.91e-02 | 1.3582e+01\n",
      "   50400 | 1.50e-03 | 6.91e-02 | 1.3606e+01\n",
      "   50500 | 1.50e-03 | 6.91e-02 | 1.3630e+01\n",
      "   50600 | 1.50e-03 | 6.91e-02 | 1.3654e+01\n",
      "   50700 | 1.50e-03 | 6.91e-02 | 1.3683e+01\n",
      "   50800 | 1.49e-03 | 6.87e-02 | 1.3714e+01\n",
      "   50900 | 1.49e-03 | 6.87e-02 | 1.3741e+01\n",
      "   51000 | 1.48e-03 | 6.85e-02 | 1.3766e+01\n",
      "   51100 | 1.47e-03 | 6.83e-02 | 1.3793e+01\n",
      "   51200 | 1.47e-03 | 6.83e-02 | 1.3818e+01\n",
      "   51300 | 1.46e-03 | 6.80e-02 | 1.3842e+01\n",
      "   51400 | 1.46e-03 | 6.79e-02 | 1.3866e+01\n",
      "   51500 | 1.45e-03 | 6.77e-02 | 1.3894e+01\n",
      "   51600 | 1.45e-03 | 6.77e-02 | 1.3925e+01\n",
      "   51700 | 1.45e-03 | 6.77e-02 | 1.3951e+01\n",
      "   51800 | 1.45e-03 | 6.77e-02 | 1.3976e+01\n",
      "   51900 | 1.45e-03 | 6.75e-02 | 1.4001e+01\n",
      "   52000 | 1.45e-03 | 6.75e-02 | 1.4026e+01\n",
      "   52100 | 1.44e-03 | 6.73e-02 | 1.4050e+01\n",
      "   52200 | 1.44e-03 | 6.73e-02 | 1.4075e+01\n",
      "   52300 | 1.44e-03 | 6.72e-02 | 1.4107e+01\n",
      "   52400 | 1.44e-03 | 6.72e-02 | 1.4140e+01\n",
      "   52500 | 1.44e-03 | 6.72e-02 | 1.4165e+01\n",
      "   52600 | 1.44e-03 | 6.72e-02 | 1.4190e+01\n",
      "   52700 | 1.43e-03 | 6.70e-02 | 1.4214e+01\n",
      "   52800 | 1.43e-03 | 6.69e-02 | 1.4239e+01\n",
      "   52900 | 1.43e-03 | 6.69e-02 | 1.4264e+01\n",
      "   53000 | 1.43e-03 | 6.69e-02 | 1.4288e+01\n",
      "   53100 | 1.43e-03 | 6.69e-02 | 1.4324e+01\n",
      "   53200 | 1.42e-03 | 6.67e-02 | 1.4380e+01\n",
      "   53300 | 1.42e-03 | 6.67e-02 | 1.4413e+01\n",
      "   53400 | 1.41e-03 | 6.65e-02 | 1.4438e+01\n",
      "   53500 | 1.41e-03 | 6.65e-02 | 1.4462e+01\n",
      "   53600 | 1.41e-03 | 6.65e-02 | 1.4486e+01\n",
      "   53700 | 1.41e-03 | 6.65e-02 | 1.4511e+01\n",
      "   53800 | 1.41e-03 | 6.65e-02 | 1.4542e+01\n",
      "   53900 | 1.41e-03 | 6.65e-02 | 1.4572e+01\n",
      "   54000 | 1.41e-03 | 6.65e-02 | 1.4597e+01\n",
      "   54100 | 1.41e-03 | 6.65e-02 | 1.4622e+01\n",
      "   54200 | 1.41e-03 | 6.65e-02 | 1.4647e+01\n",
      "   54300 | 1.41e-03 | 6.66e-02 | 1.4671e+01\n",
      "   54400 | 1.41e-03 | 6.66e-02 | 1.4695e+01\n",
      "   54500 | 1.41e-03 | 6.65e-02 | 1.4719e+01\n",
      "   54600 | 1.40e-03 | 6.63e-02 | 1.4744e+01\n",
      "   54700 | 1.39e-03 | 6.60e-02 | 1.4780e+01\n",
      "   54800 | 1.39e-03 | 6.60e-02 | 1.4807e+01\n",
      "   54900 | 1.39e-03 | 6.60e-02 | 1.4832e+01\n",
      "   55000 | 1.39e-03 | 6.60e-02 | 1.4856e+01\n",
      "   55100 | 1.39e-03 | 6.60e-02 | 1.4881e+01\n",
      "   55200 | 1.39e-03 | 6.59e-02 | 1.4906e+01\n",
      "   55300 | 1.38e-03 | 6.57e-02 | 1.4931e+01\n",
      "   55400 | 1.38e-03 | 6.57e-02 | 1.4955e+01\n",
      "   55500 | 1.38e-03 | 6.57e-02 | 1.4980e+01\n",
      "   55600 | 1.38e-03 | 6.58e-02 | 1.5011e+01\n",
      "   55700 | 1.37e-03 | 6.57e-02 | 1.5042e+01\n",
      "   55800 | 1.37e-03 | 6.57e-02 | 1.5067e+01\n",
      "   55900 | 1.37e-03 | 6.56e-02 | 1.5091e+01\n",
      "   56000 | 1.37e-03 | 6.55e-02 | 1.5115e+01\n",
      "   56100 | 1.36e-03 | 6.53e-02 | 1.5141e+01\n",
      "   56200 | 1.36e-03 | 6.53e-02 | 1.5165e+01\n",
      "   56300 | 1.36e-03 | 6.52e-02 | 1.5190e+01\n",
      "   56400 | 1.36e-03 | 6.52e-02 | 1.5215e+01\n",
      "   56500 | 1.35e-03 | 6.50e-02 | 1.5250e+01\n",
      "   56600 | 1.35e-03 | 6.50e-02 | 1.5280e+01\n",
      "   56700 | 1.35e-03 | 6.50e-02 | 1.5305e+01\n",
      "   56800 | 1.35e-03 | 6.49e-02 | 1.5329e+01\n",
      "   56900 | 1.34e-03 | 6.46e-02 | 1.5353e+01\n",
      "   57000 | 1.34e-03 | 6.46e-02 | 1.5378e+01\n",
      "   57100 | 1.34e-03 | 6.45e-02 | 1.5402e+01\n"
     ]
    },
    {
     "name": "stdout",
     "output_type": "stream",
     "text": [
      "   57200 | 1.34e-03 | 6.45e-02 | 1.5429e+01\n",
      "   57300 | 1.34e-03 | 6.45e-02 | 1.5461e+01\n",
      "   57400 | 1.33e-03 | 6.43e-02 | 1.5488e+01\n",
      "   57500 | 1.33e-03 | 6.43e-02 | 1.5512e+01\n",
      "   57600 | 1.33e-03 | 6.43e-02 | 1.5536e+01\n",
      "   57700 | 1.33e-03 | 6.43e-02 | 1.5561e+01\n",
      "   57800 | 1.32e-03 | 6.43e-02 | 1.5586e+01\n",
      "   57900 | 1.32e-03 | 6.43e-02 | 1.5610e+01\n",
      "   58000 | 1.32e-03 | 6.41e-02 | 1.5638e+01\n",
      "   58100 | 1.31e-03 | 6.39e-02 | 1.5674e+01\n",
      "   58200 | 1.31e-03 | 6.39e-02 | 1.5700e+01\n",
      "   58300 | 1.31e-03 | 6.37e-02 | 1.5725e+01\n",
      "   58400 | 1.30e-03 | 6.35e-02 | 1.5749e+01\n",
      "   58500 | 1.30e-03 | 6.35e-02 | 1.5775e+01\n",
      "   58600 | 1.30e-03 | 6.35e-02 | 1.5801e+01\n",
      "   58700 | 1.30e-03 | 6.34e-02 | 1.5826e+01\n",
      "   58800 | 1.30e-03 | 6.34e-02 | 1.5858e+01\n",
      "   58900 | 1.30e-03 | 6.33e-02 | 1.5888e+01\n",
      "   59000 | 1.29e-03 | 6.32e-02 | 1.5913e+01\n",
      "   59100 | 1.29e-03 | 6.32e-02 | 1.5938e+01\n",
      "   59200 | 1.29e-03 | 6.31e-02 | 1.5964e+01\n",
      "   59300 | 1.29e-03 | 6.31e-02 | 1.5988e+01\n",
      "   59400 | 1.29e-03 | 6.30e-02 | 1.6013e+01\n",
      "   59500 | 1.29e-03 | 6.30e-02 | 1.6038e+01\n",
      "   59600 | 1.29e-03 | 6.30e-02 | 1.6067e+01\n",
      "   59700 | 1.28e-03 | 6.28e-02 | 1.6100e+01\n",
      "   59800 | 1.28e-03 | 6.28e-02 | 1.6126e+01\n",
      "   59900 | 1.28e-03 | 6.27e-02 | 1.6152e+01\n",
      "   60000 | 1.28e-03 | 6.27e-02 | 1.6180e+01\n",
      "   60100 | 1.28e-03 | 6.26e-02 | 1.6205e+01\n",
      "   60200 | 1.27e-03 | 6.25e-02 | 1.6229e+01\n",
      "   60300 | 1.27e-03 | 6.24e-02 | 1.6253e+01\n",
      "   60400 | 1.27e-03 | 6.24e-02 | 1.6282e+01\n",
      "   60500 | 1.27e-03 | 6.24e-02 | 1.6317e+01\n",
      "   60600 | 1.27e-03 | 6.24e-02 | 1.6342e+01\n",
      "   60700 | 1.26e-03 | 6.21e-02 | 1.6366e+01\n",
      "   60800 | 1.26e-03 | 6.21e-02 | 1.6391e+01\n",
      "   60900 | 1.26e-03 | 6.21e-02 | 1.6415e+01\n",
      "   61000 | 1.26e-03 | 6.21e-02 | 1.6439e+01\n",
      "   61100 | 1.26e-03 | 6.21e-02 | 1.6464e+01\n",
      "   61200 | 1.25e-03 | 6.21e-02 | 1.6491e+01\n",
      "   61300 | 1.25e-03 | 6.19e-02 | 1.6526e+01\n",
      "   61400 | 1.25e-03 | 6.17e-02 | 1.6554e+01\n",
      "   61500 | 1.24e-03 | 6.15e-02 | 1.6579e+01\n",
      "   61600 | 1.24e-03 | 6.15e-02 | 1.6603e+01\n",
      "   61700 | 1.24e-03 | 6.15e-02 | 1.6628e+01\n",
      "   61800 | 1.24e-03 | 6.15e-02 | 1.6652e+01\n",
      "   61900 | 1.24e-03 | 6.15e-02 | 1.6677e+01\n",
      "   62000 | 1.24e-03 | 6.15e-02 | 1.6704e+01\n",
      "   62100 | 1.22e-03 | 6.11e-02 | 1.6737e+01\n",
      "   62200 | 1.22e-03 | 6.09e-02 | 1.6764e+01\n",
      "   62300 | 1.22e-03 | 6.08e-02 | 1.6790e+01\n",
      "   62400 | 1.22e-03 | 6.08e-02 | 1.6814e+01\n",
      "   62500 | 1.22e-03 | 6.08e-02 | 1.6839e+01\n",
      "   62600 | 1.21e-03 | 6.07e-02 | 1.6864e+01\n",
      "   62700 | 1.21e-03 | 6.07e-02 | 1.6889e+01\n",
      "   62800 | 1.21e-03 | 6.07e-02 | 1.6915e+01\n",
      "   62900 | 1.21e-03 | 6.05e-02 | 1.6950e+01\n",
      "   63000 | 1.20e-03 | 6.05e-02 | 1.6975e+01\n",
      "   63100 | 1.20e-03 | 6.03e-02 | 1.7000e+01\n",
      "   63200 | 1.19e-03 | 6.00e-02 | 1.7025e+01\n",
      "   63300 | 1.19e-03 | 6.00e-02 | 1.7048e+01\n",
      "   63400 | 1.18e-03 | 5.96e-02 | 1.7072e+01\n",
      "   63500 | 1.18e-03 | 5.96e-02 | 1.7099e+01\n",
      "   63600 | 1.17e-03 | 5.93e-02 | 1.7128e+01\n",
      "   63700 | 1.17e-03 | 5.93e-02 | 1.7165e+01\n",
      "   63800 | 1.17e-03 | 5.93e-02 | 1.7191e+01\n",
      "   63900 | 1.16e-03 | 5.90e-02 | 1.7216e+01\n",
      "   64000 | 1.16e-03 | 5.90e-02 | 1.7240e+01\n",
      "   64100 | 1.16e-03 | 5.89e-02 | 1.7265e+01\n",
      "   64200 | 1.16e-03 | 5.89e-02 | 1.7289e+01\n",
      "   64300 | 1.16e-03 | 5.89e-02 | 1.7313e+01\n",
      "   64400 | 1.16e-03 | 5.89e-02 | 1.7343e+01\n",
      "   64500 | 1.16e-03 | 5.89e-02 | 1.7375e+01\n",
      "   64600 | 1.16e-03 | 5.89e-02 | 1.7402e+01\n",
      "   64700 | 1.16e-03 | 5.88e-02 | 1.7426e+01\n",
      "   64800 | 1.16e-03 | 5.88e-02 | 1.7453e+01\n",
      "   64900 | 1.16e-03 | 5.88e-02 | 1.7477e+01\n",
      "   65000 | 1.15e-03 | 5.88e-02 | 1.7501e+01\n",
      "   65100 | 1.15e-03 | 5.85e-02 | 1.7526e+01\n",
      "   65200 | 1.15e-03 | 5.85e-02 | 1.7551e+01\n",
      "   65300 | 1.15e-03 | 5.85e-02 | 1.7583e+01\n",
      "   65400 | 1.15e-03 | 5.85e-02 | 1.7610e+01\n",
      "   65500 | 1.15e-03 | 5.85e-02 | 1.7635e+01\n",
      "   65600 | 1.14e-03 | 5.84e-02 | 1.7659e+01\n",
      "   65700 | 1.14e-03 | 5.81e-02 | 1.7684e+01\n",
      "   65800 | 1.13e-03 | 5.81e-02 | 1.7709e+01\n",
      "   65900 | 1.13e-03 | 5.81e-02 | 1.7734e+01\n",
      "   66000 | 1.13e-03 | 5.81e-02 | 1.7761e+01\n",
      "   66100 | 1.13e-03 | 5.81e-02 | 1.7792e+01\n",
      "   66200 | 1.13e-03 | 5.81e-02 | 1.7819e+01\n",
      "   66300 | 1.13e-03 | 5.81e-02 | 1.7844e+01\n",
      "   66400 | 1.13e-03 | 5.79e-02 | 1.7869e+01\n",
      "   66500 | 1.12e-03 | 5.79e-02 | 1.7893e+01\n",
      "   66600 | 1.12e-03 | 5.79e-02 | 1.7919e+01\n",
      "   66700 | 1.12e-03 | 5.79e-02 | 1.7944e+01\n",
      "   66800 | 1.12e-03 | 5.79e-02 | 1.7972e+01\n",
      "   66900 | 1.12e-03 | 5.79e-02 | 1.8002e+01\n",
      "   67000 | 1.12e-03 | 5.79e-02 | 1.8030e+01\n",
      "   67100 | 1.12e-03 | 5.79e-02 | 1.8054e+01\n",
      "   67200 | 1.12e-03 | 5.79e-02 | 1.8079e+01\n",
      "   67300 | 1.12e-03 | 5.79e-02 | 1.8103e+01\n",
      "   67400 | 1.11e-03 | 5.77e-02 | 1.8127e+01\n",
      "   67500 | 1.11e-03 | 5.77e-02 | 1.8152e+01\n",
      "   67600 | 1.11e-03 | 5.77e-02 | 1.8179e+01\n",
      "   67700 | 1.11e-03 | 5.77e-02 | 1.8209e+01\n",
      "   67800 | 1.10e-03 | 5.73e-02 | 1.8236e+01\n",
      "   67900 | 1.10e-03 | 5.73e-02 | 1.8260e+01\n",
      "   68000 | 1.10e-03 | 5.73e-02 | 1.8285e+01\n",
      "   68100 | 1.10e-03 | 5.73e-02 | 1.8309e+01\n",
      "   68200 | 1.10e-03 | 5.73e-02 | 1.8333e+01\n",
      "   68300 | 1.10e-03 | 5.73e-02 | 1.8358e+01\n",
      "   68400 | 1.10e-03 | 5.73e-02 | 1.8387e+01\n",
      "   68500 | 1.09e-03 | 5.71e-02 | 1.8422e+01\n",
      "   68600 | 1.09e-03 | 5.68e-02 | 1.8451e+01\n",
      "   68700 | 1.08e-03 | 5.66e-02 | 1.8475e+01\n",
      "   68800 | 1.08e-03 | 5.66e-02 | 1.8500e+01\n",
      "   68900 | 1.08e-03 | 5.64e-02 | 1.8524e+01\n",
      "   69000 | 1.08e-03 | 5.64e-02 | 1.8551e+01\n",
      "   69100 | 1.07e-03 | 5.63e-02 | 1.8577e+01\n",
      "   69200 | 1.07e-03 | 5.63e-02 | 1.8608e+01\n",
      "   69300 | 1.07e-03 | 5.62e-02 | 1.8640e+01\n",
      "   69400 | 1.07e-03 | 5.62e-02 | 1.8665e+01\n",
      "   69500 | 1.07e-03 | 5.62e-02 | 1.8690e+01\n",
      "   69600 | 1.06e-03 | 5.61e-02 | 1.8715e+01\n",
      "   69700 | 1.06e-03 | 5.61e-02 | 1.8741e+01\n",
      "   69800 | 1.05e-03 | 5.59e-02 | 1.8765e+01\n",
      "   69900 | 1.05e-03 | 5.57e-02 | 1.8790e+01\n",
      "   70000 | 1.05e-03 | 5.57e-02 | 1.8820e+01\n",
      "   70100 | 1.05e-03 | 5.55e-02 | 1.8851e+01\n",
      "   70200 | 1.05e-03 | 5.55e-02 | 1.8880e+01\n",
      "   70300 | 1.05e-03 | 5.55e-02 | 1.8905e+01\n",
      "   70400 | 1.05e-03 | 5.55e-02 | 1.8930e+01\n",
      "   70500 | 1.04e-03 | 5.53e-02 | 1.8954e+01\n",
      "   70600 | 1.04e-03 | 5.53e-02 | 1.8978e+01\n",
      "   70700 | 1.04e-03 | 5.52e-02 | 1.9003e+01\n",
      "   70800 | 1.03e-03 | 5.52e-02 | 1.9032e+01\n",
      "   70900 | 1.03e-03 | 5.52e-02 | 1.9066e+01\n",
      "   71000 | 1.03e-03 | 5.51e-02 | 1.9090e+01\n",
      "   71100 | 1.03e-03 | 5.51e-02 | 1.9116e+01\n",
      "   71200 | 1.03e-03 | 5.51e-02 | 1.9141e+01\n",
      "   71300 | 1.03e-03 | 5.51e-02 | 1.9165e+01\n",
      "   71400 | 1.02e-03 | 5.49e-02 | 1.9190e+01\n",
      "   71500 | 1.02e-03 | 5.48e-02 | 1.9215e+01\n",
      "   71600 | 1.02e-03 | 5.48e-02 | 1.9242e+01\n",
      "   71700 | 1.01e-03 | 5.46e-02 | 1.9277e+01\n",
      "   71800 | 1.01e-03 | 5.45e-02 | 1.9303e+01\n",
      "   71900 | 1.01e-03 | 5.45e-02 | 1.9327e+01\n",
      "   72000 | 1.00e-03 | 5.44e-02 | 1.9353e+01\n",
      "   72100 | 1.00e-03 | 5.43e-02 | 1.9378e+01\n",
      "   72200 | 9.98e-04 | 5.42e-02 | 1.9405e+01\n",
      "   72300 | 9.92e-04 | 5.40e-02 | 1.9430e+01\n",
      "   72400 | 9.86e-04 | 5.38e-02 | 1.9465e+01\n",
      "   72500 | 9.84e-04 | 5.38e-02 | 1.9496e+01\n",
      "   72600 | 9.82e-04 | 5.38e-02 | 1.9520e+01\n",
      "   72700 | 9.75e-04 | 5.37e-02 | 1.9554e+01\n",
      "   72800 | 9.71e-04 | 5.35e-02 | 1.9579e+01\n",
      "   72900 | 9.71e-04 | 5.35e-02 | 1.9603e+01\n",
      "   73000 | 9.68e-04 | 5.34e-02 | 1.9627e+01\n",
      "   73100 | 9.61e-04 | 5.31e-02 | 1.9651e+01\n",
      "   73200 | 9.61e-04 | 5.31e-02 | 1.9681e+01\n",
      "   73300 | 9.59e-04 | 5.31e-02 | 1.9715e+01\n",
      "   73400 | 9.58e-04 | 5.30e-02 | 1.9742e+01\n",
      "   73500 | 9.52e-04 | 5.28e-02 | 1.9767e+01\n",
      "   73600 | 9.49e-04 | 5.28e-02 | 1.9792e+01\n",
      "   73700 | 9.41e-04 | 5.25e-02 | 1.9820e+01\n",
      "   73800 | 9.41e-04 | 5.25e-02 | 1.9844e+01\n",
      "   73900 | 9.41e-04 | 5.25e-02 | 1.9868e+01\n",
      "   74000 | 9.40e-04 | 5.25e-02 | 1.9896e+01\n",
      "   74100 | 9.40e-04 | 5.25e-02 | 1.9928e+01\n",
      "   74200 | 9.40e-04 | 5.25e-02 | 1.9955e+01\n",
      "   74300 | 9.40e-04 | 5.25e-02 | 1.9979e+01\n",
      "   74400 | 9.34e-04 | 5.22e-02 | 2.0003e+01\n",
      "   74500 | 9.34e-04 | 5.22e-02 | 2.0027e+01\n",
      "   74600 | 9.33e-04 | 5.22e-02 | 2.0050e+01\n",
      "   74700 | 9.32e-04 | 5.21e-02 | 2.0074e+01\n",
      "   74800 | 9.30e-04 | 5.21e-02 | 2.0098e+01\n",
      "   74900 | 9.30e-04 | 5.21e-02 | 2.0138e+01\n",
      "   75000 | 9.30e-04 | 5.21e-02 | 2.0164e+01\n",
      "   75100 | 9.30e-04 | 5.21e-02 | 2.0189e+01\n",
      "   75200 | 9.26e-04 | 5.19e-02 | 2.0214e+01\n",
      "   75300 | 9.26e-04 | 5.19e-02 | 2.0239e+01\n",
      "   75400 | 9.25e-04 | 5.19e-02 | 2.0264e+01\n",
      "   75500 | 9.25e-04 | 5.19e-02 | 2.0289e+01\n",
      "   75600 | 9.25e-04 | 5.19e-02 | 2.0314e+01\n",
      "   75700 | 9.22e-04 | 5.18e-02 | 2.0338e+01\n",
      "   75800 | 9.22e-04 | 5.18e-02 | 2.0373e+01\n",
      "   75900 | 9.19e-04 | 5.17e-02 | 2.0400e+01\n",
      "   76000 | 9.19e-04 | 5.17e-02 | 2.0426e+01\n",
      "   76100 | 9.17e-04 | 5.15e-02 | 2.0450e+01\n",
      "   76200 | 9.14e-04 | 5.14e-02 | 2.0474e+01\n",
      "   76300 | 9.14e-04 | 5.14e-02 | 2.0501e+01\n",
      "   76400 | 9.13e-04 | 5.14e-02 | 2.0527e+01\n",
      "   76500 | 9.09e-04 | 5.13e-02 | 2.0552e+01\n"
     ]
    },
    {
     "name": "stdout",
     "output_type": "stream",
     "text": [
      "   76600 | 9.09e-04 | 5.13e-02 | 2.0583e+01\n",
      "   76700 | 9.09e-04 | 5.13e-02 | 2.0621e+01\n",
      "   76800 | 9.06e-04 | 5.12e-02 | 2.0646e+01\n",
      "   76900 | 9.06e-04 | 5.12e-02 | 2.0670e+01\n",
      "   77000 | 9.06e-04 | 5.12e-02 | 2.0695e+01\n",
      "   77100 | 9.01e-04 | 5.12e-02 | 2.0719e+01\n",
      "   77200 | 8.98e-04 | 5.10e-02 | 2.0744e+01\n",
      "   77300 | 8.98e-04 | 5.10e-02 | 2.0768e+01\n",
      "   77400 | 8.98e-04 | 5.10e-02 | 2.0796e+01\n",
      "   77500 | 8.89e-04 | 5.08e-02 | 2.0828e+01\n",
      "   77600 | 8.89e-04 | 5.08e-02 | 2.0854e+01\n",
      "   77700 | 8.89e-04 | 5.08e-02 | 2.0880e+01\n",
      "   77800 | 8.89e-04 | 5.08e-02 | 2.0905e+01\n",
      "   77900 | 8.83e-04 | 5.06e-02 | 2.0930e+01\n",
      "   78000 | 8.82e-04 | 5.06e-02 | 2.0955e+01\n",
      "   78100 | 8.82e-04 | 5.06e-02 | 2.0979e+01\n",
      "   78200 | 8.81e-04 | 5.06e-02 | 2.1008e+01\n",
      "   78300 | 8.70e-04 | 5.03e-02 | 2.1041e+01\n",
      "   78400 | 8.67e-04 | 5.01e-02 | 2.1065e+01\n",
      "   78500 | 8.67e-04 | 5.01e-02 | 2.1090e+01\n",
      "   78600 | 8.59e-04 | 4.98e-02 | 2.1115e+01\n",
      "   78700 | 8.59e-04 | 4.98e-02 | 2.1139e+01\n",
      "   78800 | 8.56e-04 | 4.98e-02 | 2.1163e+01\n",
      "   78900 | 8.54e-04 | 4.98e-02 | 2.1188e+01\n",
      "   79000 | 8.53e-04 | 4.98e-02 | 2.1213e+01\n",
      "   79100 | 8.53e-04 | 4.98e-02 | 2.1246e+01\n",
      "   79200 | 8.53e-04 | 4.98e-02 | 2.1272e+01\n",
      "   79300 | 8.51e-04 | 4.98e-02 | 2.1296e+01\n",
      "   79400 | 8.49e-04 | 4.98e-02 | 2.1321e+01\n",
      "   79500 | 8.49e-04 | 4.98e-02 | 2.1345e+01\n",
      "   79600 | 8.48e-04 | 4.98e-02 | 2.1371e+01\n",
      "   79700 | 8.48e-04 | 4.98e-02 | 2.1396e+01\n",
      "   79800 | 8.46e-04 | 4.98e-02 | 2.1424e+01\n",
      "   79900 | 8.46e-04 | 4.98e-02 | 2.1456e+01\n",
      "   80000 | 8.46e-04 | 4.98e-02 | 2.1481e+01\n",
      "   80100 | 8.46e-04 | 4.98e-02 | 2.1505e+01\n",
      "   80200 | 8.46e-04 | 4.98e-02 | 2.1530e+01\n",
      "   80300 | 8.36e-04 | 4.95e-02 | 2.1555e+01\n",
      "   80400 | 8.34e-04 | 4.95e-02 | 2.1582e+01\n",
      "   80500 | 8.34e-04 | 4.95e-02 | 2.1607e+01\n",
      "   80600 | 8.34e-04 | 4.95e-02 | 2.1634e+01\n",
      "   80700 | 8.33e-04 | 4.95e-02 | 2.1670e+01\n",
      "   80800 | 8.25e-04 | 4.94e-02 | 2.1696e+01\n",
      "   80900 | 8.22e-04 | 4.92e-02 | 2.1720e+01\n",
      "   81000 | 8.22e-04 | 4.92e-02 | 2.1745e+01\n",
      "   81100 | 8.21e-04 | 4.92e-02 | 2.1770e+01\n",
      "   81200 | 8.21e-04 | 4.92e-02 | 2.1794e+01\n",
      "   81300 | 8.19e-04 | 4.92e-02 | 2.1819e+01\n",
      "   81400 | 8.17e-04 | 4.92e-02 | 2.1849e+01\n",
      "   81500 | 8.08e-04 | 4.89e-02 | 2.1883e+01\n",
      "   81600 | 8.05e-04 | 4.90e-02 | 2.1909e+01\n",
      "   81700 | 8.05e-04 | 4.90e-02 | 2.1933e+01\n",
      "   81800 | 8.01e-04 | 4.88e-02 | 2.1956e+01\n",
      "   81900 | 8.01e-04 | 4.88e-02 | 2.1981e+01\n",
      "   82000 | 8.01e-04 | 4.88e-02 | 2.2005e+01\n",
      "   82100 | 8.01e-04 | 4.88e-02 | 2.2029e+01\n",
      "   82200 | 7.97e-04 | 4.86e-02 | 2.2055e+01\n",
      "   82300 | 7.94e-04 | 4.86e-02 | 2.2090e+01\n",
      "   82400 | 7.94e-04 | 4.86e-02 | 2.2115e+01\n",
      "   82500 | 7.94e-04 | 4.86e-02 | 2.2140e+01\n",
      "   82600 | 7.88e-04 | 4.84e-02 | 2.2165e+01\n",
      "   82700 | 7.86e-04 | 4.84e-02 | 2.2189e+01\n",
      "   82800 | 7.85e-04 | 4.84e-02 | 2.2214e+01\n",
      "   82900 | 7.85e-04 | 4.84e-02 | 2.2240e+01\n",
      "   83000 | 7.85e-04 | 4.84e-02 | 2.2270e+01\n",
      "   83100 | 7.81e-04 | 4.82e-02 | 2.2304e+01\n",
      "   83200 | 7.81e-04 | 4.82e-02 | 2.2329e+01\n",
      "   83300 | 7.80e-04 | 4.82e-02 | 2.2354e+01\n",
      "   83400 | 7.80e-04 | 4.82e-02 | 2.2378e+01\n",
      "   83500 | 7.80e-04 | 4.82e-02 | 2.2402e+01\n",
      "   83600 | 7.80e-04 | 4.82e-02 | 2.2427e+01\n",
      "   83700 | 7.79e-04 | 4.82e-02 | 2.2453e+01\n",
      "   83800 | 7.79e-04 | 4.82e-02 | 2.2484e+01\n",
      "   83900 | 7.79e-04 | 4.82e-02 | 2.2516e+01\n",
      "   84000 | 7.79e-04 | 4.82e-02 | 2.2541e+01\n",
      "   84100 | 7.79e-04 | 4.82e-02 | 2.2566e+01\n",
      "   84200 | 7.78e-04 | 4.82e-02 | 2.2590e+01\n",
      "   84300 | 7.74e-04 | 4.81e-02 | 2.2614e+01\n",
      "   84400 | 7.74e-04 | 4.81e-02 | 2.2639e+01\n",
      "   84500 | 7.74e-04 | 4.81e-02 | 2.2663e+01\n",
      "   84600 | 7.70e-04 | 4.79e-02 | 2.2691e+01\n",
      "   84700 | 7.70e-04 | 4.79e-02 | 2.2722e+01\n",
      "   84800 | 7.70e-04 | 4.79e-02 | 2.2748e+01\n",
      "   84900 | 7.69e-04 | 4.79e-02 | 2.2773e+01\n",
      "   85000 | 7.69e-04 | 4.79e-02 | 2.2797e+01\n",
      "   85100 | 7.69e-04 | 4.79e-02 | 2.2822e+01\n",
      "   85200 | 7.68e-04 | 4.78e-02 | 2.2847e+01\n",
      "   85300 | 7.68e-04 | 4.78e-02 | 2.2871e+01\n",
      "   85400 | 7.68e-04 | 4.78e-02 | 2.2900e+01\n",
      "   85500 | 7.62e-04 | 4.76e-02 | 2.2931e+01\n",
      "   85600 | 7.62e-04 | 4.76e-02 | 2.2956e+01\n",
      "   85700 | 7.61e-04 | 4.75e-02 | 2.2981e+01\n",
      "   85800 | 7.61e-04 | 4.75e-02 | 2.3006e+01\n",
      "   85900 | 7.61e-04 | 4.75e-02 | 2.3030e+01\n",
      "   86000 | 7.55e-04 | 4.73e-02 | 2.3055e+01\n",
      "   86100 | 7.55e-04 | 4.72e-02 | 2.3079e+01\n",
      "   86200 | 7.55e-04 | 4.72e-02 | 2.3103e+01\n",
      "   86300 | 7.55e-04 | 4.72e-02 | 2.3138e+01\n",
      "   86400 | 7.54e-04 | 4.72e-02 | 2.3164e+01\n",
      "   86500 | 7.52e-04 | 4.72e-02 | 2.3189e+01\n",
      "   86600 | 7.49e-04 | 4.70e-02 | 2.3213e+01\n",
      "   86700 | 7.44e-04 | 4.68e-02 | 2.3237e+01\n",
      "   86800 | 7.42e-04 | 4.66e-02 | 2.3261e+01\n",
      "   86900 | 7.41e-04 | 4.66e-02 | 2.3286e+01\n",
      "   87000 | 7.41e-04 | 4.66e-02 | 2.3310e+01\n",
      "   87100 | 7.40e-04 | 4.66e-02 | 2.3334e+01\n",
      "   87200 | 7.40e-04 | 4.66e-02 | 2.3371e+01\n",
      "   87300 | 7.40e-04 | 4.66e-02 | 2.3399e+01\n",
      "   87400 | 7.39e-04 | 4.65e-02 | 2.3424e+01\n",
      "   87500 | 7.38e-04 | 4.65e-02 | 2.3448e+01\n",
      "   87600 | 7.38e-04 | 4.65e-02 | 2.3473e+01\n",
      "   87700 | 7.36e-04 | 4.64e-02 | 2.3498e+01\n",
      "   87800 | 7.36e-04 | 4.64e-02 | 2.3523e+01\n",
      "   87900 | 7.36e-04 | 4.64e-02 | 2.3547e+01\n",
      "   88000 | 7.34e-04 | 4.63e-02 | 2.3571e+01\n",
      "   88100 | 7.30e-04 | 4.60e-02 | 2.3604e+01\n",
      "   88200 | 7.28e-04 | 4.59e-02 | 2.3632e+01\n",
      "   88300 | 7.26e-04 | 4.58e-02 | 2.3657e+01\n",
      "   88400 | 7.26e-04 | 4.58e-02 | 2.3681e+01\n",
      "   88500 | 7.26e-04 | 4.58e-02 | 2.3705e+01\n",
      "   88600 | 7.24e-04 | 4.57e-02 | 2.3729e+01\n",
      "   88700 | 7.23e-04 | 4.57e-02 | 2.3755e+01\n",
      "   88800 | 7.23e-04 | 4.57e-02 | 2.3779e+01\n",
      "   88900 | 7.21e-04 | 4.56e-02 | 2.3803e+01\n",
      "   89000 | 7.21e-04 | 4.56e-02 | 2.3842e+01\n",
      "   89100 | 7.21e-04 | 4.56e-02 | 2.3869e+01\n",
      "   89200 | 7.20e-04 | 4.55e-02 | 2.3894e+01\n",
      "   89300 | 7.20e-04 | 4.55e-02 | 2.3919e+01\n",
      "   89400 | 7.20e-04 | 4.55e-02 | 2.3943e+01\n",
      "   89500 | 7.18e-04 | 4.54e-02 | 2.3967e+01\n",
      "   89600 | 7.18e-04 | 4.54e-02 | 2.3993e+01\n",
      "   89700 | 7.18e-04 | 4.54e-02 | 2.4017e+01\n",
      "   89800 | 7.18e-04 | 4.54e-02 | 2.4041e+01\n",
      "   89900 | 7.18e-04 | 4.54e-02 | 2.4078e+01\n",
      "   90000 | 7.16e-04 | 4.53e-02 | 2.4105e+01\n",
      "   90100 | 7.16e-04 | 4.53e-02 | 2.4132e+01\n",
      "   90200 | 7.16e-04 | 4.53e-02 | 2.4157e+01\n",
      "   90300 | 7.15e-04 | 4.52e-02 | 2.4181e+01\n",
      "   90400 | 7.14e-04 | 4.52e-02 | 2.4206e+01\n",
      "   90500 | 7.14e-04 | 4.52e-02 | 2.4232e+01\n",
      "   90600 | 7.13e-04 | 4.51e-02 | 2.4256e+01\n",
      "   90700 | 7.13e-04 | 4.51e-02 | 2.4282e+01\n",
      "   90800 | 7.13e-04 | 4.51e-02 | 2.4320e+01\n",
      "   90900 | 7.10e-04 | 4.50e-02 | 2.4347e+01\n",
      "   91000 | 7.10e-04 | 4.50e-02 | 2.4371e+01\n",
      "   91100 | 7.10e-04 | 4.50e-02 | 2.4395e+01\n",
      "   91200 | 7.08e-04 | 4.49e-02 | 2.4419e+01\n",
      "   91300 | 7.08e-04 | 4.49e-02 | 2.4444e+01\n",
      "   91400 | 7.06e-04 | 4.48e-02 | 2.4469e+01\n",
      "   91500 | 7.04e-04 | 4.47e-02 | 2.4496e+01\n",
      "   91600 | 7.00e-04 | 4.45e-02 | 2.4529e+01\n",
      "   91700 | 6.96e-04 | 4.43e-02 | 2.4555e+01\n",
      "   91800 | 6.96e-04 | 4.43e-02 | 2.4580e+01\n",
      "   91900 | 6.96e-04 | 4.42e-02 | 2.4604e+01\n",
      "   92000 | 6.93e-04 | 4.41e-02 | 2.4629e+01\n",
      "   92100 | 6.93e-04 | 4.41e-02 | 2.4654e+01\n",
      "   92200 | 6.93e-04 | 4.41e-02 | 2.4678e+01\n",
      "   92300 | 6.93e-04 | 4.41e-02 | 2.4703e+01\n",
      "   92400 | 6.93e-04 | 4.41e-02 | 2.4743e+01\n",
      "   92500 | 6.92e-04 | 4.41e-02 | 2.4770e+01\n",
      "   92600 | 6.92e-04 | 4.41e-02 | 2.4796e+01\n",
      "   92700 | 6.87e-04 | 4.38e-02 | 2.4821e+01\n",
      "   92800 | 6.87e-04 | 4.38e-02 | 2.4845e+01\n",
      "   92900 | 6.87e-04 | 4.38e-02 | 2.4870e+01\n",
      "   93000 | 6.86e-04 | 4.37e-02 | 2.4895e+01\n",
      "   93100 | 6.84e-04 | 4.36e-02 | 2.4929e+01\n",
      "   93200 | 6.84e-04 | 4.36e-02 | 2.4959e+01\n",
      "   93300 | 6.84e-04 | 4.36e-02 | 2.4984e+01\n",
      "   93400 | 6.84e-04 | 4.36e-02 | 2.5009e+01\n",
      "   93500 | 6.83e-04 | 4.35e-02 | 2.5033e+01\n",
      "   93600 | 6.83e-04 | 4.35e-02 | 2.5057e+01\n",
      "   93700 | 6.83e-04 | 4.35e-02 | 2.5082e+01\n",
      "   93800 | 6.83e-04 | 4.35e-02 | 2.5106e+01\n",
      "   93900 | 6.81e-04 | 4.34e-02 | 2.5130e+01\n",
      "   94000 | 6.80e-04 | 4.33e-02 | 2.5168e+01\n",
      "   94100 | 6.80e-04 | 4.33e-02 | 2.5195e+01\n",
      "   94200 | 6.75e-04 | 4.32e-02 | 2.5220e+01\n",
      "   94300 | 6.75e-04 | 4.32e-02 | 2.5244e+01\n",
      "   94400 | 6.74e-04 | 4.31e-02 | 2.5269e+01\n",
      "   94500 | 6.74e-04 | 4.31e-02 | 2.5296e+01\n",
      "   94600 | 6.71e-04 | 4.29e-02 | 2.5321e+01\n",
      "   94700 | 6.71e-04 | 4.29e-02 | 2.5355e+01\n",
      "   94800 | 6.70e-04 | 4.28e-02 | 2.5385e+01\n",
      "   94900 | 6.70e-04 | 4.28e-02 | 2.5409e+01\n",
      "   95000 | 6.68e-04 | 4.28e-02 | 2.5434e+01\n",
      "   95100 | 6.67e-04 | 4.27e-02 | 2.5458e+01\n",
      "   95200 | 6.65e-04 | 4.26e-02 | 2.5483e+01\n",
      "   95300 | 6.65e-04 | 4.26e-02 | 2.5507e+01\n",
      "   95400 | 6.65e-04 | 4.26e-02 | 2.5533e+01\n"
     ]
    },
    {
     "name": "stdout",
     "output_type": "stream",
     "text": [
      "   95500 | 6.65e-04 | 4.26e-02 | 2.5557e+01\n",
      "   95600 | 6.64e-04 | 4.25e-02 | 2.5591e+01\n",
      "   95700 | 6.63e-04 | 4.24e-02 | 2.5619e+01\n",
      "   95800 | 6.61e-04 | 4.24e-02 | 2.5644e+01\n",
      "   95900 | 6.59e-04 | 4.23e-02 | 2.5669e+01\n",
      "   96000 | 6.59e-04 | 4.23e-02 | 2.5695e+01\n",
      "   96100 | 6.58e-04 | 4.23e-02 | 2.5719e+01\n",
      "   96200 | 6.56e-04 | 4.22e-02 | 2.5744e+01\n",
      "   96300 | 6.56e-04 | 4.22e-02 | 2.5768e+01\n",
      "   96400 | 6.56e-04 | 4.22e-02 | 2.5793e+01\n",
      "   96500 | 6.53e-04 | 4.21e-02 | 2.5833e+01\n",
      "   96600 | 6.50e-04 | 4.19e-02 | 2.5860e+01\n",
      "   96700 | 6.49e-04 | 4.19e-02 | 2.5884e+01\n",
      "   96800 | 6.49e-04 | 4.19e-02 | 2.5909e+01\n",
      "   96900 | 6.49e-04 | 4.19e-02 | 2.5933e+01\n",
      "   97000 | 6.49e-04 | 4.19e-02 | 2.5958e+01\n",
      "   97100 | 6.49e-04 | 4.19e-02 | 2.5982e+01\n",
      "   97200 | 6.49e-04 | 4.19e-02 | 2.6006e+01\n",
      "   97300 | 6.49e-04 | 4.19e-02 | 2.6031e+01\n",
      "   97400 | 6.49e-04 | 4.19e-02 | 2.6067e+01\n",
      "   97500 | 6.49e-04 | 4.19e-02 | 2.6094e+01\n",
      "   97600 | 6.49e-04 | 4.19e-02 | 2.6119e+01\n",
      "   97700 | 6.49e-04 | 4.18e-02 | 2.6143e+01\n",
      "   97800 | 6.43e-04 | 4.16e-02 | 2.6168e+01\n",
      "   97900 | 6.42e-04 | 4.15e-02 | 2.6192e+01\n",
      "   98000 | 6.42e-04 | 4.15e-02 | 2.6216e+01\n",
      "   98100 | 6.39e-04 | 4.13e-02 | 2.6241e+01\n",
      "   98200 | 6.39e-04 | 4.13e-02 | 2.6265e+01\n",
      "   98300 | 6.39e-04 | 4.13e-02 | 2.6300e+01\n",
      "   98400 | 6.38e-04 | 4.13e-02 | 2.6326e+01\n",
      "   98500 | 6.38e-04 | 4.13e-02 | 2.6351e+01\n",
      "   98600 | 6.34e-04 | 4.11e-02 | 2.6375e+01\n",
      "   98700 | 6.34e-04 | 4.11e-02 | 2.6399e+01\n",
      "   98800 | 6.34e-04 | 4.11e-02 | 2.6424e+01\n",
      "   98900 | 6.34e-04 | 4.11e-02 | 2.6448e+01\n",
      "   99000 | 6.33e-04 | 4.10e-02 | 2.6473e+01\n",
      "   99100 | 6.31e-04 | 4.09e-02 | 2.6497e+01\n",
      "   99200 | 6.31e-04 | 4.09e-02 | 2.6535e+01\n",
      "   99300 | 6.31e-04 | 4.09e-02 | 2.6562e+01\n",
      "   99400 | 6.31e-04 | 4.09e-02 | 2.6586e+01\n",
      "   99500 | 6.31e-04 | 4.09e-02 | 2.6610e+01\n",
      "   99600 | 6.30e-04 | 4.08e-02 | 2.6634e+01\n",
      "   99700 | 6.30e-04 | 4.08e-02 | 2.6658e+01\n",
      "   99800 | 6.30e-04 | 4.08e-02 | 2.6683e+01\n",
      "   99900 | 6.29e-04 | 4.08e-02 | 2.6707e+01\n",
      "  100000 | 6.28e-04 | 4.07e-02 | 2.6732e+01\n",
      "  100100 | 6.26e-04 | 4.06e-02 | 2.6770e+01\n",
      "  100200 | 6.25e-04 | 4.05e-02 | 2.6796e+01\n",
      "  100300 | 6.22e-04 | 4.04e-02 | 2.6820e+01\n",
      "  100400 | 6.20e-04 | 4.03e-02 | 2.6846e+01\n",
      "  100500 | 6.20e-04 | 4.03e-02 | 2.6870e+01\n",
      "  100600 | 6.20e-04 | 4.03e-02 | 2.6895e+01\n",
      "  100700 | 6.20e-04 | 4.03e-02 | 2.6919e+01\n",
      "  100800 | 6.20e-04 | 4.03e-02 | 2.6943e+01\n",
      "  100900 | 6.19e-04 | 4.03e-02 | 2.6968e+01\n",
      "  101000 | 6.17e-04 | 4.02e-02 | 2.7006e+01\n",
      "  101100 | 6.16e-04 | 4.01e-02 | 2.7031e+01\n",
      "  101200 | 6.14e-04 | 4.00e-02 | 2.7056e+01\n",
      "  101300 | 6.14e-04 | 4.00e-02 | 2.7080e+01\n",
      "  101400 | 6.14e-04 | 4.00e-02 | 2.7105e+01\n",
      "  101500 | 6.14e-04 | 4.00e-02 | 2.7129e+01\n",
      "  101600 | 6.13e-04 | 4.00e-02 | 2.7153e+01\n",
      "  101700 | 6.13e-04 | 4.00e-02 | 2.7178e+01\n",
      "  101800 | 6.13e-04 | 4.00e-02 | 2.7201e+01\n",
      "  101900 | 6.12e-04 | 4.00e-02 | 2.7238e+01\n",
      "  102000 | 6.12e-04 | 4.00e-02 | 2.7265e+01\n",
      "  102100 | 6.12e-04 | 4.00e-02 | 2.7290e+01\n",
      "  102200 | 6.12e-04 | 4.00e-02 | 2.7314e+01\n",
      "  102300 | 6.12e-04 | 4.00e-02 | 2.7339e+01\n",
      "  102400 | 6.12e-04 | 4.00e-02 | 2.7363e+01\n",
      "  102500 | 6.10e-04 | 3.99e-02 | 2.7388e+01\n",
      "  102600 | 6.10e-04 | 3.99e-02 | 2.7414e+01\n",
      "  102700 | 6.10e-04 | 3.99e-02 | 2.7437e+01\n",
      "  102800 | 6.10e-04 | 3.99e-02 | 2.7473e+01\n",
      "  102900 | 6.09e-04 | 3.98e-02 | 2.7499e+01\n",
      "  103000 | 6.09e-04 | 3.98e-02 | 2.7524e+01\n",
      "  103100 | 6.06e-04 | 3.97e-02 | 2.7548e+01\n",
      "  103200 | 6.04e-04 | 3.96e-02 | 2.7573e+01\n",
      "  103300 | 6.04e-04 | 3.96e-02 | 2.7598e+01\n",
      "  103400 | 6.02e-04 | 3.95e-02 | 2.7622e+01\n",
      "  103500 | 5.99e-04 | 3.93e-02 | 2.7646e+01\n",
      "  103600 | 5.97e-04 | 3.93e-02 | 2.7670e+01\n",
      "  103700 | 5.96e-04 | 3.92e-02 | 2.7704e+01\n",
      "  103800 | 5.94e-04 | 3.91e-02 | 2.7731e+01\n",
      "  103900 | 5.93e-04 | 3.91e-02 | 2.7757e+01\n",
      "  104000 | 5.91e-04 | 3.91e-02 | 2.7781e+01\n",
      "  104100 | 5.91e-04 | 3.91e-02 | 2.7806e+01\n",
      "  104200 | 5.90e-04 | 3.90e-02 | 2.7830e+01\n",
      "  104300 | 5.90e-04 | 3.90e-02 | 2.7855e+01\n",
      "  104400 | 5.89e-04 | 3.90e-02 | 2.7879e+01\n",
      "  104500 | 5.89e-04 | 3.90e-02 | 2.7904e+01\n",
      "  104600 | 5.87e-04 | 3.89e-02 | 2.7942e+01\n",
      "  104700 | 5.85e-04 | 3.88e-02 | 2.7967e+01\n",
      "  104800 | 5.85e-04 | 3.88e-02 | 2.7993e+01\n",
      "  104900 | 5.85e-04 | 3.88e-02 | 2.8017e+01\n",
      "  105000 | 5.84e-04 | 3.88e-02 | 2.8042e+01\n",
      "  105100 | 5.83e-04 | 3.87e-02 | 2.8066e+01\n",
      "  105200 | 5.83e-04 | 3.87e-02 | 2.8090e+01\n",
      "  105300 | 5.81e-04 | 3.86e-02 | 2.8115e+01\n",
      "  105400 | 5.81e-04 | 3.86e-02 | 2.8139e+01\n",
      "  105500 | 5.81e-04 | 3.86e-02 | 2.8175e+01\n",
      "  105600 | 5.80e-04 | 3.86e-02 | 2.8202e+01\n",
      "  105700 | 5.80e-04 | 3.86e-02 | 2.8226e+01\n",
      "  105800 | 5.80e-04 | 3.86e-02 | 2.8251e+01\n",
      "  105900 | 5.80e-04 | 3.86e-02 | 2.8274e+01\n",
      "  106000 | 5.80e-04 | 3.86e-02 | 2.8299e+01\n",
      "  106100 | 5.75e-04 | 3.83e-02 | 2.8324e+01\n",
      "  106200 | 5.73e-04 | 3.82e-02 | 2.8349e+01\n",
      "  106300 | 5.73e-04 | 3.82e-02 | 2.8373e+01\n",
      "  106400 | 5.73e-04 | 3.82e-02 | 2.8409e+01\n",
      "  106500 | 5.73e-04 | 3.82e-02 | 2.8437e+01\n",
      "  106600 | 5.70e-04 | 3.81e-02 | 2.8461e+01\n",
      "  106700 | 5.69e-04 | 3.80e-02 | 2.8487e+01\n",
      "  106800 | 5.67e-04 | 3.80e-02 | 2.8511e+01\n",
      "  106900 | 5.65e-04 | 3.79e-02 | 2.8535e+01\n",
      "  107000 | 5.65e-04 | 3.79e-02 | 2.8559e+01\n",
      "  107100 | 5.65e-04 | 3.79e-02 | 2.8585e+01\n",
      "  107200 | 5.64e-04 | 3.78e-02 | 2.8610e+01\n",
      "  107300 | 5.61e-04 | 3.78e-02 | 2.8647e+01\n",
      "  107400 | 5.61e-04 | 3.78e-02 | 2.8673e+01\n",
      "  107500 | 5.58e-04 | 3.76e-02 | 2.8698e+01\n",
      "  107600 | 5.57e-04 | 3.76e-02 | 2.8722e+01\n",
      "  107700 | 5.55e-04 | 3.75e-02 | 2.8747e+01\n",
      "  107800 | 5.55e-04 | 3.75e-02 | 2.8771e+01\n",
      "  107900 | 5.52e-04 | 3.74e-02 | 2.8796e+01\n",
      "  108000 | 5.51e-04 | 3.74e-02 | 2.8820e+01\n",
      "  108100 | 5.51e-04 | 3.74e-02 | 2.8844e+01\n",
      "  108200 | 5.51e-04 | 3.74e-02 | 2.8880e+01\n",
      "  108300 | 5.50e-04 | 3.73e-02 | 2.8908e+01\n",
      "  108400 | 5.50e-04 | 3.73e-02 | 2.8937e+01\n",
      "  108500 | 5.50e-04 | 3.73e-02 | 2.8962e+01\n",
      "  108600 | 5.50e-04 | 3.73e-02 | 2.8986e+01\n",
      "  108700 | 5.50e-04 | 3.73e-02 | 2.9011e+01\n",
      "  108800 | 5.50e-04 | 3.73e-02 | 2.9035e+01\n",
      "  108900 | 5.49e-04 | 3.73e-02 | 2.9060e+01\n",
      "  109000 | 5.49e-04 | 3.73e-02 | 2.9086e+01\n",
      "  109100 | 5.47e-04 | 3.72e-02 | 2.9121e+01\n",
      "  109200 | 5.47e-04 | 3.72e-02 | 2.9148e+01\n",
      "  109300 | 5.45e-04 | 3.72e-02 | 2.9172e+01\n",
      "  109400 | 5.45e-04 | 3.72e-02 | 2.9197e+01\n",
      "  109500 | 5.45e-04 | 3.72e-02 | 2.9222e+01\n",
      "  109600 | 5.42e-04 | 3.70e-02 | 2.9246e+01\n",
      "  109700 | 5.39e-04 | 3.69e-02 | 2.9271e+01\n",
      "  109800 | 5.39e-04 | 3.69e-02 | 2.9301e+01\n",
      "  109900 | 5.39e-04 | 3.69e-02 | 2.9334e+01\n",
      "  110000 | 5.39e-04 | 3.69e-02 | 2.9362e+01\n",
      "  110100 | 5.37e-04 | 3.68e-02 | 2.9386e+01\n",
      "  110200 | 5.35e-04 | 3.67e-02 | 2.9412e+01\n",
      "  110300 | 5.32e-04 | 3.66e-02 | 2.9436e+01\n",
      "  110400 | 5.31e-04 | 3.66e-02 | 2.9461e+01\n",
      "  110500 | 5.31e-04 | 3.66e-02 | 2.9485e+01\n",
      "  110600 | 5.31e-04 | 3.66e-02 | 2.9515e+01\n",
      "  110700 | 5.31e-04 | 3.66e-02 | 2.9546e+01\n",
      "  110800 | 5.26e-04 | 3.63e-02 | 2.9573e+01\n",
      "  110900 | 5.25e-04 | 3.63e-02 | 2.9596e+01\n",
      "  111000 | 5.23e-04 | 3.62e-02 | 2.9621e+01\n",
      "  111100 | 5.23e-04 | 3.62e-02 | 2.9645e+01\n",
      "  111200 | 5.23e-04 | 3.62e-02 | 2.9673e+01\n",
      "  111300 | 5.23e-04 | 3.62e-02 | 2.9697e+01\n",
      "  111400 | 5.23e-04 | 3.62e-02 | 2.9724e+01\n",
      "  111500 | 5.23e-04 | 3.62e-02 | 2.9757e+01\n",
      "  111600 | 5.19e-04 | 3.59e-02 | 2.9783e+01\n",
      "  111700 | 5.19e-04 | 3.59e-02 | 2.9807e+01\n",
      "  111800 | 5.19e-04 | 3.59e-02 | 2.9831e+01\n",
      "  111900 | 5.18e-04 | 3.58e-02 | 2.9855e+01\n",
      "  112000 | 5.16e-04 | 3.58e-02 | 2.9878e+01\n",
      "  112100 | 5.16e-04 | 3.58e-02 | 2.9904e+01\n",
      "  112200 | 5.11e-04 | 3.54e-02 | 2.9931e+01\n",
      "  112300 | 5.09e-04 | 3.54e-02 | 2.9963e+01\n",
      "  112400 | 5.09e-04 | 3.54e-02 | 2.9991e+01\n",
      "  112500 | 5.08e-04 | 3.53e-02 | 3.0016e+01\n",
      "  112600 | 5.06e-04 | 3.52e-02 | 3.0042e+01\n",
      "  112700 | 5.06e-04 | 3.52e-02 | 3.0065e+01\n",
      "  112800 | 5.05e-04 | 3.51e-02 | 3.0090e+01\n",
      "  112900 | 5.05e-04 | 3.51e-02 | 3.0114e+01\n",
      "  113000 | 5.00e-04 | 3.50e-02 | 3.0143e+01\n",
      "  113100 | 4.97e-04 | 3.49e-02 | 3.0174e+01\n",
      "  113200 | 4.96e-04 | 3.48e-02 | 3.0201e+01\n",
      "  113300 | 4.95e-04 | 3.48e-02 | 3.0226e+01\n",
      "  113400 | 4.93e-04 | 3.48e-02 | 3.0250e+01\n",
      "  113500 | 4.91e-04 | 3.47e-02 | 3.0275e+01\n",
      "  113600 | 4.90e-04 | 3.47e-02 | 3.0299e+01\n",
      "  113700 | 4.89e-04 | 3.47e-02 | 3.0324e+01\n",
      "  113800 | 4.87e-04 | 3.46e-02 | 3.0350e+01\n",
      "  113900 | 4.87e-04 | 3.46e-02 | 3.0382e+01\n",
      "  114000 | 4.82e-04 | 3.43e-02 | 3.0408e+01\n",
      "  114100 | 4.80e-04 | 3.43e-02 | 3.0432e+01\n",
      "  114200 | 4.80e-04 | 3.43e-02 | 3.0457e+01\n",
      "  114300 | 4.78e-04 | 3.42e-02 | 3.0481e+01\n",
      "  114400 | 4.78e-04 | 3.42e-02 | 3.0506e+01\n",
      "  114500 | 4.77e-04 | 3.41e-02 | 3.0530e+01\n"
     ]
    },
    {
     "name": "stdout",
     "output_type": "stream",
     "text": [
      "  114600 | 4.76e-04 | 3.41e-02 | 3.0556e+01\n",
      "  114700 | 4.76e-04 | 3.41e-02 | 3.0590e+01\n",
      "  114800 | 4.75e-04 | 3.40e-02 | 3.0617e+01\n",
      "  114900 | 4.72e-04 | 3.39e-02 | 3.0642e+01\n",
      "  115000 | 4.70e-04 | 3.38e-02 | 3.0668e+01\n",
      "  115100 | 4.69e-04 | 3.38e-02 | 3.0692e+01\n",
      "  115200 | 4.67e-04 | 3.37e-02 | 3.0717e+01\n",
      "  115300 | 4.67e-04 | 3.37e-02 | 3.0741e+01\n",
      "  115400 | 4.63e-04 | 3.35e-02 | 3.0772e+01\n",
      "  115500 | 4.62e-04 | 3.34e-02 | 3.0806e+01\n",
      "  115600 | 4.62e-04 | 3.34e-02 | 3.0830e+01\n",
      "  115700 | 4.62e-04 | 3.34e-02 | 3.0855e+01\n",
      "  115800 | 4.62e-04 | 3.34e-02 | 3.0880e+01\n",
      "  115900 | 4.59e-04 | 3.34e-02 | 3.0904e+01\n",
      "  116000 | 4.58e-04 | 3.33e-02 | 3.0929e+01\n",
      "  116100 | 4.57e-04 | 3.33e-02 | 3.0953e+01\n",
      "  116200 | 4.56e-04 | 3.33e-02 | 3.0981e+01\n",
      "  116300 | 4.56e-04 | 3.33e-02 | 3.1012e+01\n",
      "  116400 | 4.56e-04 | 3.33e-02 | 3.1037e+01\n",
      "  116500 | 4.56e-04 | 3.33e-02 | 3.1061e+01\n",
      "  116600 | 4.56e-04 | 3.33e-02 | 3.1085e+01\n",
      "  116700 | 4.56e-04 | 3.33e-02 | 3.1110e+01\n",
      "  116800 | 4.55e-04 | 3.33e-02 | 3.1134e+01\n",
      "  116900 | 4.54e-04 | 3.33e-02 | 3.1159e+01\n",
      "  117000 | 4.54e-04 | 3.33e-02 | 3.1185e+01\n",
      "  117100 | 4.54e-04 | 3.33e-02 | 3.1221e+01\n",
      "  117200 | 4.54e-04 | 3.33e-02 | 3.1247e+01\n",
      "  117300 | 4.53e-04 | 3.32e-02 | 3.1271e+01\n",
      "  117400 | 4.53e-04 | 3.32e-02 | 3.1296e+01\n",
      "  117500 | 4.51e-04 | 3.31e-02 | 3.1321e+01\n",
      "  117600 | 4.50e-04 | 3.31e-02 | 3.1345e+01\n",
      "  117700 | 4.49e-04 | 3.31e-02 | 3.1370e+01\n",
      "  117800 | 4.48e-04 | 3.31e-02 | 3.1396e+01\n",
      "  117900 | 4.48e-04 | 3.31e-02 | 3.1432e+01\n",
      "  118000 | 4.48e-04 | 3.31e-02 | 3.1457e+01\n",
      "  118100 | 4.48e-04 | 3.31e-02 | 3.1481e+01\n",
      "  118200 | 4.48e-04 | 3.31e-02 | 3.1506e+01\n",
      "  118300 | 4.48e-04 | 3.31e-02 | 3.1531e+01\n",
      "  118400 | 4.48e-04 | 3.31e-02 | 3.1556e+01\n",
      "  118500 | 4.48e-04 | 3.31e-02 | 3.1580e+01\n",
      "  118600 | 4.48e-04 | 3.31e-02 | 3.1608e+01\n",
      "  118700 | 4.46e-04 | 3.30e-02 | 3.1641e+01\n",
      "  118800 | 4.46e-04 | 3.30e-02 | 3.1670e+01\n",
      "  118900 | 4.46e-04 | 3.30e-02 | 3.1694e+01\n",
      "  119000 | 4.46e-04 | 3.30e-02 | 3.1719e+01\n",
      "  119100 | 4.43e-04 | 3.29e-02 | 3.1743e+01\n",
      "  119200 | 4.43e-04 | 3.29e-02 | 3.1769e+01\n",
      "  119300 | 4.43e-04 | 3.29e-02 | 3.1795e+01\n",
      "  119400 | 4.43e-04 | 3.28e-02 | 3.1825e+01\n",
      "  119500 | 4.40e-04 | 3.27e-02 | 3.1856e+01\n",
      "  119600 | 4.40e-04 | 3.27e-02 | 3.1883e+01\n",
      "  119700 | 4.39e-04 | 3.27e-02 | 3.1908e+01\n",
      "  119800 | 4.39e-04 | 3.27e-02 | 3.1937e+01\n",
      "  119900 | 4.39e-04 | 3.27e-02 | 3.1961e+01\n",
      "  120000 | 4.39e-04 | 3.27e-02 | 3.1986e+01\n",
      "  120100 | 4.37e-04 | 3.26e-02 | 3.2010e+01\n",
      "  120200 | 4.35e-04 | 3.25e-02 | 3.2038e+01\n",
      "  120300 | 4.35e-04 | 3.25e-02 | 3.2069e+01\n",
      "  120400 | 4.35e-04 | 3.25e-02 | 3.2096e+01\n",
      "  120500 | 4.32e-04 | 3.24e-02 | 3.2120e+01\n",
      "  120600 | 4.32e-04 | 3.24e-02 | 3.2146e+01\n",
      "  120700 | 4.32e-04 | 3.24e-02 | 3.2171e+01\n",
      "  120800 | 4.32e-04 | 3.24e-02 | 3.2196e+01\n",
      "  120900 | 4.31e-04 | 3.23e-02 | 3.2220e+01\n",
      "  121000 | 4.31e-04 | 3.23e-02 | 3.2249e+01\n",
      "  121100 | 4.29e-04 | 3.22e-02 | 3.2283e+01\n",
      "  121200 | 4.29e-04 | 3.22e-02 | 3.2307e+01\n",
      "  121300 | 4.29e-04 | 3.21e-02 | 3.2332e+01\n",
      "  121400 | 4.28e-04 | 3.20e-02 | 3.2355e+01\n",
      "  121500 | 4.26e-04 | 3.19e-02 | 3.2380e+01\n",
      "  121600 | 4.25e-04 | 3.19e-02 | 3.2404e+01\n",
      "  121700 | 4.25e-04 | 3.18e-02 | 3.2429e+01\n",
      "  121800 | 4.25e-04 | 3.18e-02 | 3.2453e+01\n",
      "  121900 | 4.23e-04 | 3.17e-02 | 3.2490e+01\n",
      "  122000 | 4.23e-04 | 3.17e-02 | 3.2515e+01\n",
      "  122100 | 4.22e-04 | 3.16e-02 | 3.2541e+01\n",
      "  122200 | 4.22e-04 | 3.16e-02 | 3.2565e+01\n",
      "  122300 | 4.22e-04 | 3.16e-02 | 3.2590e+01\n",
      "  122400 | 4.19e-04 | 3.15e-02 | 3.2618e+01\n",
      "  122500 | 4.19e-04 | 3.15e-02 | 3.2642e+01\n",
      "  122600 | 4.19e-04 | 3.15e-02 | 3.2666e+01\n",
      "  122700 | 4.16e-04 | 3.14e-02 | 3.2690e+01\n",
      "  122800 | 4.13e-04 | 3.13e-02 | 3.2723e+01\n",
      "  122900 | 4.10e-04 | 3.12e-02 | 3.2752e+01\n",
      "  123000 | 4.10e-04 | 3.12e-02 | 3.2776e+01\n",
      "  123100 | 4.09e-04 | 3.12e-02 | 3.2801e+01\n",
      "  123200 | 4.06e-04 | 3.11e-02 | 3.2825e+01\n",
      "  123300 | 4.02e-04 | 3.10e-02 | 3.2849e+01\n",
      "  123400 | 4.02e-04 | 3.10e-02 | 3.2873e+01\n",
      "  123500 | 4.02e-04 | 3.10e-02 | 3.2897e+01\n",
      "  123600 | 4.02e-04 | 3.10e-02 | 3.2922e+01\n",
      "  123700 | 4.02e-04 | 3.10e-02 | 3.2961e+01\n",
      "  123800 | 4.02e-04 | 3.10e-02 | 3.2987e+01\n",
      "  123900 | 4.00e-04 | 3.09e-02 | 3.3012e+01\n",
      "  124000 | 4.00e-04 | 3.09e-02 | 3.3037e+01\n",
      "  124100 | 4.00e-04 | 3.09e-02 | 3.3061e+01\n",
      "  124200 | 3.97e-04 | 3.08e-02 | 3.3085e+01\n",
      "  124300 | 3.94e-04 | 3.07e-02 | 3.3109e+01\n",
      "  124400 | 3.93e-04 | 3.06e-02 | 3.3136e+01\n",
      "  124500 | 3.93e-04 | 3.06e-02 | 3.3161e+01\n",
      "  124600 | 3.92e-04 | 3.06e-02 | 3.3196e+01\n",
      "  124700 | 3.90e-04 | 3.05e-02 | 3.3223e+01\n",
      "  124800 | 3.90e-04 | 3.05e-02 | 3.3247e+01\n",
      "  124900 | 3.88e-04 | 3.04e-02 | 3.3271e+01\n",
      "  125000 | 3.88e-04 | 3.04e-02 | 3.3295e+01\n",
      "  125100 | 3.88e-04 | 3.04e-02 | 3.3322e+01\n",
      "  125200 | 3.88e-04 | 3.04e-02 | 3.3346e+01\n",
      "  125300 | 3.83e-04 | 3.02e-02 | 3.3370e+01\n",
      "  125400 | 3.83e-04 | 3.01e-02 | 3.3395e+01\n",
      "  125500 | 3.83e-04 | 3.01e-02 | 3.3430e+01\n",
      "  125600 | 3.80e-04 | 3.00e-02 | 3.3456e+01\n",
      "  125700 | 3.80e-04 | 3.00e-02 | 3.3480e+01\n",
      "  125800 | 3.80e-04 | 3.00e-02 | 3.3504e+01\n",
      "  125900 | 3.79e-04 | 3.00e-02 | 3.3528e+01\n",
      "  126000 | 3.77e-04 | 2.99e-02 | 3.3552e+01\n",
      "  126100 | 3.77e-04 | 2.99e-02 | 3.3585e+01\n",
      "  126200 | 3.74e-04 | 2.97e-02 | 3.3609e+01\n",
      "  126300 | 3.73e-04 | 2.96e-02 | 3.3636e+01\n",
      "  126400 | 3.73e-04 | 2.96e-02 | 3.3675e+01\n",
      "  126500 | 3.73e-04 | 2.96e-02 | 3.3700e+01\n",
      "  126600 | 3.73e-04 | 2.96e-02 | 3.3725e+01\n",
      "  126700 | 3.73e-04 | 2.96e-02 | 3.3756e+01\n",
      "  126800 | 3.72e-04 | 2.95e-02 | 3.3782e+01\n",
      "  126900 | 3.72e-04 | 2.95e-02 | 3.3808e+01\n",
      "  127000 | 3.72e-04 | 2.95e-02 | 3.3832e+01\n",
      "  127100 | 3.72e-04 | 2.95e-02 | 3.3869e+01\n",
      "  127200 | 3.72e-04 | 2.95e-02 | 3.3897e+01\n",
      "  127300 | 3.69e-04 | 2.94e-02 | 3.3921e+01\n",
      "  127400 | 3.66e-04 | 2.93e-02 | 3.3946e+01\n",
      "  127500 | 3.65e-04 | 2.92e-02 | 3.3970e+01\n",
      "  127600 | 3.65e-04 | 2.92e-02 | 3.3995e+01\n",
      "  127700 | 3.65e-04 | 2.92e-02 | 3.4020e+01\n",
      "  127800 | 3.65e-04 | 2.92e-02 | 3.4047e+01\n",
      "  127900 | 3.61e-04 | 2.91e-02 | 3.4071e+01\n",
      "  128000 | 3.60e-04 | 2.90e-02 | 3.4106e+01\n",
      "  128100 | 3.60e-04 | 2.90e-02 | 3.4134e+01\n",
      "  128200 | 3.60e-04 | 2.90e-02 | 3.4158e+01\n",
      "  128300 | 3.60e-04 | 2.90e-02 | 3.4183e+01\n",
      "  128400 | 3.58e-04 | 2.90e-02 | 3.4207e+01\n",
      "  128500 | 3.57e-04 | 2.90e-02 | 3.4231e+01\n",
      "  128600 | 3.57e-04 | 2.89e-02 | 3.4255e+01\n",
      "  128700 | 3.55e-04 | 2.88e-02 | 3.4279e+01\n",
      "  128800 | 3.51e-04 | 2.88e-02 | 3.4306e+01\n",
      "  128900 | 3.51e-04 | 2.88e-02 | 3.4342e+01\n",
      "  129000 | 3.48e-04 | 2.87e-02 | 3.4369e+01\n",
      "  129100 | 3.48e-04 | 2.87e-02 | 3.4394e+01\n",
      "  129200 | 3.46e-04 | 2.86e-02 | 3.4420e+01\n",
      "  129300 | 3.46e-04 | 2.86e-02 | 3.4444e+01\n",
      "  129400 | 3.46e-04 | 2.86e-02 | 3.4468e+01\n",
      "  129500 | 3.44e-04 | 2.86e-02 | 3.4492e+01\n",
      "  129600 | 3.42e-04 | 2.85e-02 | 3.4516e+01\n",
      "  129700 | 3.42e-04 | 2.85e-02 | 3.4540e+01\n",
      "  129800 | 3.42e-04 | 2.85e-02 | 3.4577e+01\n",
      "  129900 | 3.42e-04 | 2.85e-02 | 3.4606e+01\n",
      "  130000 | 3.41e-04 | 2.85e-02 | 3.4630e+01\n",
      "  130100 | 3.40e-04 | 2.85e-02 | 3.4655e+01\n",
      "  130200 | 3.40e-04 | 2.84e-02 | 3.4679e+01\n",
      "  130300 | 3.40e-04 | 2.84e-02 | 3.4704e+01\n",
      "  130400 | 3.40e-04 | 2.84e-02 | 3.4728e+01\n",
      "  130500 | 3.40e-04 | 2.84e-02 | 3.4752e+01\n",
      "  130600 | 3.40e-04 | 2.84e-02 | 3.4776e+01\n",
      "  130700 | 3.37e-04 | 2.83e-02 | 3.4812e+01\n",
      "  130800 | 3.36e-04 | 2.83e-02 | 3.4839e+01\n",
      "  130900 | 3.34e-04 | 2.82e-02 | 3.4863e+01\n",
      "  131000 | 3.32e-04 | 2.81e-02 | 3.4889e+01\n",
      "  131100 | 3.29e-04 | 2.80e-02 | 3.4914e+01\n",
      "  131200 | 3.29e-04 | 2.80e-02 | 3.4939e+01\n",
      "  131300 | 3.29e-04 | 2.80e-02 | 3.4965e+01\n",
      "  131400 | 3.29e-04 | 2.80e-02 | 3.4991e+01\n",
      "  131500 | 3.29e-04 | 2.80e-02 | 3.5018e+01\n",
      "  131600 | 3.29e-04 | 2.80e-02 | 3.5046e+01\n",
      "  131700 | 3.29e-04 | 2.80e-02 | 3.5074e+01\n",
      "  131800 | 3.27e-04 | 2.80e-02 | 3.5099e+01\n",
      "  131900 | 3.27e-04 | 2.80e-02 | 3.5124e+01\n",
      "  132000 | 3.27e-04 | 2.80e-02 | 3.5148e+01\n",
      "  132100 | 3.25e-04 | 2.80e-02 | 3.5174e+01\n",
      "  132200 | 3.25e-04 | 2.80e-02 | 3.5199e+01\n",
      "  132300 | 3.23e-04 | 2.79e-02 | 3.5226e+01\n",
      "  132400 | 3.18e-04 | 2.76e-02 | 3.5258e+01\n",
      "  132500 | 3.18e-04 | 2.76e-02 | 3.5286e+01\n",
      "  132600 | 3.18e-04 | 2.76e-02 | 3.5311e+01\n",
      "  132700 | 3.17e-04 | 2.75e-02 | 3.5336e+01\n",
      "  132800 | 3.12e-04 | 2.73e-02 | 3.5362e+01\n",
      "  132900 | 3.12e-04 | 2.73e-02 | 3.5387e+01\n",
      "  133000 | 3.11e-04 | 2.72e-02 | 3.5412e+01\n",
      "  133100 | 3.11e-04 | 2.72e-02 | 3.5439e+01\n",
      "  133200 | 3.09e-04 | 2.72e-02 | 3.5473e+01\n",
      "  133300 | 3.08e-04 | 2.72e-02 | 3.5498e+01\n",
      "  133400 | 3.08e-04 | 2.72e-02 | 3.5523e+01\n",
      "  133500 | 3.07e-04 | 2.71e-02 | 3.5548e+01\n",
      "  133600 | 3.06e-04 | 2.70e-02 | 3.5572e+01\n",
      "  133700 | 3.06e-04 | 2.70e-02 | 3.5597e+01\n",
      "  133800 | 3.05e-04 | 2.69e-02 | 3.5621e+01\n"
     ]
    },
    {
     "name": "stdout",
     "output_type": "stream",
     "text": [
      "  133900 | 3.04e-04 | 2.69e-02 | 3.5646e+01\n",
      "  134000 | 3.04e-04 | 2.69e-02 | 3.5679e+01\n",
      "  134100 | 3.04e-04 | 2.68e-02 | 3.5705e+01\n",
      "  134200 | 3.04e-04 | 2.68e-02 | 3.5730e+01\n",
      "  134300 | 3.04e-04 | 2.68e-02 | 3.5755e+01\n",
      "  134400 | 3.03e-04 | 2.67e-02 | 3.5779e+01\n",
      "  134500 | 3.03e-04 | 2.67e-02 | 3.5804e+01\n",
      "  134600 | 3.03e-04 | 2.67e-02 | 3.5829e+01\n",
      "  134700 | 3.03e-04 | 2.67e-02 | 3.5858e+01\n",
      "  134800 | 3.02e-04 | 2.67e-02 | 3.5893e+01\n",
      "  134900 | 3.02e-04 | 2.67e-02 | 3.5918e+01\n",
      "  135000 | 3.02e-04 | 2.67e-02 | 3.5943e+01\n",
      "  135100 | 3.01e-04 | 2.66e-02 | 3.5968e+01\n",
      "  135200 | 3.01e-04 | 2.65e-02 | 3.5992e+01\n",
      "  135300 | 3.00e-04 | 2.65e-02 | 3.6018e+01\n",
      "  135400 | 3.00e-04 | 2.65e-02 | 3.6043e+01\n",
      "  135500 | 3.00e-04 | 2.65e-02 | 3.6072e+01\n",
      "  135600 | 3.00e-04 | 2.65e-02 | 3.6103e+01\n",
      "  135700 | 3.00e-04 | 2.65e-02 | 3.6128e+01\n",
      "  135800 | 3.00e-04 | 2.64e-02 | 3.6153e+01\n",
      "  135900 | 2.98e-04 | 2.63e-02 | 3.6178e+01\n",
      "  136000 | 2.98e-04 | 2.63e-02 | 3.6203e+01\n",
      "  136100 | 2.98e-04 | 2.63e-02 | 3.6227e+01\n",
      "  136200 | 2.98e-04 | 2.63e-02 | 3.6252e+01\n",
      "  136300 | 2.98e-04 | 2.63e-02 | 3.6279e+01\n",
      "  136400 | 2.98e-04 | 2.63e-02 | 3.6310e+01\n",
      "  136500 | 2.98e-04 | 2.63e-02 | 3.6336e+01\n",
      "  136600 | 2.97e-04 | 2.62e-02 | 3.6361e+01\n",
      "  136700 | 2.97e-04 | 2.62e-02 | 3.6386e+01\n",
      "  136800 | 2.95e-04 | 2.61e-02 | 3.6411e+01\n",
      "  136900 | 2.95e-04 | 2.61e-02 | 3.6435e+01\n",
      "  137000 | 2.95e-04 | 2.61e-02 | 3.6459e+01\n",
      "  137100 | 2.94e-04 | 2.60e-02 | 3.6488e+01\n",
      "  137200 | 2.94e-04 | 2.59e-02 | 3.6522e+01\n",
      "  137300 | 2.94e-04 | 2.59e-02 | 3.6547e+01\n",
      "  137400 | 2.94e-04 | 2.59e-02 | 3.6571e+01\n",
      "  137500 | 2.94e-04 | 2.59e-02 | 3.6596e+01\n",
      "  137600 | 2.94e-04 | 2.59e-02 | 3.6620e+01\n",
      "  137700 | 2.94e-04 | 2.59e-02 | 3.6645e+01\n",
      "  137800 | 2.93e-04 | 2.59e-02 | 3.6670e+01\n",
      "  137900 | 2.93e-04 | 2.58e-02 | 3.6696e+01\n",
      "  138000 | 2.92e-04 | 2.58e-02 | 3.6728e+01\n",
      "  138100 | 2.91e-04 | 2.57e-02 | 3.6755e+01\n",
      "  138200 | 2.91e-04 | 2.57e-02 | 3.6781e+01\n",
      "  138300 | 2.90e-04 | 2.56e-02 | 3.6805e+01\n",
      "  138400 | 2.89e-04 | 2.55e-02 | 3.6829e+01\n",
      "  138500 | 2.89e-04 | 2.55e-02 | 3.6854e+01\n",
      "  138600 | 2.89e-04 | 2.55e-02 | 3.6878e+01\n",
      "  138700 | 2.88e-04 | 2.55e-02 | 3.6905e+01\n",
      "  138800 | 2.88e-04 | 2.55e-02 | 3.6937e+01\n",
      "  138900 | 2.88e-04 | 2.54e-02 | 3.6963e+01\n",
      "  139000 | 2.88e-04 | 2.54e-02 | 3.6987e+01\n",
      "  139100 | 2.88e-04 | 2.54e-02 | 3.7012e+01\n",
      "  139200 | 2.87e-04 | 2.54e-02 | 3.7036e+01\n",
      "  139300 | 2.86e-04 | 2.53e-02 | 3.7061e+01\n",
      "  139400 | 2.86e-04 | 2.52e-02 | 3.7086e+01\n",
      "  139500 | 2.85e-04 | 2.52e-02 | 3.7118e+01\n",
      "  139600 | 2.85e-04 | 2.52e-02 | 3.7152e+01\n",
      "  139700 | 2.85e-04 | 2.52e-02 | 3.7177e+01\n",
      "  139800 | 2.84e-04 | 2.51e-02 | 3.7202e+01\n",
      "  139900 | 2.84e-04 | 2.51e-02 | 3.7227e+01\n",
      "  140000 | 2.84e-04 | 2.51e-02 | 3.7252e+01\n",
      "  140100 | 2.83e-04 | 2.50e-02 | 3.7276e+01\n",
      "  140200 | 2.82e-04 | 2.49e-02 | 3.7300e+01\n",
      "  140300 | 2.81e-04 | 2.49e-02 | 3.7327e+01\n",
      "  140400 | 2.81e-04 | 2.48e-02 | 3.7361e+01\n",
      "  140500 | 2.80e-04 | 2.47e-02 | 3.7387e+01\n",
      "  140600 | 2.80e-04 | 2.47e-02 | 3.7412e+01\n",
      "  140700 | 2.80e-04 | 2.47e-02 | 3.7436e+01\n",
      "  140800 | 2.80e-04 | 2.47e-02 | 3.7461e+01\n",
      "  140900 | 2.80e-04 | 2.47e-02 | 3.7485e+01\n",
      "  141000 | 2.79e-04 | 2.46e-02 | 3.7510e+01\n",
      "  141100 | 2.78e-04 | 2.46e-02 | 3.7537e+01\n",
      "  141200 | 2.78e-04 | 2.45e-02 | 3.7573e+01\n",
      "  141300 | 2.78e-04 | 2.45e-02 | 3.7598e+01\n",
      "  141400 | 2.77e-04 | 2.45e-02 | 3.7623e+01\n",
      "  141500 | 2.76e-04 | 2.44e-02 | 3.7647e+01\n",
      "  141600 | 2.76e-04 | 2.44e-02 | 3.7671e+01\n",
      "  141700 | 2.76e-04 | 2.44e-02 | 3.7696e+01\n",
      "  141800 | 2.76e-04 | 2.44e-02 | 3.7721e+01\n",
      "  141900 | 2.74e-04 | 2.43e-02 | 3.7751e+01\n",
      "  142000 | 2.74e-04 | 2.42e-02 | 3.7784e+01\n",
      "  142100 | 2.74e-04 | 2.42e-02 | 3.7809e+01\n",
      "  142200 | 2.74e-04 | 2.42e-02 | 3.7834e+01\n",
      "  142300 | 2.73e-04 | 2.42e-02 | 3.7858e+01\n",
      "  142400 | 2.73e-04 | 2.42e-02 | 3.7882e+01\n",
      "  142500 | 2.73e-04 | 2.41e-02 | 3.7907e+01\n",
      "  142600 | 2.72e-04 | 2.41e-02 | 3.7932e+01\n",
      "  142700 | 2.70e-04 | 2.39e-02 | 3.7958e+01\n",
      "  142800 | 2.70e-04 | 2.39e-02 | 3.7992e+01\n",
      "  142900 | 2.70e-04 | 2.39e-02 | 3.8020e+01\n",
      "  143000 | 2.69e-04 | 2.38e-02 | 3.8044e+01\n",
      "  143100 | 2.69e-04 | 2.38e-02 | 3.8068e+01\n",
      "  143200 | 2.68e-04 | 2.37e-02 | 3.8093e+01\n",
      "  143300 | 2.67e-04 | 2.37e-02 | 3.8117e+01\n",
      "  143400 | 2.67e-04 | 2.36e-02 | 3.8141e+01\n",
      "  143500 | 2.66e-04 | 2.36e-02 | 3.8171e+01\n",
      "  143600 | 2.66e-04 | 2.36e-02 | 3.8202e+01\n",
      "  143700 | 2.66e-04 | 2.36e-02 | 3.8249e+01\n",
      "  143800 | 2.66e-04 | 2.36e-02 | 3.8274e+01\n",
      "  143900 | 2.65e-04 | 2.35e-02 | 3.8298e+01\n",
      "  144000 | 2.64e-04 | 2.34e-02 | 3.8323e+01\n",
      "  144100 | 2.64e-04 | 2.34e-02 | 3.8349e+01\n",
      "  144200 | 2.64e-04 | 2.34e-02 | 3.8372e+01\n",
      "  144300 | 2.64e-04 | 2.33e-02 | 3.8412e+01\n",
      "  144400 | 2.64e-04 | 2.33e-02 | 3.8441e+01\n",
      "  144500 | 2.64e-04 | 2.33e-02 | 3.8466e+01\n",
      "  144600 | 2.64e-04 | 2.33e-02 | 3.8491e+01\n",
      "  144700 | 2.64e-04 | 2.33e-02 | 3.8515e+01\n",
      "  144800 | 2.64e-04 | 2.33e-02 | 3.8540e+01\n",
      "  144900 | 2.62e-04 | 2.32e-02 | 3.8565e+01\n",
      "  145000 | 2.62e-04 | 2.32e-02 | 3.8589e+01\n",
      "  145100 | 2.62e-04 | 2.32e-02 | 3.8614e+01\n",
      "  145200 | 2.61e-04 | 2.31e-02 | 3.8650e+01\n",
      "  145300 | 2.60e-04 | 2.31e-02 | 3.8677e+01\n",
      "  145400 | 2.60e-04 | 2.31e-02 | 3.8702e+01\n",
      "  145500 | 2.60e-04 | 2.31e-02 | 3.8727e+01\n",
      "  145600 | 2.60e-04 | 2.30e-02 | 3.8752e+01\n",
      "  145700 | 2.60e-04 | 2.30e-02 | 3.8777e+01\n",
      "  145800 | 2.59e-04 | 2.30e-02 | 3.8801e+01\n",
      "  145900 | 2.59e-04 | 2.30e-02 | 3.8826e+01\n",
      "  146000 | 2.59e-04 | 2.30e-02 | 3.8850e+01\n",
      "  146100 | 2.59e-04 | 2.29e-02 | 3.8889e+01\n",
      "  146200 | 2.59e-04 | 2.29e-02 | 3.8919e+01\n",
      "  146300 | 2.59e-04 | 2.29e-02 | 3.8944e+01\n",
      "  146400 | 2.59e-04 | 2.29e-02 | 3.8968e+01\n",
      "  146500 | 2.58e-04 | 2.29e-02 | 3.8992e+01\n",
      "  146600 | 2.57e-04 | 2.28e-02 | 3.9016e+01\n",
      "  146700 | 2.57e-04 | 2.28e-02 | 3.9039e+01\n",
      "  146800 | 2.56e-04 | 2.27e-02 | 3.9065e+01\n",
      "  146900 | 2.56e-04 | 2.27e-02 | 3.9089e+01\n",
      "  147000 | 2.54e-04 | 2.25e-02 | 3.9126e+01\n",
      "  147100 | 2.54e-04 | 2.25e-02 | 3.9153e+01\n",
      "  147200 | 2.54e-04 | 2.25e-02 | 3.9178e+01\n",
      "  147300 | 2.54e-04 | 2.25e-02 | 3.9204e+01\n",
      "  147400 | 2.53e-04 | 2.24e-02 | 3.9228e+01\n",
      "  147500 | 2.53e-04 | 2.24e-02 | 3.9252e+01\n",
      "  147600 | 2.53e-04 | 2.24e-02 | 3.9276e+01\n",
      "  147700 | 2.51e-04 | 2.23e-02 | 3.9303e+01\n",
      "  147800 | 2.51e-04 | 2.22e-02 | 3.9335e+01\n",
      "  147900 | 2.50e-04 | 2.22e-02 | 3.9362e+01\n",
      "  148000 | 2.50e-04 | 2.22e-02 | 3.9386e+01\n",
      "  148100 | 2.50e-04 | 2.22e-02 | 3.9411e+01\n",
      "  148200 | 2.50e-04 | 2.22e-02 | 3.9435e+01\n",
      "  148300 | 2.49e-04 | 2.21e-02 | 3.9459e+01\n",
      "  148400 | 2.49e-04 | 2.21e-02 | 3.9484e+01\n",
      "  148500 | 2.49e-04 | 2.20e-02 | 3.9511e+01\n",
      "  148600 | 2.47e-04 | 2.19e-02 | 3.9544e+01\n",
      "  148700 | 2.47e-04 | 2.19e-02 | 3.9569e+01\n",
      "  148800 | 2.47e-04 | 2.19e-02 | 3.9594e+01\n",
      "  148900 | 2.46e-04 | 2.18e-02 | 3.9618e+01\n",
      "  149000 | 2.46e-04 | 2.18e-02 | 3.9644e+01\n",
      "  149100 | 2.46e-04 | 2.18e-02 | 3.9669e+01\n",
      "  149200 | 2.45e-04 | 2.17e-02 | 3.9693e+01\n",
      "  149300 | 2.45e-04 | 2.17e-02 | 3.9719e+01\n",
      "  149400 | 2.44e-04 | 2.16e-02 | 3.9756e+01\n",
      "  149500 | 2.43e-04 | 2.16e-02 | 3.9784e+01\n",
      "  149600 | 2.43e-04 | 2.16e-02 | 3.9809e+01\n",
      "  149700 | 2.43e-04 | 2.16e-02 | 3.9832e+01\n",
      "  149800 | 2.43e-04 | 2.15e-02 | 3.9857e+01\n",
      "  149900 | 2.41e-04 | 2.14e-02 | 3.9881e+01\n",
      "  150000 | 2.41e-04 | 2.14e-02 | 3.9906e+01\n"
     ]
    }
   ],
   "source": [
    "time0 = time.time()\n",
    "n_iter_cd = n * n_iter\n",
    "mu_init = np.zeros(d)\n",
    "cd_inspector = inspector(model.loss, mu_min, verbose=True)\n",
    "mu_cd = Coordinate_descent(mu_init, model.K, cd_prox_g, C, n_iter_cd, callback = cd_inspector)\n",
    "time_cd = time.time() - time0"
   ]
  },
  {
   "cell_type": "code",
   "execution_count": 34,
   "metadata": {},
   "outputs": [
    {
     "name": "stdout",
     "output_type": "stream",
     "text": [
      "Total time needed: 39.90678787231445\n",
      "f_min cd: -0.215263690543\n"
     ]
    }
   ],
   "source": [
    "print(\"Total time needed: \" + str(time_cd))\n",
    "min_cd = cd_inspector.obj[-1] + f_min\n",
    "print(\"f_min cd: \" + str(min_cd))"
   ]
  },
  {
   "cell_type": "code",
   "execution_count": 35,
   "metadata": {},
   "outputs": [
    {
     "data": {
      "image/png": "[encoded data removed]",
      "text/plain": [
       "<matplotlib.figure.Figure at 0x11fe3b278>"
      ]
     },
     "metadata": {},
     "output_type": "display_data"
    }
   ],
   "source": [
    "idx_support_cd = np.where(np.abs(mu_cd) > 1e-5)[0]\n",
    "mu_support_cd = mu_ista[idx_support_cd]\n",
    "plot_ocsvm(X, mu_support_cd, idx_support_cd, rho=1, kernel=kernel_choice)"
   ]
  },
  {
   "cell_type": "markdown",
   "metadata": {},
   "source": [
    "### 4. L-BFGS-B solver using scipy.optimize.fmin_l_bfgs_b"
   ]
  },
  {
   "cell_type": "code",
   "execution_count": 36,
   "metadata": {},
   "outputs": [
    {
     "name": "stdout",
     "output_type": "stream",
     "text": [
      "   it    |   obj    |   err    |   time  \n",
      "       0 | 1.54e-01 | 1.99e-01 | 3.9144e-03\n"
     ]
    }
   ],
   "source": [
    "# Conjugate gradient descent\n",
    "from scipy.optimize import fmin_l_bfgs_b\n",
    "\n",
    "time0 = time.time()\n",
    "mu_init = np.zeros(d)\n",
    "bfgs_inspector = inspector(model.loss, mu_min, verbose=True)\n",
    "mu_bfgs, _, _ = fmin_l_bfgs_b(model.loss, mu_init, model.grad_f, maxiter=n_iter, callback=bfgs_inspector,\n",
    "                              bounds=[(0, C/n) for i in range(n)])\n",
    "time_lbfgs = time.time() - time0"
   ]
  },
  {
   "cell_type": "code",
   "execution_count": 37,
   "metadata": {},
   "outputs": [
    {
     "name": "stdout",
     "output_type": "stream",
     "text": [
      "Total time needed: 0.05011701583862305\n",
      "f_min lbfgs: -0.215142781593\n"
     ]
    }
   ],
   "source": [
    "print(\"Total time needed: \" + str(time_lbfgs))\n",
    "min_lbfgs = bfgs_inspector.obj[-1] + f_min\n",
    "print(\"f_min lbfgs: \" + str(min_lbfgs))"
   ]
  },
  {
   "cell_type": "code",
   "execution_count": 38,
   "metadata": {},
   "outputs": [
    {
     "data": {
      "image/png": "[encoded data removed]",
      "text/plain": [
       "<matplotlib.figure.Figure at 0x11fef2208>"
      ]
     },
     "metadata": {},
     "output_type": "display_data"
    }
   ],
   "source": [
    "idx_support_lbfgs= np.where(np.abs(mu_bfgs) > 1e-05)[0]\n",
    "mu_support_lbfgs = mu_ista[idx_support_lbfgs]\n",
    "plot_ocsvm(X, mu_support_lbfgs, idx_support_lbfgs, rho=1, kernel=kernel_choice)"
   ]
  },
  {
   "cell_type": "markdown",
   "metadata": {},
   "source": [
    "# III. Comparison\n"
   ]
  },
  {
   "cell_type": "markdown",
   "metadata": {
    "collapsed": true
   },
   "source": [
    "We can see that, with 500 iterations, all solvers converge approximatly towards the same minimum:"
   ]
  },
  {
   "cell_type": "code",
   "execution_count": 39,
   "metadata": {},
   "outputs": [
    {
     "name": "stdout",
     "output_type": "stream",
     "text": [
      "f_min ista = -0.207305932698\n",
      "f_min fista = -0.215493997277\n",
      "f_min cd = -0.215263690543\n",
      "f_min lbfgs = -0.215142781593\n"
     ]
    }
   ],
   "source": [
    "print(\"f_min ista = \" + str(min_ista))\n",
    "print(\"f_min fista = \" + str(min_fista))\n",
    "print(\"f_min cd = \" + str(min_cd))\n",
    "print(\"f_min lbfgs = \" + str(min_lbfgs))"
   ]
  },
  {
   "cell_type": "markdown",
   "metadata": {},
   "source": [
    "### A first numerical comparison of the solvers"
   ]
  },
  {
   "cell_type": "code",
   "execution_count": 40,
   "metadata": {
    "scrolled": false
   },
   "outputs": [
    {
     "data": {
      "image/png": "[encoded data removed]",
      "text/plain": [
       "<matplotlib.figure.Figure at 0x121208e48>"
      ]
     },
     "metadata": {},
     "output_type": "display_data"
    }
   ],
   "source": [
    "plt.figure(figsize=(15, 5))\n",
    "plt.subplot(1, 2, 1)\n",
    "\n",
    "inspectors = [ista_inspector, fista_inspector, cd_inspector, bfgs_inspector]\n",
    "solvers = [\"ISTA\", \"FISTA\", \"Coordinate_descent\", \"BFGS\"]\n",
    "\n",
    "scale_cd = [n * i for i in range (n_iter)]\n",
    "\n",
    "for insp in inspectors:\n",
    "    if insp == cd_inspector:\n",
    "        objective = [insp.obj[i] for i in scale_cd]\n",
    "        plt.semilogy(objective, lw=2)\n",
    "    else:\n",
    "        plt.semilogy(insp.obj, lw=2)\n",
    "    \n",
    "    #plt.semilogy(insp.obj, lw=2)\n",
    "    plt.title(\"Loss\", fontsize=18)\n",
    "    plt.xlabel(\"Epoch\", fontsize=14)\n",
    "    plt.ylabel(\"objective\", fontsize=14)\n",
    "plt.legend(solvers)\n",
    "\n",
    "plt.subplot(1, 2, 2)\n",
    "\n",
    "for insp in inspectors:\n",
    "    if insp == cd_inspector:\n",
    "        error=[insp.err[i] for i in scale_cd]\n",
    "        plt.semilogy(error, lw=2)\n",
    "    else:\n",
    "        plt.semilogy(insp.err, lw=2)\n",
    "       \n",
    "    #plt.semilogy(insp.err, lw=2)\n",
    "    plt.title(\"Distance to optimum\", fontsize=18)\n",
    "    plt.xlabel(\"Epoch\", fontsize=14)\n",
    "    plt.ylabel(\"$\\|x_k - x^*\\|_2$\", fontsize=14)\n",
    "plt.legend(solvers);"
   ]
  },
  {
   "cell_type": "markdown",
   "metadata": {},
   "source": [
    "\n",
    "\n",
    "- **Cost per iteration:**\n",
    "\n",
    "\n",
    "The cost of the computation of $\\nabla f$ is n times the cost of the computation of $\\nabla f_i$. In order to compare the two algorithms based on the same complexity, we have changed the scale of the coordinate descent in order to plot one iteration for each n computation of $\\nabla f_i$.\n",
    "\n",
    "\n",
    "- **Rate of convergence (in terms of number of epochs):**\n",
    "\n",
    "With such a conditioning of the problem, we can clearly see that the rate of convergence of the Coordinate descent algorithm is particularly large at the beginning. After a few iterations, the rate of convergence of the L-BFGS algorithm becomes faster. Furthermore, ISTA converges slowly and does not vary much from the inital value after 500 iterations: this algorithm is the less precise. \n",
    "\n"
   ]
  },
  {
   "cell_type": "markdown",
   "metadata": {},
   "source": [
    "### Comparison in terms of computation time:"
   ]
  },
  {
   "cell_type": "code",
   "execution_count": 41,
   "metadata": {},
   "outputs": [
    {
     "data": {
      "image/png": "[encoded data removed]",
      "text/plain": [
       "<matplotlib.figure.Figure at 0x11f9c70b8>"
      ]
     },
     "metadata": {},
     "output_type": "display_data"
    }
   ],
   "source": [
    "plt.figure(figsize=(15, 5))\n",
    "\n",
    "plt.subplot(1, 2, 1)\n",
    "\n",
    "inspectors = [ista_inspector, fista_inspector, bfgs_inspector]\n",
    "\n",
    "solvers = [\"ISTA\", \"FISTA\", \"BFGS\"]\n",
    "\n",
    "for insp in inspectors:\n",
    "    plt.plot(insp.timing, insp.obj)\n",
    "    plt.title(\"Loss\", fontsize=18)\n",
    "    plt.xlabel(\"Computation time\", fontsize=14)\n",
    "    plt.ylabel(\"objective\", fontsize=14)\n",
    "\n",
    "plt.legend(solvers)\n",
    "\n",
    "plt.subplot(1, 2, 2)\n",
    "for insp in inspectors:\n",
    "    plt.plot(insp.timing, insp.err)\n",
    "    plt.title(\"Distance to optimum\", fontsize=18)\n",
    "    plt.xlabel(\"Computation time\", fontsize=14)\n",
    "    plt.ylabel(\"$\\|x_k - x^*\\|_2$\", fontsize=14)\n",
    "\n",
    "plt.legend(solvers);"
   ]
  },
  {
   "cell_type": "code",
   "execution_count": 42,
   "metadata": {},
   "outputs": [
    {
     "name": "stdout",
     "output_type": "stream",
     "text": [
      "Total time needed for Ista (500 iterations): 0.17024588584899902\n",
      "Total time needed for Fista (500 iterations): 0.1943681240081787\n",
      "Total time needed for CD (500*300 iterations): 39.90678787231445\n",
      "Total time needed for CD (normalized for 500 iterations): 0.1330226262410482\n",
      "Total time needed for L-BFGS (500 iterations): 0.05011701583862305\n"
     ]
    }
   ],
   "source": [
    "print(\"Total time needed for Ista (500 iterations): \" + str(time_ista))\n",
    "print(\"Total time needed for Fista (500 iterations): \" + str(time_fista))\n",
    "print(\"Total time needed for CD (500*300 iterations): \" + str(time_cd))\n",
    "print(\"Total time needed for CD (normalized for 500 iterations): \" + str(time_cd/300))\n",
    "print(\"Total time needed for L-BFGS (500 iterations): \" + str(time_lbfgs))"
   ]
  },
  {
   "cell_type": "markdown",
   "metadata": {},
   "source": [
    "- **Running time:**\n",
    "\n",
    "We cannot directly compare the total computational time of the CD algorithm with the running time of the other algorithms since the CD algorithm is implemented with much more iterations than the other algorithms.\n",
    "\n",
    "We observe that the L-BFGS algorithm is the best algorithm in terms of computation time. ISTA has a similar running time as FISTA, whereas CD (normalized for 500 iterations) has a lower running time. \n",
    "\n",
    "\n",
    "\n",
    "\n",
    "\n",
    "To conclude, within the context used in question 12 (conditioning of the problem, linear kernel, smoothness constant, etc.), the L-BFGS algorithm outperforms the other algorithms (CD, ISTA and FISTA) in terms of both running time and number of iterations. Also, ISTA is the less efficient algorithm (largest error, running time). \n"
   ]
  },
  {
   "cell_type": "markdown",
   "metadata": {},
   "source": [
    "## IV. Conditioning of the problem\n",
    "\n",
    "We now change the conditioning of our problem in order to see if the previous conclusions are impacted.\n",
    "\n",
    "\n",
    "### 1. Value of C\n",
    "\n",
    "C is the regularization parameter. For large values of C, the optimization will choose a smaller number of support vectors and thus a smaller margion hyperplane. There is a risk of overfitting. We should have tuned the value of C (with a k-fold cross validation) to obtain the best results.\n",
    "\n",
    "However, we tested differents values of C (0,1, 1, 10, 40, 100, 500, 1000) and taking C=40 seemed to be the best compromise. However, the previous conclusion (see above) is not impacted when varying the value of C.\n",
    "\n",
    "\n",
    "### 2. Using Gaussian kernel\n",
    "\n",
    "\n"
   ]
  },
  {
   "cell_type": "code",
   "execution_count": 43,
   "metadata": {},
   "outputs": [
    {
     "data": {
      "image/png": "[encoded data removed]",
      "text/plain": [
       "<matplotlib.figure.Figure at 0x11fa2cb00>"
      ]
     },
     "metadata": {},
     "output_type": "display_data"
    }
   ],
   "source": [
    "d = 300\n",
    "X = make_blob_dataset(d)\n",
    "plt.scatter(X[:, 0], X[:, 1], color='b');\n",
    "n = len(X)"
   ]
  },
  {
   "cell_type": "code",
   "execution_count": 44,
   "metadata": {},
   "outputs": [
    {
     "name": "stdout",
     "output_type": "stream",
     "text": [
      "Step = 0.00382375958597\n",
      "Check_grad = 9.89769538004e-05\n",
      "We use : <function rbf_kernel at 0x11f8ba8c8>\n",
      "f_min = -1.61830434318\n"
     ]
    }
   ],
   "source": [
    "C = 40\n",
    "model = svm(X, C, linear_kernel=False, gaussian_kernel=True)\n",
    "step = 1. / model.lipschitz_constant()\n",
    "print(\"Step = %s\" % step)\n",
    "\n",
    "# Check that the gradient and the loss numerically match\n",
    "check = check_grad(model.f, model.grad_f, np.random.randn(d))\n",
    "print(\"Check_grad = %s\" % check)\n",
    "\n",
    "kernel_choice = model.kernel_choice\n",
    "print(\"We use : %s\" % kernel_choice)\n",
    "\n",
    "mu_init = np.zeros(d)\n",
    "mu_min, f_min, _ = fmin_l_bfgs_b(model.loss, mu_init, model.grad_f, pgtol=1e-30, factr=1e-30, bounds=[(0, C/n) for i in range(n)])\n",
    "print(\"f_min = %s\" % f_min)"
   ]
  },
  {
   "cell_type": "code",
   "execution_count": 45,
   "metadata": {},
   "outputs": [
    {
     "name": "stdout",
     "output_type": "stream",
     "text": [
      "Number of support vectors: 21\n"
     ]
    },
    {
     "data": {
      "image/png": "[encoded data removed]",
      "text/plain": [
       "<matplotlib.figure.Figure at 0x11fe2d7f0>"
      ]
     },
     "metadata": {},
     "output_type": "display_data"
    }
   ],
   "source": [
    "# Kernel used (there is an option for linear or gaussian kernel in the class \"svm\" - see above):\n",
    "K = kernel_choice(X,X)\n",
    "# Uncomment the following lines when your ocsvm_solver is completed:\n",
    "mu_support, idx_support = ocsvm_solver_v2(K, C)\n",
    "print(\"Number of support vectors: %s\" % idx_support.size)\n",
    "plot_ocsvm(X, mu_support, idx_support, rho=1, kernel=kernel_choice)"
   ]
  },
  {
   "cell_type": "code",
   "execution_count": 46,
   "metadata": {
    "collapsed": true
   },
   "outputs": [],
   "source": [
    "# ISTA\n",
    "time0 = time.time()\n",
    "ista_inspector = inspector(model.loss, mu_min, verbose=False)\n",
    "mu_ista = ista(mu_init, model.grad_f, model.prox_g, n_iter, step, callback = ista_inspector)\n",
    "time_ista = time.time() - time0\n",
    "idx_support_ista = np.where(np.abs(mu_ista) > 1e-5)[0]\n",
    "mu_support_ista = mu_ista[idx_support_ista]\n",
    "# FISTA\n",
    "time0 = time.time()\n",
    "mu_init = np.zeros(d)\n",
    "fista_inspector = inspector(model.loss, mu_min, verbose=False)\n",
    "mu_fista = fista(mu_init, model.grad_f, model.prox_g, n_iter, step, callback = fista_inspector)\n",
    "time_fista = time.time() - time0\n",
    "idx_support_fista = np.where(np.abs(mu_fista) > 1e-5)[0]\n",
    "mu_support_fista = mu_fista[idx_support_fista]\n",
    "# CG\n",
    "time0 = time.time()\n",
    "n_iter_cd = n * n_iter\n",
    "mu_init = np.zeros(d)\n",
    "cd_inspector = inspector(model.loss, mu_min, verbose=False)\n",
    "mu_cd = Coordinate_descent(mu_init, model.K, cd_prox_g, C, n_iter_cd, callback = cd_inspector)\n",
    "time_cd = time.time() - time0\n",
    "idx_support_cd = np.where(np.abs(mu_cd) > 1e-5)[0]\n",
    "mu_support_cd = mu_cd[idx_support_cd]\n",
    "# LBFGS\n",
    "time0 = time.time()\n",
    "mu_init = np.zeros(d)\n",
    "bfgs_inspector = inspector(model.loss, mu_min, verbose=False)\n",
    "mu_bfgs, _, _ = fmin_l_bfgs_b(model.loss, mu_init, model.grad_f, maxiter=n_iter, callback=bfgs_inspector,\n",
    "                              bounds=[(0, C/n) for i in range(n)])\n",
    "time_lbfgs = time.time() - time0\n",
    "idx_support_lbfgs = np.where(np.abs(mu_bfgs) > 1e-5)[0]\n",
    "mu_support_lbfgs = mu_bfgs[idx_support_lbfgs]"
   ]
  },
  {
   "cell_type": "code",
   "execution_count": 47,
   "metadata": {},
   "outputs": [
    {
     "data": {
      "image/png": "[encoded data removed]",
      "text/plain": [
       "<matplotlib.figure.Figure at 0x11f8c9630>"
      ]
     },
     "metadata": {},
     "output_type": "display_data"
    }
   ],
   "source": [
    "plt.figure(figsize=(15, 5))\n",
    "plt.subplot(1, 2, 1)\n",
    "plt.title(\"ISTA\", fontsize=18)\n",
    "plot_ocsvm(X, mu_support_ista, idx_support_ista, rho=1, kernel=kernel_choice)\n",
    "plt.subplot(1, 2, 2)\n",
    "plt.title(\"FISTA\", fontsize=18)\n",
    "plot_ocsvm(X, mu_support_fista, idx_support_fista, rho=1, kernel=kernel_choice)"
   ]
  },
  {
   "cell_type": "code",
   "execution_count": 48,
   "metadata": {},
   "outputs": [
    {
     "data": {
      "image/png": "[encoded data removed]",
      "text/plain": [
       "<matplotlib.figure.Figure at 0x11feb55c0>"
      ]
     },
     "metadata": {},
     "output_type": "display_data"
    }
   ],
   "source": [
    "plt.figure(figsize=(15, 5))\n",
    "plt.subplot(1, 2, 1)\n",
    "plt.title(\"CD\", fontsize=18)\n",
    "plot_ocsvm(X, mu_support_cd, idx_support_cd, rho=1, kernel=kernel_choice)\n",
    "plt.subplot(1, 2, 2)\n",
    "plt.title(\"L-BFGS\", fontsize=18)\n",
    "plot_ocsvm(X, mu_support_lbfgs, idx_support_lbfgs, rho=1, kernel=kernel_choice)"
   ]
  },
  {
   "cell_type": "code",
   "execution_count": 49,
   "metadata": {},
   "outputs": [
    {
     "name": "stdout",
     "output_type": "stream",
     "text": [
      "f_min ista = -0.207305932698\n",
      "f_min fista = -0.215493997277\n",
      "f_min cd = -0.215263690543\n",
      "f_min lbfgs = -0.215142781593\n"
     ]
    }
   ],
   "source": [
    "print(\"f_min ista = \" + str(min_ista))\n",
    "print(\"f_min fista = \" + str(min_fista))\n",
    "print(\"f_min cd = \" + str(min_cd))\n",
    "print(\"f_min lbfgs = \" + str(min_lbfgs))"
   ]
  },
  {
   "cell_type": "code",
   "execution_count": 50,
   "metadata": {},
   "outputs": [
    {
     "data": {
      "image/png": "[encoded data removed]",
      "text/plain": [
       "<matplotlib.figure.Figure at 0x11f9aaf98>"
      ]
     },
     "metadata": {},
     "output_type": "display_data"
    }
   ],
   "source": [
    "plt.figure(figsize=(15, 5))\n",
    "plt.subplot(1, 2, 1)\n",
    "\n",
    "inspectors = [ista_inspector, fista_inspector, cd_inspector, bfgs_inspector]\n",
    "solvers = [\"ISTA\", \"FISTA\", \"Coordinate_descent\", \"BFGS\"]\n",
    "\n",
    "scale_cd = [n * i for i in range (n_iter)]\n",
    "\n",
    "for insp in inspectors:\n",
    "    if insp == cd_inspector:\n",
    "        objective = [insp.obj[i] for i in scale_cd]\n",
    "        plt.semilogy(objective, lw=2)\n",
    "    else:\n",
    "        plt.semilogy(insp.obj, lw=2)\n",
    "    \n",
    "    #plt.semilogy(insp.obj, lw=2)\n",
    "    plt.title(\"Loss\", fontsize=18)\n",
    "    plt.xlabel(\"Epoch\", fontsize=14)\n",
    "    plt.ylabel(\"objective\", fontsize=14)\n",
    "plt.legend(solvers)\n",
    "\n",
    "plt.subplot(1, 2, 2)\n",
    "\n",
    "for insp in inspectors:\n",
    "    if insp == cd_inspector:\n",
    "        error=[insp.err[i] for i in scale_cd]\n",
    "        plt.semilogy(error, lw=2)\n",
    "    else:\n",
    "        plt.semilogy(insp.err, lw=2)\n",
    "       \n",
    "    #plt.semilogy(insp.err, lw=2)\n",
    "    plt.title(\"Distance to optimum\", fontsize=18)\n",
    "    plt.xlabel(\"Epoch\", fontsize=14)\n",
    "    plt.ylabel(\"$\\|x_k - x^*\\|_2$\", fontsize=14)\n",
    "plt.legend(solvers);"
   ]
  },
  {
   "cell_type": "code",
   "execution_count": 51,
   "metadata": {},
   "outputs": [
    {
     "name": "stdout",
     "output_type": "stream",
     "text": [
      "Total time needed for Ista (500 iterations): 0.13893389701843262\n",
      "Total time needed for Fista (500 iterations): 0.1415848731994629\n",
      "Total time needed for CD (500*300 iterations): 40.612184047698975\n",
      "Total time needed for CD (normalized for 500 iterations): 0.13537394682566325\n",
      "Total time needed for L-BFGS (500 iterations): 0.023611068725585938\n"
     ]
    }
   ],
   "source": [
    "print(\"Total time needed for Ista (500 iterations): \" + str(time_ista))\n",
    "print(\"Total time needed for Fista (500 iterations): \" + str(time_fista))\n",
    "print(\"Total time needed for CD (500*300 iterations): \" + str(time_cd))\n",
    "print(\"Total time needed for CD (normalized for 500 iterations): \" + str(time_cd/300))\n",
    "print(\"Total time needed for L-BFGS (500 iterations): \" + str(time_lbfgs))"
   ]
  },
  {
   "cell_type": "markdown",
   "metadata": {},
   "source": [
    "- We obtain similar results as before (with a linear kernel) in terms of speed of convergence: L-BFGS outperforms the other algorithms. However, the classification graphs give better results (the dense region is better separated from the outliers). The boundary between normal samples and outliers may be non linear.\n",
    "\n",
    "- The graphs obtained show that the algorithms do converge to the minimum, and the separation between the data and the outliers is as precise as the one returned by the ocsvm solver, which is quite good. \n",
    "\n",
    "- The classification graphs obtained are quite similar no matter what algorithm we are using. Let's try to make it a little bit harder and to increase the contamination rate."
   ]
  },
  {
   "cell_type": "markdown",
   "metadata": {},
   "source": [
    "### 3. Increasing the contamination rate "
   ]
  },
  {
   "cell_type": "code",
   "execution_count": 52,
   "metadata": {},
   "outputs": [
    {
     "data": {
      "image/png": "[encoded data removed]",
      "text/plain": [
       "<matplotlib.figure.Figure at 0x11fa2ce80>"
      ]
     },
     "metadata": {},
     "output_type": "display_data"
    }
   ],
   "source": [
    "d = 300\n",
    "X = make_blob_dataset(d, contamination= 0.2)\n",
    "plt.scatter(X[:, 0], X[:, 1], color='b');\n",
    "n = len(X)"
   ]
  },
  {
   "cell_type": "code",
   "execution_count": 53,
   "metadata": {},
   "outputs": [
    {
     "name": "stdout",
     "output_type": "stream",
     "text": [
      "Step = 0.00439732969843\n",
      "Check_grad = 2.51478597985e-05\n",
      "We use : <function rbf_kernel at 0x11f8ba8c8>\n",
      "f_min = -1.66532869432\n"
     ]
    }
   ],
   "source": [
    "C = 10 # explanation in the next comments\n",
    "model = svm(X, C, linear_kernel=False, gaussian_kernel=True)\n",
    "step = 1. / model.lipschitz_constant()\n",
    "print(\"Step = %s\" % step)\n",
    "\n",
    "# Check that the gradient and the loss numerically match\n",
    "check = check_grad(model.f, model.grad_f, np.random.randn(d))\n",
    "print(\"Check_grad = %s\" % check)\n",
    "\n",
    "kernel_choice = model.kernel_choice\n",
    "print(\"We use : %s\" % kernel_choice)\n",
    "\n",
    "mu_init = np.zeros(d)\n",
    "mu_min, f_min, _ = fmin_l_bfgs_b(model.loss, mu_init, model.grad_f, pgtol=1e-30, factr=1e-30, bounds=[(0, C/n) for i in range(n)])\n",
    "print(\"f_min = %s\" % f_min)"
   ]
  },
  {
   "cell_type": "code",
   "execution_count": 54,
   "metadata": {},
   "outputs": [
    {
     "name": "stdout",
     "output_type": "stream",
     "text": [
      "Number of support vectors: 78\n"
     ]
    },
    {
     "data": {
      "image/png": "[encoded data removed]",
      "text/plain": [
       "<matplotlib.figure.Figure at 0x121052c18>"
      ]
     },
     "metadata": {},
     "output_type": "display_data"
    }
   ],
   "source": [
    "# Kernel used (there is an option for linear or gaussian kernel in the class \"svm\" - see above):\n",
    "K = kernel_choice(X,X)\n",
    "# Uncomment the following lines when your ocsvm_solver is completed:\n",
    "mu_support, idx_support = ocsvm_solver_v2(K, C)\n",
    "print(\"Number of support vectors: %s\" % idx_support.size)\n",
    "plot_ocsvm(X, mu_support, idx_support, rho=1, kernel=kernel_choice)"
   ]
  },
  {
   "cell_type": "code",
   "execution_count": 55,
   "metadata": {
    "collapsed": true
   },
   "outputs": [],
   "source": [
    "# ISTA\n",
    "time0 = time.time()\n",
    "ista_inspector = inspector(model.loss, mu_min, verbose=False)\n",
    "mu_ista = ista(mu_init, model.grad_f, model.prox_g, n_iter, step, callback = ista_inspector)\n",
    "time_ista = time.time() - time0\n",
    "idx_support_ista = np.where(np.abs(mu_ista) > 1e-5)[0]\n",
    "mu_support_ista = mu_ista[idx_support_ista]\n",
    "# FISTA\n",
    "time0 = time.time()\n",
    "mu_init = np.zeros(d)\n",
    "fista_inspector = inspector(model.loss, mu_min, verbose=False)\n",
    "mu_fista = fista(mu_init, model.grad_f, model.prox_g, n_iter, step, callback = fista_inspector)\n",
    "time_fista = time.time() - time0\n",
    "idx_support_fista = np.where(np.abs(mu_fista) > 1e-5)[0]\n",
    "mu_support_fista = mu_fista[idx_support_fista]\n",
    "# CG\n",
    "time0 = time.time()\n",
    "n_iter_cd = n * n_iter\n",
    "mu_init = np.zeros(d)\n",
    "cd_inspector = inspector(model.loss, mu_min, verbose=False)\n",
    "mu_cd = Coordinate_descent(mu_init, model.K, cd_prox_g, C, n_iter_cd, callback = cd_inspector)\n",
    "time_cd = time.time() - time0\n",
    "idx_support_cd = np.where(np.abs(mu_cd) > 1e-5)[0]\n",
    "mu_support_cd = mu_cd[idx_support_cd]\n",
    "# LBFGS\n",
    "time0 = time.time()\n",
    "mu_init = np.zeros(d)\n",
    "bfgs_inspector = inspector(model.loss, mu_min, verbose=False)\n",
    "mu_bfgs, _, _ = fmin_l_bfgs_b(model.loss, mu_init, model.grad_f, maxiter=n_iter, callback=bfgs_inspector,\n",
    "                              bounds=[(0, C/n) for i in range(n)])\n",
    "time_lbfgs = time.time() - time0\n",
    "idx_support_lbfgs = np.where(np.abs(mu_bfgs) > 1e-5)[0]\n",
    "mu_support_lbfgs = mu_bfgs[idx_support_lbfgs]"
   ]
  },
  {
   "cell_type": "code",
   "execution_count": 56,
   "metadata": {},
   "outputs": [
    {
     "data": {
      "image/png": "[encoded data removed]",
      "text/plain": [
       "<matplotlib.figure.Figure at 0x1212dffd0>"
      ]
     },
     "metadata": {},
     "output_type": "display_data"
    }
   ],
   "source": [
    "plt.figure(figsize=(15, 5))\n",
    "plt.subplot(1, 2, 1)\n",
    "plt.title(\"ISTA\", fontsize=18)\n",
    "plot_ocsvm(X, mu_support_ista, idx_support_ista, rho=1, kernel=kernel_choice)\n",
    "plt.subplot(1, 2, 2)\n",
    "plt.title(\"FISTA\", fontsize=18)\n",
    "plot_ocsvm(X, mu_support_fista, idx_support_fista, rho=1, kernel=kernel_choice)"
   ]
  },
  {
   "cell_type": "code",
   "execution_count": 57,
   "metadata": {},
   "outputs": [
    {
     "data": {
      "image/png": "[encoded data removed]",
      "text/plain": [
       "<matplotlib.figure.Figure at 0x11fddc320>"
      ]
     },
     "metadata": {},
     "output_type": "display_data"
    }
   ],
   "source": [
    "plt.figure(figsize=(15, 5))\n",
    "plt.subplot(1, 2, 1)\n",
    "plt.title(\"CD\", fontsize=18)\n",
    "plot_ocsvm(X, mu_support_cd, idx_support_cd, rho=1, kernel=kernel_choice)\n",
    "plt.subplot(1, 2, 2)\n",
    "plt.title(\"L-BFGS\", fontsize=18)\n",
    "plot_ocsvm(X, mu_support_lbfgs, idx_support_lbfgs, rho=1, kernel=kernel_choice)"
   ]
  },
  {
   "cell_type": "code",
   "execution_count": 58,
   "metadata": {},
   "outputs": [
    {
     "name": "stdout",
     "output_type": "stream",
     "text": [
      "f_min ista = -0.207305932698\n",
      "f_min fista = -0.215493997277\n",
      "f_min cd = -0.215263690543\n",
      "f_min lbfgs = -0.215142781593\n"
     ]
    }
   ],
   "source": [
    "print(\"f_min ista = \" + str(min_ista))\n",
    "print(\"f_min fista = \" + str(min_fista))\n",
    "print(\"f_min cd = \" + str(min_cd))\n",
    "print(\"f_min lbfgs = \" + str(min_lbfgs))"
   ]
  },
  {
   "cell_type": "code",
   "execution_count": 59,
   "metadata": {},
   "outputs": [
    {
     "data": {
      "image/png": "[encoded data removed]",
      "text/plain": [
       "<matplotlib.figure.Figure at 0x11fe72f98>"
      ]
     },
     "metadata": {},
     "output_type": "display_data"
    }
   ],
   "source": [
    "plt.figure(figsize=(15, 5))\n",
    "plt.subplot(1, 2, 1)\n",
    "\n",
    "inspectors = [ista_inspector, fista_inspector, cd_inspector, bfgs_inspector]\n",
    "solvers = [\"ISTA\", \"FISTA\", \"Coordinate_descent\", \"BFGS\"]\n",
    "\n",
    "scale_cd = [n * i for i in range (n_iter)]\n",
    "\n",
    "for insp in inspectors:\n",
    "    if insp == cd_inspector:\n",
    "        objective = [insp.obj[i] for i in scale_cd]\n",
    "        plt.semilogy(objective, lw=2)\n",
    "    else:\n",
    "        plt.semilogy(insp.obj, lw=2)\n",
    "    \n",
    "    #plt.semilogy(insp.obj, lw=2)\n",
    "    plt.title(\"Loss\", fontsize=18)\n",
    "    plt.xlabel(\"Epoch\", fontsize=14)\n",
    "    plt.ylabel(\"objective\", fontsize=14)\n",
    "plt.legend(solvers)\n",
    "\n",
    "plt.subplot(1, 2, 2)\n",
    "\n",
    "for insp in inspectors:\n",
    "    if insp == cd_inspector:\n",
    "        error=[insp.err[i] for i in scale_cd]\n",
    "        plt.semilogy(error, lw=2)\n",
    "    else:\n",
    "        plt.semilogy(insp.err, lw=2)\n",
    "       \n",
    "    #plt.semilogy(insp.err, lw=2)\n",
    "    plt.title(\"Distance to optimum\", fontsize=18)\n",
    "    plt.xlabel(\"Epoch\", fontsize=14)\n",
    "    plt.ylabel(\"$\\|x_k - x^*\\|_2$\", fontsize=14)\n",
    "plt.legend(solvers);"
   ]
  },
  {
   "cell_type": "code",
   "execution_count": 60,
   "metadata": {},
   "outputs": [
    {
     "name": "stdout",
     "output_type": "stream",
     "text": [
      "Total time needed for Ista (500 iterations): 0.16072773933410645\n",
      "Total time needed for Fista (500 iterations): 0.17572402954101562\n",
      "Total time needed for CD (500*300 iterations): 48.16186189651489\n",
      "Total time needed for CD (normalized for 500 iterations): 0.16053953965504963\n",
      "Total time needed for L-BFGS (500 iterations): 0.0641322135925293\n"
     ]
    }
   ],
   "source": [
    "print(\"Total time needed for Ista (500 iterations): \" + str(time_ista))\n",
    "print(\"Total time needed for Fista (500 iterations): \" + str(time_fista))\n",
    "print(\"Total time needed for CD (500*300 iterations): \" + str(time_cd))\n",
    "print(\"Total time needed for CD (normalized for 500 iterations): \" + str(time_cd/300))\n",
    "print(\"Total time needed for L-BFGS (500 iterations): \" + str(time_lbfgs))"
   ]
  },
  {
   "cell_type": "markdown",
   "metadata": {},
   "source": [
    "#### Using C = 40 (not depicted here) : \n",
    "When keeping the same value of C as before, we get the following results:\n",
    "- Increasing the contamination of the dataset makes it harder for the algorithms to find the right separation between the data and the outliers. However, we still do not see any improvements nor changes in the graphs of the algorithms, this means that even though the algorithms are different and does not converge with the same speed, the minimum reached is approximatively the same for all of them.\n",
    "\n",
    "- The algorithms perform poorly. Indeed, when increasing the contamination of the data set, the separation between the outliers and the rest of the data gets blurred. We can see here that the limit drawn is too unrestrictive.\n",
    "\n",
    "\n",
    "#### Using C = 10 (depicted above) : \n",
    "\n",
    "Since those results are quite bad, we decided to restrict more our problem and shrink C to 10. Using this value, we get the following results:\n",
    "\n",
    "- The algorithms converge to the right minimum, the limit separating both the outliers and the rest of the data is restrictive taking into acounting data regardless of all the outliers. \n",
    "\n",
    "- When decreasing the value of C, coordinate descent decreases in less epochs than FISTA and ISTA. It is the one getting the closest to the minimum.\n",
    "\n",
    "$\\Rightarrow$ When the data is noisy we have to modify the constraints of the problem such that $\\mu$ is more constrained, as it happens setting C to a smaller value."
   ]
  },
  {
   "cell_type": "markdown",
   "metadata": {},
   "source": [
    "## V. Test on medium scale datasets\n",
    "\n",
    "The previous results are for a small dataset (n=300). We now increase the size of the dataset in order to have a medium scale dataset.\n",
    "\n",
    "We use C=40 and Gaussian Kernel.\n",
    "\n"
   ]
  },
  {
   "cell_type": "code",
   "execution_count": 61,
   "metadata": {},
   "outputs": [
    {
     "data": {
      "image/png": "[encoded data removed]",
      "text/plain": [
       "<matplotlib.figure.Figure at 0x120911fd0>"
      ]
     },
     "metadata": {},
     "output_type": "display_data"
    }
   ],
   "source": [
    "d = 1000\n",
    "X = make_blob_dataset(d)\n",
    "plt.scatter(X[:, 0], X[:, 1], color='b');\n",
    "n = len(X)"
   ]
  },
  {
   "cell_type": "code",
   "execution_count": 62,
   "metadata": {},
   "outputs": [
    {
     "name": "stdout",
     "output_type": "stream",
     "text": [
      "Step = 0.00114760557589\n",
      "Check_grad = 0.000349215451011\n",
      "We use : <function rbf_kernel at 0x11f8ba8c8>\n",
      "f_min = -1.72241133721\n"
     ]
    }
   ],
   "source": [
    "C = 40 \n",
    "model = svm(X, C, linear_kernel=False, gaussian_kernel=True)\n",
    "step = 1. / model.lipschitz_constant()\n",
    "print(\"Step = %s\" % step)\n",
    "\n",
    "# Check that the gradient and the loss numerically match\n",
    "check = check_grad(model.f, model.grad_f, np.random.randn(d))\n",
    "print(\"Check_grad = %s\" % check)\n",
    "kernel_choice = model.kernel_choice\n",
    "print(\"We use : %s\" % kernel_choice)\n",
    "\n",
    "mu_init = np.zeros(d)\n",
    "mu_min, f_min, _ = fmin_l_bfgs_b(model.loss, mu_init, model.grad_f, pgtol=1e-30, factr=1e-30, bounds=[(0, C/n) for i in range(n)])\n",
    "print(\"f_min = %s\" % f_min)"
   ]
  },
  {
   "cell_type": "code",
   "execution_count": 63,
   "metadata": {
    "collapsed": true
   },
   "outputs": [],
   "source": [
    "K = kernel_choice(X,X)"
   ]
  },
  {
   "cell_type": "code",
   "execution_count": 64,
   "metadata": {},
   "outputs": [
    {
     "name": "stdout",
     "output_type": "stream",
     "text": [
      "Number of support vectors: 68\n"
     ]
    }
   ],
   "source": [
    "mu_support, idx_support = ocsvm_solver_v2(K, C)\n",
    "print(\"Number of support vectors: %s\" % idx_support.size)"
   ]
  },
  {
   "cell_type": "code",
   "execution_count": 65,
   "metadata": {},
   "outputs": [
    {
     "data": {
      "image/png": "[encoded data removed]",
      "text/plain": [
       "<matplotlib.figure.Figure at 0x120d76240>"
      ]
     },
     "metadata": {},
     "output_type": "display_data"
    }
   ],
   "source": [
    "plot_ocsvm(X, mu_support, idx_support, rho=1, kernel=kernel_choice)"
   ]
  },
  {
   "cell_type": "code",
   "execution_count": 66,
   "metadata": {
    "collapsed": true
   },
   "outputs": [],
   "source": [
    "# ISTA\n",
    "time0 = time.time()\n",
    "ista_inspector = inspector(model.loss, mu_min, verbose=False)\n",
    "mu_ista = ista(mu_init, model.grad_f, model.prox_g, n_iter, step, callback = ista_inspector)\n",
    "time_ista = time.time() - time0\n",
    "idx_support_ista = np.where(np.abs(mu_ista) > 1e-5)[0]\n",
    "mu_support_ista = mu_ista[idx_support_ista]\n",
    "# FISTA\n",
    "time0 = time.time()\n",
    "mu_init = np.zeros(d)\n",
    "fista_inspector = inspector(model.loss, mu_min, verbose=False)\n",
    "mu_fista = fista(mu_init, model.grad_f, model.prox_g, n_iter, step, callback = fista_inspector)\n",
    "time_fista = time.time() - time0\n",
    "idx_support_fista = np.where(np.abs(mu_fista) > 1e-5)[0]\n",
    "mu_support_fista = mu_fista[idx_support_fista]\n",
    "# CG\n",
    "time0 = time.time()\n",
    "n_iter_cd = n * n_iter\n",
    "mu_init = np.zeros(d)\n",
    "cd_inspector = inspector(model.loss, mu_min, verbose=False)\n",
    "mu_cd = Coordinate_descent(mu_init, model.K, cd_prox_g, C, n_iter_cd, callback = cd_inspector)\n",
    "time_cd = time.time() - time0\n",
    "idx_support_cd = np.where(np.abs(mu_cd) > 1e-5)[0]\n",
    "mu_support_cd = mu_cd[idx_support_cd]\n",
    "# LBFGS\n",
    "time0 = time.time()\n",
    "mu_init = np.zeros(d)\n",
    "bfgs_inspector = inspector(model.loss, mu_min, verbose=False)\n",
    "mu_bfgs, _, _ = fmin_l_bfgs_b(model.loss, mu_init, model.grad_f, maxiter=n_iter, callback=bfgs_inspector,\n",
    "                              bounds=[(0, C/n) for i in range(n)])\n",
    "time_lbfgs = time.time() - time0\n",
    "idx_support_lbfgs = np.where(np.abs(mu_bfgs) > 1e-5)[0]\n",
    "mu_support_lbfgs = mu_bfgs[idx_support_lbfgs]"
   ]
  },
  {
   "cell_type": "code",
   "execution_count": 67,
   "metadata": {},
   "outputs": [
    {
     "data": {
      "image/png": "[encoded data removed]",
      "text/plain": [
       "<matplotlib.figure.Figure at 0x114784198>"
      ]
     },
     "metadata": {},
     "output_type": "display_data"
    }
   ],
   "source": [
    "plt.figure(figsize=(15, 5))\n",
    "plt.subplot(1, 2, 1)\n",
    "\n",
    "inspectors = [ista_inspector, fista_inspector, cd_inspector, bfgs_inspector]\n",
    "solvers = [\"ISTA\", \"FISTA\", \"Coordinate_descent\", \"BFGS\"]\n",
    "\n",
    "scale_cd = [n * i for i in range (n_iter)]\n",
    "\n",
    "for insp in inspectors:\n",
    "    if insp == cd_inspector:\n",
    "        objective = [insp.obj[i] for i in scale_cd]\n",
    "        plt.semilogy(objective, lw=2)\n",
    "    else:\n",
    "        plt.semilogy(insp.obj, lw=2)\n",
    "    \n",
    "    #plt.semilogy(insp.obj, lw=2)\n",
    "    plt.title(\"Loss\", fontsize=18)\n",
    "    plt.xlabel(\"Epoch\", fontsize=14)\n",
    "    plt.ylabel(\"objective\", fontsize=14)\n",
    "plt.legend(solvers)\n",
    "\n",
    "plt.subplot(1, 2, 2)\n",
    "\n",
    "for insp in inspectors:\n",
    "    if insp == cd_inspector:\n",
    "        error=[insp.err[i] for i in scale_cd]\n",
    "        plt.semilogy(error, lw=2)\n",
    "    else:\n",
    "        plt.semilogy(insp.err, lw=2)\n",
    "       \n",
    "    #plt.semilogy(insp.err, lw=2)\n",
    "    plt.title(\"Distance to optimum\", fontsize=18)\n",
    "    plt.xlabel(\"Epoch\", fontsize=14)\n",
    "    plt.ylabel(\"$\\|x_k - x^*\\|_2$\", fontsize=14)\n",
    "plt.legend(solvers);"
   ]
  },
  {
   "cell_type": "code",
   "execution_count": 68,
   "metadata": {},
   "outputs": [
    {
     "name": "stdout",
     "output_type": "stream",
     "text": [
      "f_min ista = -0.207305932698\n",
      "f_min fista = -0.215493997277\n",
      "f_min cd = -0.215263690543\n",
      "f_min lbfgs = -0.215142781593\n"
     ]
    }
   ],
   "source": [
    "print(\"f_min ista = \" + str(min_ista))\n",
    "print(\"f_min fista = \" + str(min_fista))\n",
    "print(\"f_min cd = \" + str(min_cd))\n",
    "print(\"f_min lbfgs = \" + str(min_lbfgs))"
   ]
  },
  {
   "cell_type": "code",
   "execution_count": 69,
   "metadata": {},
   "outputs": [
    {
     "name": "stdout",
     "output_type": "stream",
     "text": [
      "Total time needed for Ista (500 iterations): 1.8591828346252441\n",
      "Total time needed for Fista (500 iterations): 1.8524270057678223\n",
      "Total time needed for CD (500*300 iterations): 804.9020140171051\n",
      "Total time needed for CD (normalized for 500 iterations): 0.8049020140171051\n",
      "Total time needed for L-BFGS (500 iterations): 0.2790253162384033\n"
     ]
    }
   ],
   "source": [
    "print(\"Total time needed for Ista (500 iterations): \" + str(time_ista))\n",
    "print(\"Total time needed for Fista (500 iterations): \" + str(time_fista))\n",
    "print(\"Total time needed for CD (500*300 iterations): \" + str(time_cd))\n",
    "print(\"Total time needed for CD (normalized for 500 iterations): \" + str(time_cd/1000))\n",
    "print(\"Total time needed for L-BFGS (500 iterations): \" + str(time_lbfgs))"
   ]
  },
  {
   "cell_type": "markdown",
   "metadata": {},
   "source": [
    "The problem of the memory usage appears when we increase the size of the data.\n",
    "\n",
    "The L-BFGS and CD algorithms outperform ISTA and FISTA in terms of precision, number of iterations and running time.\n",
    "\n",
    "The CD algorithm has the advantage to process only a small part of the data at each iteration.\n",
    "The L-BFGS is also particularly useful in the context of medium dataset since it stores only a few vectors that are used to approximate the inverse of the hessian (the memory usage is linear in the dimension of problem).\n"
   ]
  },
  {
   "cell_type": "markdown",
   "metadata": {},
   "source": [
    "## BONUS (Hard): \n",
    "\n",
    "For the coordinate descent method there exist some smart updates provided you use a linear kernel.\n",
    "**Explain without implementing it how such smart updates could work for the coordinate descent solver.\n",
    "**"
   ]
  },
  {
   "cell_type": "markdown",
   "metadata": {},
   "source": [
    "For the coordinate descent, the updates are: \n",
    "```python\n",
    "    for k in range(n_iter + 1):\n",
    "\n",
    "        i = randint(0, n-1)\n",
    "        grad_f= A.dot(mu) - np.ones((n,))\n",
    "        step=1/L[i]\n",
    "        mu_new[i] = prox_g(mu[i]-step*grad_f, C, n)\n",
    "            \n",
    "        mu = mu_new.copy()\n",
    "```\n",
    "       \n",
    "Instead of computing the product\n",
    "```python       \n",
    "grad_f= A.dot(mu) - np.ones((n,))\n",
    "```\n",
    "whitch can be really costly when the size of the sample is big, we can compute a smart update where at each iteration i we only modify the ith line of grad_f :\n",
    "\n",
    "```python\n",
    "    Residual = A.dot(mu) - np.ones((n,))   \n",
    "    for k in range(n_iter + 1):\n",
    "\n",
    "        i = randint(0, n-1)\n",
    "        grad_f= Residual[i]\n",
    "        step=1/L[i]\n",
    "        mu_new[i] = prox_g(mu[i]-step*grad_f, C, n)\n",
    "            \n",
    "        Residual+=(mu_new[i]-mu[i])*A[i,:]\n",
    "        mu = mu_new.copy()\n",
    "```\n",
    "\n",
    "However, since the matrix $K$ is already computed and is not modified at all through the algorithm, this smart update works with all sorts of kernels, linear or not."
   ]
  },
  {
   "cell_type": "markdown",
   "metadata": {
    "collapsed": true
   },
   "source": [
    "## Smart updates for SVM\n",
    "\n",
    "The following idea and proof was derived and mostly taken from the following article : https://www.csie.ntu.edu.tw/~cjlin/papers/cddual.pdf\n",
    "In each iteration of the coordinate descent, a single $\\mu_i $ is updated solving the following subproblem:\n",
    "\n",
    "$\n",
    "(\\mathcal{SP}): \n",
    " \\left\\{\n",
    " \\begin{array}{lll}\n",
    " min_{d} f(\\mu_i ^t + d e_i)\\\\\n",
    " \\\\\n",
    " 0 < \\mu_i ^t + d e_i <\\frac{C}{n}\n",
    " \\end{array}\n",
    " \\right .\n",
    "$\n",
    "\n",
    "where $e_i$ takes 1 in the $i^th$ coordinate and 0 everywhere else.\\\\\n",
    "\n",
    "We have then:\n",
    "\\begin{aligned}\n",
    "f(\\mu_i ^t + d e_i) &= \\frac{1}{2} (\\mu_i^t + de_i)^T\\ K\\ (\\mu_i^t + de_i) - (\\mu_i^t + de_i)^T \\mathbb(1)_n\\\\\n",
    "&= \\frac{d^2}{2}\\ e_i^T K e_i +\\ \\frac{1}{2} d e_i^T K \\mu_i^{t^T} +\\ \\frac{1}{2} \\mu_i^t Kde_i - d  + constante\\\\ \n",
    "&= \\frac{d^2}{2}\\ K_{ii} +\\ d e_i^T K \\mu_i ^{t^T} - d  + constante\\\\\n",
    "&= \\frac{d^2}{2}\\ K_{ii} +\\ \\nabla_i f(\\mu_i ^t)d  + constante\n",
    "\\end{aligned}\n",
    "\n",
    "the $\\mathcal(SP)$ problem has an optimum in d = 0. However, when d is equal to 0 there is no need to update $\\mu_i^t$ we move directly to $\\mu_{i+1}^t$.\\\\\n",
    "With the computation above, d = 0 is an optimum of the problem if and only if $\\nabla_i^d f(\\mu_i ^t)=0$, where: \\\\\n",
    "\n",
    "$\n",
    "(\\nabla_i^d f(x)): \n",
    " \\left\\{\n",
    " \\begin{aligned}\n",
    " \\begin{array}{lll}\n",
    " \\nabla_i f(x)\\ &if\\ 0 < x_i < \\frac{C}{n}\n",
    " \\\\\n",
    " min(0, \\nabla_i f(x))\\ &if\\ x_i = 0\n",
    " \\\\\n",
    " max(0, \\nabla_i f(x))\\ &if\\ x_i = \\frac{C}{n}\n",
    " \\end{array}\n",
    " \\end{aligned}\n",
    " \\right .\n",
    "$\n",
    "\n",
    "\n",
    "if $\\nabla_i^d f(\\mu_i ^t)\\neq0$ we have to find the optimal solution for $(\\mathcal{SP})$:\n",
    "\n",
    "\n",
    "if $K_{ii} > 0$, then $d_{Optimal} = \\frac{-\\nabla_i f(\\mu_i ^t)}{K_{ii}}$. we can update $\\mu_i^t$ as follows :\n",
    "$$\n",
    "\\mu_i^{t+1} = min(max(\\mu_i^{t} - \\frac{-\\nabla_i f(\\mu_i ^t)}{K_{ii}},0),\\frac{C}{n})\n",
    "$$\n",
    "\n",
    "In order to update $\\mu_i^t$ we need to compute $K_{ii}$ which can be stored easily since $K = X^T X$ and $\\nabla_i f(\\mu_i ^t)$. Therefore, we will be needing the first smart update we have introduced, so that the compute of $\\nabla_i f(\\mu_i ^t)$ does not cost much.\\\\\n",
    "\n",
    "if $K_{ii}=0$ then $x_i = 0$, we have then $\\nabla_i f(\\mu_i ^t) = -1$, thus $\\mu_i^{t+1} = \\frac{C}{n}$\n",
    "\n",
    "We obtain the following algorithm: \\\\\n",
    "\n",
    "- while $\\mu$ not optimal :\n",
    "\n",
    "$G = K\\mu - 1$\n",
    "\n",
    "For i = 1 .. n\n",
    "\n",
    "\n",
    "$\n",
    "PG: \n",
    " \\left\\{\n",
    " \\begin{aligned}\n",
    " \\begin{array}{lll}\n",
    " G\\ &if\\ 0 < x_i < \\frac{C}{n}\n",
    " \\\\\n",
    " min(0, G)\\ &if\\ x_i = 0\n",
    " \\\\\n",
    " max(0, G)\\ &if\\ x_i = \\frac{C}{n}\n",
    " \\end{array}\n",
    " \\end{aligned}\n",
    " \\right .\n",
    "$\n",
    "\n",
    "\n",
    "if |PG|$\\neq 0$:\n",
    "\n",
    "\n",
    "$\n",
    "\\mu_i^t = \\mu_{i,new}^t\\\\\n",
    "\\mu_{i,new}^t= min(max(\\mu_i^t - \\frac{G}{K_{ii}},0),\\frac{C}{n}) \\\\\n",
    "G = (mu_{i,new}^t-mu_{i})*K_{i,:}\n",
    "$\n",
    "\n",
    "\n",
    "If we ever want to get a more detailed proof taking into acount matters of memory and RAM, we can also look into this article : http://wan.poly.edu/KDD2012/docs/p177.pdf which goes deeper into the problem especially by using the dual problem property that can potentially reduce the size of optimization problem by carefully choosing a subset of the data."
   ]
  },
  {
   "cell_type": "code",
   "execution_count": null,
   "metadata": {
    "collapsed": true
   },
   "outputs": [],
   "source": []
  }
 ],
 "metadata": {
  "kernelspec": {
   "display_name": "Python 3",
   "language": "python",
   "name": "python3"
  },
  "language_info": {
   "codemirror_mode": {
    "name": "ipython",
    "version": 3
   },
   "file_extension": ".py",
   "mimetype": "text/x-python",
   "name": "python",
   "nbconvert_exporter": "python",
   "pygments_lexer": "ipython3",
   "version": "3.5.4"
  }
 },
 "nbformat": 4,
 "nbformat_minor": 1
}
